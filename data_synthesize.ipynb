{
 "cells": [
  {
   "cell_type": "code",
   "execution_count": null,
   "metadata": {},
   "outputs": [],
   "source": [
    "import matplotlib.pyplot as plt\n",
    "import numpy as np\n",
    "from PIL import Image\n",
    "from itertools import combinations\n",
    "import hashlib\n",
    "import pickle\n",
    "import utils"
   ]
  },
  {
   "cell_type": "markdown",
   "metadata": {},
   "source": [
    "## Exhaustive Generation"
   ]
  },
  {
   "cell_type": "code",
   "execution_count": 7,
   "metadata": {},
   "outputs": [],
   "source": [
    "def get_image_hash(l):\n",
    "    ls = ''.join(map(str, l))\n",
    "    hash_ = hashlib.md5(ls.encode())\n",
    "    fn = f'{hash_.hexdigest()[:8]}'\n",
    "    return fn"
   ]
  },
  {
   "cell_type": "code",
   "execution_count": 17,
   "metadata": {},
   "outputs": [],
   "source": [
    "def save_items(num_circles=12, radius=0.5, fill_list=[], img_size=(224, 224), edgecolor='black', facecolor='black', folder='generated_set/'):\n",
    "    fig, ax = plt.subplots(figsize=(img_size[0] / 100, img_size[1] / 100), dpi=100)\n",
    "    ax.set_aspect('equal')\n",
    "    \n",
    "    for i in range(num_circles):\n",
    "        circle = plt.Circle((i * (2 * radius + 1), 0), radius, fill=fill_list[i], edgecolor=edgecolor, facecolor=facecolor)\n",
    "        ax.add_artist(circle)\n",
    "\n",
    "    ax.set_xlim(-1, num_circles * (2 * radius + 1) - 1)\n",
    "    ax.set_ylim(-1, 1)\n",
    "    ax.axis('off')\n",
    "\n",
    "    fig.canvas.draw()\n",
    "    image = np.frombuffer(fig.canvas.tostring_rgb(), dtype=np.uint8)\n",
    "    image = image.reshape(fig.canvas.get_width_height()[::-1] + (3,))\n",
    "\n",
    "    image = Image.fromarray(image).resize(img_size)\n",
    "    image = np.array(image)\n",
    "    plt.close(fig)\n",
    "    if folder:\n",
    "        fn = folder + get_image_hash(fill_list) + '.png'\n",
    "    else:\n",
    "        fn = get_image_hash(fill_list) + '.png'\n",
    "    Image.fromarray(image).save(fn)\n",
    "# save_items(radius=0.75, fill_list=[1, 0, 0, 0, 0, 1, 0, 0, 0, 0, 0, 0])"
   ]
  },
  {
   "cell_type": "code",
   "execution_count": 21,
   "metadata": {},
   "outputs": [
    {
     "name": "stdout",
     "output_type": "stream",
     "text": [
      "Number of lists: 3784\n"
     ]
    }
   ],
   "source": [
    "def generate_binary_lists(length=12, min_ones=4, max_ones=10):\n",
    "    ret = []\n",
    "    for ones in range(min_ones, max_ones + 1):\n",
    "        for idxs in combinations(range(length), ones):\n",
    "            lst = [0] * length\n",
    "            for idx in idxs:\n",
    "                lst[idx] = 1\n",
    "            ret.append(lst)\n",
    "    return ret\n",
    "all_lists = generate_binary_lists()\n",
    "print(\"Number of lists:\", len(all_lists))"
   ]
  },
  {
   "cell_type": "code",
   "execution_count": 27,
   "metadata": {},
   "outputs": [],
   "source": [
    "def generate_dict(all_lists, hashes):\n",
    "    d = {}\n",
    "    for i in range(len(all_lists)):\n",
    "        d[hashes[i]] = all_lists[i]\n",
    "    with open('mappings/exhaustive_mapping.pkl', 'wb') as f:\n",
    "        pickle.dump(d, f)\n",
    "    # return d"
   ]
  },
  {
   "cell_type": "code",
   "execution_count": 29,
   "metadata": {},
   "outputs": [],
   "source": [
    "def load_dict(path):\n",
    "    with open(path, 'rb') as f:\n",
    "        return pickle.load(f)"
   ]
  },
  {
   "cell_type": "code",
   "execution_count": null,
   "metadata": {},
   "outputs": [],
   "source": [
    "hashes = []\n",
    "for list_ in all_lists:\n",
    "    hashes.append(get_image_hash(list_))\n",
    "assert len(hashes) == len(set(hashes))\n",
    "\n",
    "generate_dict(all_lists, hashes)\n",
    "\n",
    "for list_ in all_lists:\n",
    "    save_items(radius=0.75, fill_list=list_, edgecolor='black', facecolor='black', folder='generated_set/')"
   ]
  }
 ],
 "metadata": {
  "kernelspec": {
   "display_name": "pytorch",
   "language": "python",
   "name": "pytorch-gpu-python-3-10"
  },
  "language_info": {
   "codemirror_mode": {
    "name": "ipython",
    "version": 3
   },
   "file_extension": ".py",
   "mimetype": "text/x-python",
   "name": "python",
   "nbconvert_exporter": "python",
   "pygments_lexer": "ipython3",
   "version": "3.10.13"
  }
 },
 "nbformat": 4,
 "nbformat_minor": 2
}
