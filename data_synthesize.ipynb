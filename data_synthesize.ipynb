{
 "cells": [
  {
   "cell_type": "code",
   "execution_count": 1,
   "metadata": {},
   "outputs": [],
   "source": [
    "import matplotlib.pyplot as plt\n",
    "import numpy as np\n",
    "from PIL import Image\n",
    "import hashlib"
   ]
  },
  {
   "cell_type": "code",
   "execution_count": 7,
   "metadata": {},
   "outputs": [],
   "source": [
    "def get_image_hash(l):\n",
    "    ls = ''.join(map(str, l))\n",
    "    hash_ = hashlib.md5(ls.encode())\n",
    "    fn = f'{hash_.hexdigest()[:8]}'\n",
    "    return fn"
   ]
  },
  {
   "cell_type": "code",
   "execution_count": null,
   "metadata": {},
   "outputs": [],
   "source": [
    "def save_items(num_circles=12, radius=0.5, fill_list=[], img_size=(224, 224), edgecolor='black', facecolor='black', folder='generated_set/'):\n",
    "    fig, ax = plt.subplots(figsize=(img_size[0] / 100, img_size[1] / 100), dpi=100)\n",
    "    ax.set_aspect('equal')\n",
    "    \n",
    "    for i in range(num_circles):\n",
    "        circle = plt.Circle((i * (2 * radius + 1), 0), radius, fill=fill_list[i], edgecolor=edgecolor, facecolor=facecolor)\n",
    "        ax.add_artist(circle)\n",
    "\n",
    "    ax.set_xlim(-1, num_circles * (2 * radius + 1) - 1)\n",
    "    ax.set_ylim(-1, 1)\n",
    "    ax.axis('off')\n",
    "\n",
    "    fig.canvas.draw()\n",
    "    image = np.frombuffer(fig.canvas.tostring_rgb(), dtype=np.uint8)\n",
    "    image = image.reshape(fig.canvas.get_width_height()[::-1] + (3,))\n",
    "\n",
    "    image = Image.fromarray(image).resize(img_size)\n",
    "    image = np.array(image)\n",
    "    plt.close(fig)\n",
    "    if folder:\n",
    "        fn = folder + get_image_hash(fill_list) + '.png'\n",
    "    else:\n",
    "        fn = get_image_hash(fill_list) + '.png'\n",
    "    Image.fromarray(image).save(fn)\n",
    "# save_items(radius=0.75, fill_list=[1, 0, 0, 0, 0, 1, 0, 0, 0, 0, 0, 0])"
   ]
  },
  {
   "cell_type": "code",
   "execution_count": 4,
   "metadata": {},
   "outputs": [
    {
     "name": "stdout",
     "output_type": "stream",
     "text": [
      "Number of lists: 3784\n"
     ]
    }
   ],
   "source": [
    "from itertools import combinations\n",
    "\n",
    "def generate_binary_lists(length=12, min_ones=4, max_ones=10):\n",
    "    ret = []\n",
    "    for ones in range(min_ones, max_ones + 1):\n",
    "        for idxs in combinations(range(length), ones):\n",
    "            lst = [0] * length\n",
    "            for idx in idxs:\n",
    "                lst[idx] = 1\n",
    "            ret.append(lst)\n",
    "    return ret\n",
    "all_lists = generate_binary_lists()\n",
    "print(\"Number of lists:\", len(all_lists))"
   ]
  },
  {
   "cell_type": "code",
   "execution_count": 13,
   "metadata": {},
   "outputs": [],
   "source": [
    "hashes = []\n",
    "for list_ in all_lists:\n",
    "    hashes.append(get_image_hash(list_))\n",
    "assert len(hashes) == len(set(hashes))"
   ]
  },
  {
   "cell_type": "code",
   "execution_count": 16,
   "metadata": {},
   "outputs": [
    {
     "name": "stderr",
     "output_type": "stream",
     "text": [
      "C:\\Users\\afxwo\\AppData\\Local\\Temp\\ipykernel_2732\\151576682.py:14: MatplotlibDeprecationWarning: The tostring_rgb function was deprecated in Matplotlib 3.8 and will be removed two minor releases later. Use buffer_rgba instead.\n",
      "  image = np.frombuffer(fig.canvas.tostring_rgb(), dtype=np.uint8)\n"
     ]
    },
    {
     "ename": "ValueError",
     "evalue": "unknown file extension: ",
     "output_type": "error",
     "traceback": [
      "\u001b[1;31m---------------------------------------------------------------------------\u001b[0m",
      "\u001b[1;31mKeyError\u001b[0m                                  Traceback (most recent call last)",
      "File \u001b[1;32mc:\\Users\\afxwo\\anaconda3\\envs\\pytorch\\lib\\site-packages\\PIL\\Image.py:2416\u001b[0m, in \u001b[0;36mImage.save\u001b[1;34m(self, fp, format, **params)\u001b[0m\n\u001b[0;32m   2415\u001b[0m \u001b[38;5;28;01mtry\u001b[39;00m:\n\u001b[1;32m-> 2416\u001b[0m     \u001b[38;5;28mformat\u001b[39m \u001b[38;5;241m=\u001b[39m \u001b[43mEXTENSION\u001b[49m\u001b[43m[\u001b[49m\u001b[43mext\u001b[49m\u001b[43m]\u001b[49m\n\u001b[0;32m   2417\u001b[0m \u001b[38;5;28;01mexcept\u001b[39;00m \u001b[38;5;167;01mKeyError\u001b[39;00m \u001b[38;5;28;01mas\u001b[39;00m e:\n",
      "\u001b[1;31mKeyError\u001b[0m: ''",
      "\nThe above exception was the direct cause of the following exception:\n",
      "\u001b[1;31mValueError\u001b[0m                                Traceback (most recent call last)",
      "Cell \u001b[1;32mIn[16], line 2\u001b[0m\n\u001b[0;32m      1\u001b[0m \u001b[38;5;28;01mfor\u001b[39;00m list_ \u001b[38;5;129;01min\u001b[39;00m all_lists:\n\u001b[1;32m----> 2\u001b[0m     \u001b[43msave_items\u001b[49m\u001b[43m(\u001b[49m\u001b[43mradius\u001b[49m\u001b[38;5;241;43m=\u001b[39;49m\u001b[38;5;241;43m0.75\u001b[39;49m\u001b[43m,\u001b[49m\u001b[43m \u001b[49m\u001b[43mfill_list\u001b[49m\u001b[38;5;241;43m=\u001b[39;49m\u001b[43mlist_\u001b[49m\u001b[43m)\u001b[49m\n",
      "Cell \u001b[1;32mIn[15], line 24\u001b[0m, in \u001b[0;36msave_items\u001b[1;34m(num_circles, radius, fill_list, img_size, edgecolor, facecolor, folder)\u001b[0m\n\u001b[0;32m     22\u001b[0m \u001b[38;5;28;01melse\u001b[39;00m:\n\u001b[0;32m     23\u001b[0m     fn \u001b[38;5;241m=\u001b[39m get_image_hash(fill_list) \u001b[38;5;241m+\u001b[39m \u001b[38;5;124m'\u001b[39m\u001b[38;5;124mpng\u001b[39m\u001b[38;5;124m'\u001b[39m\n\u001b[1;32m---> 24\u001b[0m \u001b[43mImage\u001b[49m\u001b[38;5;241;43m.\u001b[39;49m\u001b[43mfromarray\u001b[49m\u001b[43m(\u001b[49m\u001b[43mimage\u001b[49m\u001b[43m)\u001b[49m\u001b[38;5;241;43m.\u001b[39;49m\u001b[43msave\u001b[49m\u001b[43m(\u001b[49m\u001b[43mfn\u001b[49m\u001b[43m)\u001b[49m\n",
      "File \u001b[1;32mc:\\Users\\afxwo\\anaconda3\\envs\\pytorch\\lib\\site-packages\\PIL\\Image.py:2419\u001b[0m, in \u001b[0;36mImage.save\u001b[1;34m(self, fp, format, **params)\u001b[0m\n\u001b[0;32m   2417\u001b[0m     \u001b[38;5;28;01mexcept\u001b[39;00m \u001b[38;5;167;01mKeyError\u001b[39;00m \u001b[38;5;28;01mas\u001b[39;00m e:\n\u001b[0;32m   2418\u001b[0m         msg \u001b[38;5;241m=\u001b[39m \u001b[38;5;124mf\u001b[39m\u001b[38;5;124m\"\u001b[39m\u001b[38;5;124munknown file extension: \u001b[39m\u001b[38;5;132;01m{\u001b[39;00mext\u001b[38;5;132;01m}\u001b[39;00m\u001b[38;5;124m\"\u001b[39m\n\u001b[1;32m-> 2419\u001b[0m         \u001b[38;5;28;01mraise\u001b[39;00m \u001b[38;5;167;01mValueError\u001b[39;00m(msg) \u001b[38;5;28;01mfrom\u001b[39;00m \u001b[38;5;21;01me\u001b[39;00m\n\u001b[0;32m   2421\u001b[0m \u001b[38;5;28;01mif\u001b[39;00m \u001b[38;5;28mformat\u001b[39m\u001b[38;5;241m.\u001b[39mupper() \u001b[38;5;129;01mnot\u001b[39;00m \u001b[38;5;129;01min\u001b[39;00m SAVE:\n\u001b[0;32m   2422\u001b[0m     init()\n",
      "\u001b[1;31mValueError\u001b[0m: unknown file extension: "
     ]
    }
   ],
   "source": [
    "for list_ in all_lists:\n",
    "    save_items(radius=0.75, fill_list=list_)"
   ]
  }
 ],
 "metadata": {
  "kernelspec": {
   "display_name": "pytorch",
   "language": "python",
   "name": "pytorch-gpu-python-3-10"
  },
  "language_info": {
   "codemirror_mode": {
    "name": "ipython",
    "version": 3
   },
   "file_extension": ".py",
   "mimetype": "text/x-python",
   "name": "python",
   "nbconvert_exporter": "python",
   "pygments_lexer": "ipython3",
   "version": "3.10.13"
  }
 },
 "nbformat": 4,
 "nbformat_minor": 2
}
