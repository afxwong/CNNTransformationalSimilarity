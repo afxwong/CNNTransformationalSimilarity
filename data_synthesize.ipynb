{
 "cells": [
  {
   "cell_type": "code",
   "execution_count": 1,
   "metadata": {},
   "outputs": [],
   "source": [
    "import matplotlib.pyplot as plt\n",
    "import numpy as np\n",
    "from PIL import Image\n",
    "from itertools import combinations\n",
    "import hashlib\n",
    "import pickle\n",
    "import utils"
   ]
  },
  {
   "cell_type": "markdown",
   "metadata": {},
   "source": [
    "## Exhaustive Generation"
   ]
  },
  {
   "cell_type": "code",
   "execution_count": 2,
   "metadata": {},
   "outputs": [],
   "source": [
    "def get_image_hash(l):\n",
    "    ls = ''.join(map(str, l))\n",
    "    hash_ = hashlib.md5(ls.encode())\n",
    "    fn = f'{hash_.hexdigest()[:8]}'\n",
    "    return fn"
   ]
  },
  {
   "cell_type": "code",
   "execution_count": 3,
   "metadata": {},
   "outputs": [],
   "source": [
    "def save_items(num_circles=12, radius=0.5, fill_list=[], img_size=(224, 224), edgecolor='black', facecolor='black', folder='generated_set/'):\n",
    "    fig, ax = plt.subplots(figsize=(img_size[0] / 100, img_size[1] / 100), dpi=100)\n",
    "    ax.set_aspect('equal')\n",
    "    \n",
    "    for i in range(num_circles):\n",
    "        circle = plt.Circle((i * (2 * radius + 1), 0), radius, fill=fill_list[i], edgecolor=edgecolor, facecolor=facecolor)\n",
    "        ax.add_artist(circle)\n",
    "\n",
    "    ax.set_xlim(-1, num_circles * (2 * radius + 1) - 1)\n",
    "    ax.set_ylim(-1, 1)\n",
    "    ax.axis('off')\n",
    "\n",
    "    fig.canvas.draw()\n",
    "    image = np.frombuffer(fig.canvas.tostring_rgb(), dtype=np.uint8)\n",
    "    image = image.reshape(fig.canvas.get_width_height()[::-1] + (3,))\n",
    "\n",
    "    image = Image.fromarray(image).resize(img_size)\n",
    "    image = np.array(image)\n",
    "    plt.close(fig)\n",
    "    if folder:\n",
    "        fn = folder + get_image_hash(fill_list) + '.png'\n",
    "    else:\n",
    "        fn = get_image_hash(fill_list) + '.png'\n",
    "    Image.fromarray(image).save(fn)\n",
    "# save_items(radius=0.75, fill_list=[1, 0, 0, 0, 0, 1, 0, 0, 0, 0, 0, 0])"
   ]
  },
  {
   "cell_type": "code",
   "execution_count": 6,
   "metadata": {},
   "outputs": [
    {
     "name": "stdout",
     "output_type": "stream",
     "text": [
      "Number of lists: 4094\n"
     ]
    }
   ],
   "source": [
    "def generate_binary_lists(length=12, min_ones=4, max_ones=10):\n",
    "    ret = []\n",
    "    for ones in range(min_ones, max_ones + 1):\n",
    "        for idxs in combinations(range(length), ones):\n",
    "            lst = [0] * length\n",
    "            for idx in idxs:\n",
    "                lst[idx] = 1\n",
    "            ret.append(lst)\n",
    "    return ret\n",
    "all_lists = generate_binary_lists(12, 1, 11)\n",
    "print(\"Number of lists:\", len(all_lists))"
   ]
  },
  {
   "cell_type": "code",
   "execution_count": 7,
   "metadata": {},
   "outputs": [],
   "source": [
    "def generate_dict(all_lists, hashes, num):\n",
    "    d = {}\n",
    "    for i in range(len(all_lists)):\n",
    "        d[hashes[i]] = all_lists[i]\n",
    "    with open(f'mappings/exhaustive_mapping_{num}.pkl', 'wb') as f:\n",
    "        pickle.dump(d, f)\n",
    "    # return d"
   ]
  },
  {
   "cell_type": "code",
   "execution_count": 8,
   "metadata": {},
   "outputs": [],
   "source": [
    "def load_dict(path):\n",
    "    with open(path, 'rb') as f:\n",
    "        return pickle.load(f)"
   ]
  },
  {
   "cell_type": "code",
   "execution_count": 10,
   "metadata": {},
   "outputs": [
    {
     "name": "stderr",
     "output_type": "stream",
     "text": [
      "C:\\Users\\afxwo\\AppData\\Local\\Temp\\ipykernel_14264\\2420007771.py:14: MatplotlibDeprecationWarning: The tostring_rgb function was deprecated in Matplotlib 3.8 and will be removed two minor releases later. Use buffer_rgba instead.\n",
      "  image = np.frombuffer(fig.canvas.tostring_rgb(), dtype=np.uint8)\n"
     ]
    }
   ],
   "source": [
    "hashes = []\n",
    "for list_ in all_lists:\n",
    "    hashes.append(get_image_hash(list_))\n",
    "assert len(hashes) == len(set(hashes))\n",
    "\n",
    "generate_dict(all_lists, hashes, 12)\n",
    "\n",
    "for list_ in all_lists:\n",
    "    save_items(radius=0.75, fill_list=list_, edgecolor='black', facecolor='black', folder='exhaustive_generated_set/12/')"
   ]
  },
  {
   "cell_type": "code",
   "execution_count": null,
   "metadata": {},
   "outputs": [
    {
     "ename": "IndexError",
     "evalue": "list index out of range",
     "output_type": "error",
     "traceback": [
      "\u001b[1;31m---------------------------------------------------------------------------\u001b[0m",
      "\u001b[1;31mIndexError\u001b[0m                                Traceback (most recent call last)",
      "Cell \u001b[1;32mIn[12], line 10\u001b[0m\n\u001b[0;32m      7\u001b[0m generate_dict(all_lists, hashes, \u001b[38;5;241m11\u001b[39m)\n\u001b[0;32m      9\u001b[0m \u001b[38;5;28;01mfor\u001b[39;00m list_ \u001b[38;5;129;01min\u001b[39;00m all_lists:\n\u001b[1;32m---> 10\u001b[0m     \u001b[43msave_items\u001b[49m\u001b[43m(\u001b[49m\u001b[43mradius\u001b[49m\u001b[38;5;241;43m=\u001b[39;49m\u001b[38;5;241;43m0.75\u001b[39;49m\u001b[43m,\u001b[49m\u001b[43m \u001b[49m\u001b[43mfill_list\u001b[49m\u001b[38;5;241;43m=\u001b[39;49m\u001b[43mlist_\u001b[49m\u001b[43m,\u001b[49m\u001b[43m \u001b[49m\u001b[43medgecolor\u001b[49m\u001b[38;5;241;43m=\u001b[39;49m\u001b[38;5;124;43m'\u001b[39;49m\u001b[38;5;124;43mblack\u001b[39;49m\u001b[38;5;124;43m'\u001b[39;49m\u001b[43m,\u001b[49m\u001b[43m \u001b[49m\u001b[43mfacecolor\u001b[49m\u001b[38;5;241;43m=\u001b[39;49m\u001b[38;5;124;43m'\u001b[39;49m\u001b[38;5;124;43mblack\u001b[39;49m\u001b[38;5;124;43m'\u001b[39;49m\u001b[43m,\u001b[49m\u001b[43m \u001b[49m\u001b[43mfolder\u001b[49m\u001b[38;5;241;43m=\u001b[39;49m\u001b[38;5;124;43m'\u001b[39;49m\u001b[38;5;124;43mgenerated_set/11/\u001b[39;49m\u001b[38;5;124;43m'\u001b[39;49m\u001b[43m)\u001b[49m\n",
      "Cell \u001b[1;32mIn[3], line 6\u001b[0m, in \u001b[0;36msave_items\u001b[1;34m(num_circles, radius, fill_list, img_size, edgecolor, facecolor, folder)\u001b[0m\n\u001b[0;32m      3\u001b[0m ax\u001b[38;5;241m.\u001b[39mset_aspect(\u001b[38;5;124m'\u001b[39m\u001b[38;5;124mequal\u001b[39m\u001b[38;5;124m'\u001b[39m)\n\u001b[0;32m      5\u001b[0m \u001b[38;5;28;01mfor\u001b[39;00m i \u001b[38;5;129;01min\u001b[39;00m \u001b[38;5;28mrange\u001b[39m(num_circles):\n\u001b[1;32m----> 6\u001b[0m     circle \u001b[38;5;241m=\u001b[39m plt\u001b[38;5;241m.\u001b[39mCircle((i \u001b[38;5;241m*\u001b[39m (\u001b[38;5;241m2\u001b[39m \u001b[38;5;241m*\u001b[39m radius \u001b[38;5;241m+\u001b[39m \u001b[38;5;241m1\u001b[39m), \u001b[38;5;241m0\u001b[39m), radius, fill\u001b[38;5;241m=\u001b[39m\u001b[43mfill_list\u001b[49m\u001b[43m[\u001b[49m\u001b[43mi\u001b[49m\u001b[43m]\u001b[49m, edgecolor\u001b[38;5;241m=\u001b[39medgecolor, facecolor\u001b[38;5;241m=\u001b[39mfacecolor)\n\u001b[0;32m      7\u001b[0m     ax\u001b[38;5;241m.\u001b[39madd_artist(circle)\n\u001b[0;32m      9\u001b[0m ax\u001b[38;5;241m.\u001b[39mset_xlim(\u001b[38;5;241m-\u001b[39m\u001b[38;5;241m1\u001b[39m, num_circles \u001b[38;5;241m*\u001b[39m (\u001b[38;5;241m2\u001b[39m \u001b[38;5;241m*\u001b[39m radius \u001b[38;5;241m+\u001b[39m \u001b[38;5;241m1\u001b[39m) \u001b[38;5;241m-\u001b[39m \u001b[38;5;241m1\u001b[39m)\n",
      "\u001b[1;31mIndexError\u001b[0m: list index out of range"
     ]
    },
    {
     "data": {
      "image/png": "[encoded data removed]",
      "text/plain": [
       "<Figure size 224x224 with 1 Axes>"
      ]
     },
     "metadata": {},
     "output_type": "display_data"
    }
   ],
   "source": [
    "hashes = []\n",
    "all_lists = generate_binary_lists(11)\n",
    "for list_ in all_lists:\n",
    "    hashes.append(get_image_hash(list_))\n",
    "assert len(hashes) == len(set(hashes))\n",
    "\n",
    "generate_dict(all_lists, hashes, 11)\n",
    "\n",
    "for list_ in all_lists:\n",
    "    save_items(num_circles=11, radius=0.75, fill_list=list_, edgecolor='black', facecolor='black', folder='generated_set/11/')"
   ]
  }
 ],
 "metadata": {
  "kernelspec": {
   "display_name": "pytorch",
   "language": "python",
   "name": "pytorch-gpu-python-3-10"
  },
  "language_info": {
   "codemirror_mode": {
    "name": "ipython",
    "version": 3
   },
   "file_extension": ".py",
   "mimetype": "text/x-python",
   "name": "python",
   "nbconvert_exporter": "python",
   "pygments_lexer": "ipython3",
   "version": "3.10.13"
  }
 },
 "nbformat": 4,
 "nbformat_minor": 2
}
