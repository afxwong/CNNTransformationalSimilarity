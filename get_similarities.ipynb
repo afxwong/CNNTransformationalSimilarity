{
 "cells": [
  {
   "cell_type": "code",
   "execution_count": 64,
   "metadata": {},
   "outputs": [
    {
     "name": "stdout",
     "output_type": "stream",
     "text": [
      "The autoreload extension is already loaded. To reload it, use:\n",
      "  %reload_ext autoreload\n"
     ]
    }
   ],
   "source": [
    "import torch\n",
    "import torchvision\n",
    "import torchvision.models as models\n",
    "from PIL import Image\n",
    "import matplotlib.pyplot as plt\n",
    "import utils\n",
    "import numpy as np\n",
    "import os\n",
    "from collections import defaultdict\n",
    "import pickle\n",
    "\n",
    "%load_ext autoreload\n",
    "%autoreload 2\n",
    "%reload_ext autoreload"
   ]
  },
  {
   "cell_type": "code",
   "execution_count": 2,
   "metadata": {},
   "outputs": [],
   "source": [
    "device = torch.device(\"cuda\" if torch.cuda.is_available() else \"cpu\")"
   ]
  },
  {
   "cell_type": "code",
   "execution_count": 3,
   "metadata": {},
   "outputs": [],
   "source": [
    "transform = torchvision.transforms.Compose(\n",
    "    [\n",
    "        torchvision.transforms.ToTensor()\n",
    "    ]\n",
    ")"
   ]
  },
  {
   "cell_type": "markdown",
   "metadata": {},
   "source": [
    "## Resnet"
   ]
  },
  {
   "cell_type": "markdown",
   "metadata": {},
   "source": [
    "### Edit Model for Last Layer Hook"
   ]
  },
  {
   "cell_type": "code",
   "execution_count": 42,
   "metadata": {},
   "outputs": [],
   "source": [
    "resnet18 = models.resnet18(weights=models.ResNet18_Weights.DEFAULT).to(device)"
   ]
  },
  {
   "cell_type": "code",
   "execution_count": 43,
   "metadata": {},
   "outputs": [
    {
     "data": {
      "text/plain": [
       "ResNet(\n",
       "  (conv1): Conv2d(3, 64, kernel_size=(7, 7), stride=(2, 2), padding=(3, 3), bias=False)\n",
       "  (bn1): BatchNorm2d(64, eps=1e-05, momentum=0.1, affine=True, track_running_stats=True)\n",
       "  (relu): ReLU(inplace=True)\n",
       "  (maxpool): MaxPool2d(kernel_size=3, stride=2, padding=1, dilation=1, ceil_mode=False)\n",
       "  (layer1): Sequential(\n",
       "    (0): BasicBlock(\n",
       "      (conv1): Conv2d(64, 64, kernel_size=(3, 3), stride=(1, 1), padding=(1, 1), bias=False)\n",
       "      (bn1): BatchNorm2d(64, eps=1e-05, momentum=0.1, affine=True, track_running_stats=True)\n",
       "      (relu): ReLU(inplace=True)\n",
       "      (conv2): Conv2d(64, 64, kernel_size=(3, 3), stride=(1, 1), padding=(1, 1), bias=False)\n",
       "      (bn2): BatchNorm2d(64, eps=1e-05, momentum=0.1, affine=True, track_running_stats=True)\n",
       "    )\n",
       "    (1): BasicBlock(\n",
       "      (conv1): Conv2d(64, 64, kernel_size=(3, 3), stride=(1, 1), padding=(1, 1), bias=False)\n",
       "      (bn1): BatchNorm2d(64, eps=1e-05, momentum=0.1, affine=True, track_running_stats=True)\n",
       "      (relu): ReLU(inplace=True)\n",
       "      (conv2): Conv2d(64, 64, kernel_size=(3, 3), stride=(1, 1), padding=(1, 1), bias=False)\n",
       "      (bn2): BatchNorm2d(64, eps=1e-05, momentum=0.1, affine=True, track_running_stats=True)\n",
       "    )\n",
       "  )\n",
       "  (layer2): Sequential(\n",
       "    (0): BasicBlock(\n",
       "      (conv1): Conv2d(64, 128, kernel_size=(3, 3), stride=(2, 2), padding=(1, 1), bias=False)\n",
       "      (bn1): BatchNorm2d(128, eps=1e-05, momentum=0.1, affine=True, track_running_stats=True)\n",
       "      (relu): ReLU(inplace=True)\n",
       "      (conv2): Conv2d(128, 128, kernel_size=(3, 3), stride=(1, 1), padding=(1, 1), bias=False)\n",
       "      (bn2): BatchNorm2d(128, eps=1e-05, momentum=0.1, affine=True, track_running_stats=True)\n",
       "      (downsample): Sequential(\n",
       "        (0): Conv2d(64, 128, kernel_size=(1, 1), stride=(2, 2), bias=False)\n",
       "        (1): BatchNorm2d(128, eps=1e-05, momentum=0.1, affine=True, track_running_stats=True)\n",
       "      )\n",
       "    )\n",
       "    (1): BasicBlock(\n",
       "      (conv1): Conv2d(128, 128, kernel_size=(3, 3), stride=(1, 1), padding=(1, 1), bias=False)\n",
       "      (bn1): BatchNorm2d(128, eps=1e-05, momentum=0.1, affine=True, track_running_stats=True)\n",
       "      (relu): ReLU(inplace=True)\n",
       "      (conv2): Conv2d(128, 128, kernel_size=(3, 3), stride=(1, 1), padding=(1, 1), bias=False)\n",
       "      (bn2): BatchNorm2d(128, eps=1e-05, momentum=0.1, affine=True, track_running_stats=True)\n",
       "    )\n",
       "  )\n",
       "  (layer3): Sequential(\n",
       "    (0): BasicBlock(\n",
       "      (conv1): Conv2d(128, 256, kernel_size=(3, 3), stride=(2, 2), padding=(1, 1), bias=False)\n",
       "      (bn1): BatchNorm2d(256, eps=1e-05, momentum=0.1, affine=True, track_running_stats=True)\n",
       "      (relu): ReLU(inplace=True)\n",
       "      (conv2): Conv2d(256, 256, kernel_size=(3, 3), stride=(1, 1), padding=(1, 1), bias=False)\n",
       "      (bn2): BatchNorm2d(256, eps=1e-05, momentum=0.1, affine=True, track_running_stats=True)\n",
       "      (downsample): Sequential(\n",
       "        (0): Conv2d(128, 256, kernel_size=(1, 1), stride=(2, 2), bias=False)\n",
       "        (1): BatchNorm2d(256, eps=1e-05, momentum=0.1, affine=True, track_running_stats=True)\n",
       "      )\n",
       "    )\n",
       "    (1): BasicBlock(\n",
       "      (conv1): Conv2d(256, 256, kernel_size=(3, 3), stride=(1, 1), padding=(1, 1), bias=False)\n",
       "      (bn1): BatchNorm2d(256, eps=1e-05, momentum=0.1, affine=True, track_running_stats=True)\n",
       "      (relu): ReLU(inplace=True)\n",
       "      (conv2): Conv2d(256, 256, kernel_size=(3, 3), stride=(1, 1), padding=(1, 1), bias=False)\n",
       "      (bn2): BatchNorm2d(256, eps=1e-05, momentum=0.1, affine=True, track_running_stats=True)\n",
       "    )\n",
       "  )\n",
       "  (layer4): Sequential(\n",
       "    (0): BasicBlock(\n",
       "      (conv1): Conv2d(256, 512, kernel_size=(3, 3), stride=(2, 2), padding=(1, 1), bias=False)\n",
       "      (bn1): BatchNorm2d(512, eps=1e-05, momentum=0.1, affine=True, track_running_stats=True)\n",
       "      (relu): ReLU(inplace=True)\n",
       "      (conv2): Conv2d(512, 512, kernel_size=(3, 3), stride=(1, 1), padding=(1, 1), bias=False)\n",
       "      (bn2): BatchNorm2d(512, eps=1e-05, momentum=0.1, affine=True, track_running_stats=True)\n",
       "      (downsample): Sequential(\n",
       "        (0): Conv2d(256, 512, kernel_size=(1, 1), stride=(2, 2), bias=False)\n",
       "        (1): BatchNorm2d(512, eps=1e-05, momentum=0.1, affine=True, track_running_stats=True)\n",
       "      )\n",
       "    )\n",
       "    (1): BasicBlock(\n",
       "      (conv1): Conv2d(512, 512, kernel_size=(3, 3), stride=(1, 1), padding=(1, 1), bias=False)\n",
       "      (bn1): BatchNorm2d(512, eps=1e-05, momentum=0.1, affine=True, track_running_stats=True)\n",
       "      (relu): ReLU(inplace=True)\n",
       "      (conv2): Conv2d(512, 512, kernel_size=(3, 3), stride=(1, 1), padding=(1, 1), bias=False)\n",
       "      (bn2): BatchNorm2d(512, eps=1e-05, momentum=0.1, affine=True, track_running_stats=True)\n",
       "    )\n",
       "  )\n",
       "  (avgpool): AdaptiveAvgPool2d(output_size=(1, 1))\n",
       "  (fc): Linear(in_features=512, out_features=1000, bias=True)\n",
       ")"
      ]
     },
     "execution_count": 43,
     "metadata": {},
     "output_type": "execute_result"
    }
   ],
   "source": [
    "resnet18"
   ]
  },
  {
   "cell_type": "code",
   "execution_count": 44,
   "metadata": {},
   "outputs": [
    {
     "data": {
      "text/plain": [
       "BasicBlock(\n",
       "  (conv1): Conv2d(512, 512, kernel_size=(3, 3), stride=(1, 1), padding=(1, 1), bias=False)\n",
       "  (bn1): BatchNorm2d(512, eps=1e-05, momentum=0.1, affine=True, track_running_stats=True)\n",
       "  (relu): ReLU(inplace=True)\n",
       "  (conv2): Conv2d(512, 512, kernel_size=(3, 3), stride=(1, 1), padding=(1, 1), bias=False)\n",
       "  (bn2): BatchNorm2d(512, eps=1e-05, momentum=0.1, affine=True, track_running_stats=True)\n",
       ")"
      ]
     },
     "execution_count": 44,
     "metadata": {},
     "output_type": "execute_result"
    }
   ],
   "source": [
    "resnet18.layer4[1]"
   ]
  },
  {
   "cell_type": "code",
   "execution_count": 45,
   "metadata": {},
   "outputs": [],
   "source": [
    "last_activations = []\n",
    "def get_last_layer_activation(module, input, output):\n",
    "    last_activations.append(output)"
   ]
  },
  {
   "cell_type": "code",
   "execution_count": 46,
   "metadata": {},
   "outputs": [
    {
     "data": {
      "text/plain": [
       "<torch.utils.hooks.RemovableHandle at 0x28ee2fe1e10>"
      ]
     },
     "execution_count": 46,
     "metadata": {},
     "output_type": "execute_result"
    }
   ],
   "source": [
    "resnet18.layer4[1].register_forward_hook(get_last_layer_activation)"
   ]
  },
  {
   "cell_type": "markdown",
   "metadata": {},
   "source": [
    "### Run Inference"
   ]
  },
  {
   "cell_type": "code",
   "execution_count": null,
   "metadata": {},
   "outputs": [],
   "source": [
    "pkl12path = 'mappings/exhaustive_mapping_12.pkl'\n",
    "pkl12 = utils.load_dict(pkl12path)\n",
    "similaritiesdict = defaultdict(list)\n",
    "last_activations = []"
   ]
  },
  {
   "cell_type": "code",
   "execution_count": null,
   "metadata": {},
   "outputs": [
    {
     "name": "stdout",
     "output_type": "stream",
     "text": [
      "-------------Running ['reversal']-------------------\n",
      "-------------Running ['mirror']-------------------\n",
      "-------------Running ['randomphasic']-------------------\n",
      "-------------Running ['randomdelete']-------------------\n",
      "-------------Running ['reversal', 'mirror']-------------------\n",
      "-------------Running ['randomdelete', 'mirror']-------------------\n",
      "-------------Running ['reversal', 'randomphasic']-------------------\n",
      "-------------Running ['randominsertion', 'randomphasic']-------------------\n",
      "-------------Running ['randomdelete', 'reversal', 'randomphasic']-------------------\n",
      "-------------Running ['randomdelete', 'reversal', 'mirror']-------------------\n",
      "-------------Running ['randominsertion', 'reversal', 'randomphasic']-------------------\n",
      "-------------Running ['randominsertion', 'reversal', 'mirror']-------------------\n"
     ]
    }
   ],
   "source": [
    "folpath = 'exhaustive_generated_set\\\\12'\n",
    "for transformation in utils.HAHN_TRANSFORMATION_COMBOS:\n",
    "    if not 'randominsertion' in transformation:\n",
    "        print(f'-------------Running {transformation}-------------------')\n",
    "        for filepath in os.listdir(folpath):\n",
    "            imgpath = os.path.join(folpath, filepath)\n",
    "            imgin = Image.open(imgpath)\n",
    "            imgin = transform(imgin).unsqueeze(0).to(device)\n",
    "\n",
    "            imglist = pkl12[filepath.split('.')[0]]\n",
    "            # print(imglist)\n",
    "            for t in transformation:\n",
    "                func = getattr(utils, t)\n",
    "                imglist = func(imglist)\n",
    "            # print(imglist)\n",
    "            imgout = utils.array2img(imglist, num_circles=len(imglist), radius=0.75)\n",
    "            imgout = transform(imgout).unsqueeze(0).to(device)\n",
    "\n",
    "            with torch.no_grad():\n",
    "                resnet18(imgin)\n",
    "                resnet18(imgout)\n",
    "            assert len(last_activations) == 2\n",
    "            tensin = last_activations[0].flatten().unsqueeze(0)\n",
    "            tensout = last_activations[1].flatten().unsqueeze(0)\n",
    "            sim = torch.nn.functional.cosine_similarity(tensin, tensout, dim=1)\n",
    "            similaritiesdict[str(transformation)].append(sim)\n",
    "            last_activations = []"
   ]
  },
  {
   "cell_type": "code",
   "execution_count": 79,
   "metadata": {},
   "outputs": [],
   "source": [
    "with open(f'similarities/exhaustive/resnet/filled.pkl', 'wb') as f:\n",
    "    pickle.dump(similaritiesdict, f)"
   ]
  },
  {
   "cell_type": "code",
   "execution_count": 90,
   "metadata": {},
   "outputs": [],
   "source": [
    "pkl11path = 'mappings/exhaustive_mapping_11.pkl'\n",
    "pkl11 = utils.load_dict(pkl11path)\n",
    "similaritiesdict = defaultdict(list)\n",
    "last_activations = []"
   ]
  },
  {
   "cell_type": "code",
   "execution_count": 91,
   "metadata": {},
   "outputs": [
    {
     "name": "stdout",
     "output_type": "stream",
     "text": [
      "-------------Running ['randominsertion', 'randomphasic']-------------------\n",
      "-------------Running ['randominsertion', 'reversal', 'randomphasic']-------------------\n",
      "-------------Running ['randominsertion', 'reversal', 'mirror']-------------------\n"
     ]
    }
   ],
   "source": [
    "folpath = 'exhaustive_generated_set\\\\11'\n",
    "for transformation in utils.HAHN_TRANSFORMATION_COMBOS:\n",
    "    if 'randominsertion' in transformation:\n",
    "        print(f'-------------Running {transformation}-------------------')\n",
    "        for filepath in os.listdir(folpath):\n",
    "            imgpath = os.path.join(folpath, filepath)\n",
    "            imgin = Image.open(imgpath)\n",
    "            imgin = transform(imgin).unsqueeze(0).to(device)\n",
    "\n",
    "            imglist = pkl11[filepath.split('.')[0]]\n",
    "            # print(imglist)\n",
    "            for t in transformation:\n",
    "                func = getattr(utils, t)\n",
    "                imglist = func(imglist)\n",
    "            # print(imglist)\n",
    "            imgout = utils.array2img(imglist, num_circles=len(imglist), radius=0.75)\n",
    "            imgout = transform(imgout).unsqueeze(0).to(device)\n",
    "\n",
    "            with torch.no_grad():\n",
    "                resnet18(imgin)\n",
    "                resnet18(imgout)\n",
    "            assert len(last_activations) == 2\n",
    "            tensin = last_activations[0].flatten().unsqueeze(0)\n",
    "            tensout = last_activations[1].flatten().unsqueeze(0)\n",
    "            sim = torch.nn.functional.cosine_similarity(tensin, tensout, dim=1)\n",
    "            similaritiesdict[str(transformation)].append(sim)\n",
    "            last_activations = []"
   ]
  },
  {
   "cell_type": "code",
   "execution_count": 94,
   "metadata": {},
   "outputs": [],
   "source": [
    "with open(f'similarities/exhaustive/resnet/unfilled11.pkl', 'wb') as f:\n",
    "    pickle.dump(similaritiesdict, f)"
   ]
  },
  {
   "cell_type": "code",
   "execution_count": 101,
   "metadata": {},
   "outputs": [],
   "source": [
    "pkl10path = 'mappings/exhaustive_mapping_10.pkl'\n",
    "pkl10 = utils.load_dict(pkl10path)\n",
    "similaritiesdict = defaultdict(list)\n",
    "last_activations = []"
   ]
  },
  {
   "cell_type": "code",
   "execution_count": 102,
   "metadata": {},
   "outputs": [
    {
     "name": "stdout",
     "output_type": "stream",
     "text": [
      "-------------Running ['randominsertion', 'randomphasic']-------------------\n",
      "-------------Running ['randominsertion', 'reversal', 'randomphasic']-------------------\n",
      "-------------Running ['randominsertion', 'reversal', 'mirror']-------------------\n"
     ]
    }
   ],
   "source": [
    "folpath = 'exhaustive_generated_set\\\\10'\n",
    "for transformation in utils.HAHN_TRANSFORMATION_COMBOS:\n",
    "    if 'randominsertion' in transformation:\n",
    "        print(f'-------------Running {transformation}-------------------')\n",
    "        for filepath in os.listdir(folpath):\n",
    "            imgpath = os.path.join(folpath, filepath)\n",
    "            imgin = Image.open(imgpath)\n",
    "            imgin = transform(imgin).unsqueeze(0).to(device)\n",
    "\n",
    "            imglist = pkl10[filepath.split('.')[0]]\n",
    "            # print(imglist)\n",
    "            for t in transformation:\n",
    "                func = getattr(utils, t)\n",
    "                imglist = func(imglist)\n",
    "            # print(imglist)\n",
    "            imgout = utils.array2img(imglist, num_circles=len(imglist), radius=0.75)\n",
    "            imgout = transform(imgout).unsqueeze(0).to(device)\n",
    "\n",
    "            with torch.no_grad():\n",
    "                resnet18(imgin)\n",
    "                resnet18(imgout)\n",
    "            assert len(last_activations) == 2\n",
    "            tensin = last_activations[0].flatten().unsqueeze(0)\n",
    "            tensout = last_activations[1].flatten().unsqueeze(0)\n",
    "            sim = torch.nn.functional.cosine_similarity(tensin, tensout, dim=1)\n",
    "            similaritiesdict[str(transformation)].append(sim)\n",
    "            last_activations = []"
   ]
  },
  {
   "cell_type": "code",
   "execution_count": 104,
   "metadata": {},
   "outputs": [],
   "source": [
    "with open(f'similarities/exhaustive/resnet/unfilled10.pkl', 'wb') as f:\n",
    "    pickle.dump(similaritiesdict, f)"
   ]
  },
  {
   "cell_type": "markdown",
   "metadata": {},
   "source": [
    "## VGG"
   ]
  },
  {
   "cell_type": "code",
   "execution_count": 112,
   "metadata": {},
   "outputs": [],
   "source": [
    "vgg16 = models.vgg16(weights=models.VGG16_Weights.IMAGENET1K_V1).to(device)"
   ]
  },
  {
   "cell_type": "code",
   "execution_count": 113,
   "metadata": {},
   "outputs": [
    {
     "data": {
      "text/plain": [
       "VGG(\n",
       "  (features): Sequential(\n",
       "    (0): Conv2d(3, 64, kernel_size=(3, 3), stride=(1, 1), padding=(1, 1))\n",
       "    (1): ReLU(inplace=True)\n",
       "    (2): Conv2d(64, 64, kernel_size=(3, 3), stride=(1, 1), padding=(1, 1))\n",
       "    (3): ReLU(inplace=True)\n",
       "    (4): MaxPool2d(kernel_size=2, stride=2, padding=0, dilation=1, ceil_mode=False)\n",
       "    (5): Conv2d(64, 128, kernel_size=(3, 3), stride=(1, 1), padding=(1, 1))\n",
       "    (6): ReLU(inplace=True)\n",
       "    (7): Conv2d(128, 128, kernel_size=(3, 3), stride=(1, 1), padding=(1, 1))\n",
       "    (8): ReLU(inplace=True)\n",
       "    (9): MaxPool2d(kernel_size=2, stride=2, padding=0, dilation=1, ceil_mode=False)\n",
       "    (10): Conv2d(128, 256, kernel_size=(3, 3), stride=(1, 1), padding=(1, 1))\n",
       "    (11): ReLU(inplace=True)\n",
       "    (12): Conv2d(256, 256, kernel_size=(3, 3), stride=(1, 1), padding=(1, 1))\n",
       "    (13): ReLU(inplace=True)\n",
       "    (14): Conv2d(256, 256, kernel_size=(3, 3), stride=(1, 1), padding=(1, 1))\n",
       "    (15): ReLU(inplace=True)\n",
       "    (16): MaxPool2d(kernel_size=2, stride=2, padding=0, dilation=1, ceil_mode=False)\n",
       "    (17): Conv2d(256, 512, kernel_size=(3, 3), stride=(1, 1), padding=(1, 1))\n",
       "    (18): ReLU(inplace=True)\n",
       "    (19): Conv2d(512, 512, kernel_size=(3, 3), stride=(1, 1), padding=(1, 1))\n",
       "    (20): ReLU(inplace=True)\n",
       "    (21): Conv2d(512, 512, kernel_size=(3, 3), stride=(1, 1), padding=(1, 1))\n",
       "    (22): ReLU(inplace=True)\n",
       "    (23): MaxPool2d(kernel_size=2, stride=2, padding=0, dilation=1, ceil_mode=False)\n",
       "    (24): Conv2d(512, 512, kernel_size=(3, 3), stride=(1, 1), padding=(1, 1))\n",
       "    (25): ReLU(inplace=True)\n",
       "    (26): Conv2d(512, 512, kernel_size=(3, 3), stride=(1, 1), padding=(1, 1))\n",
       "    (27): ReLU(inplace=True)\n",
       "    (28): Conv2d(512, 512, kernel_size=(3, 3), stride=(1, 1), padding=(1, 1))\n",
       "    (29): ReLU(inplace=True)\n",
       "    (30): MaxPool2d(kernel_size=2, stride=2, padding=0, dilation=1, ceil_mode=False)\n",
       "  )\n",
       "  (avgpool): AdaptiveAvgPool2d(output_size=(7, 7))\n",
       "  (classifier): Sequential(\n",
       "    (0): Linear(in_features=25088, out_features=4096, bias=True)\n",
       "    (1): ReLU(inplace=True)\n",
       "    (2): Dropout(p=0.5, inplace=False)\n",
       "    (3): Linear(in_features=4096, out_features=4096, bias=True)\n",
       "    (4): ReLU(inplace=True)\n",
       "    (5): Dropout(p=0.5, inplace=False)\n",
       "    (6): Linear(in_features=4096, out_features=1000, bias=True)\n",
       "  )\n",
       ")"
      ]
     },
     "execution_count": 113,
     "metadata": {},
     "output_type": "execute_result"
    }
   ],
   "source": [
    "vgg16"
   ]
  },
  {
   "cell_type": "code",
   "execution_count": 114,
   "metadata": {},
   "outputs": [
    {
     "data": {
      "text/plain": [
       "Sequential(\n",
       "  (0): Linear(in_features=25088, out_features=4096, bias=True)\n",
       "  (1): ReLU(inplace=True)\n",
       "  (2): Dropout(p=0.5, inplace=False)\n",
       "  (3): Linear(in_features=4096, out_features=4096, bias=True)\n",
       "  (4): ReLU(inplace=True)\n",
       "  (5): Dropout(p=0.5, inplace=False)\n",
       "  (6): Linear(in_features=4096, out_features=1000, bias=True)\n",
       ")"
      ]
     },
     "execution_count": 114,
     "metadata": {},
     "output_type": "execute_result"
    }
   ],
   "source": [
    "vgg16.classifier"
   ]
  },
  {
   "cell_type": "code",
   "execution_count": 115,
   "metadata": {},
   "outputs": [
    {
     "data": {
      "text/plain": [
       "<torch.utils.hooks.RemovableHandle at 0x2909cbe1f30>"
      ]
     },
     "execution_count": 115,
     "metadata": {},
     "output_type": "execute_result"
    }
   ],
   "source": [
    "vgg16.classifier[6].register_forward_hook(get_last_layer_activation)"
   ]
  },
  {
   "cell_type": "code",
   "execution_count": 116,
   "metadata": {},
   "outputs": [
    {
     "name": "stdout",
     "output_type": "stream",
     "text": [
      "-------------Running ['reversal']-------------------\n",
      "-------------Running ['mirror']-------------------\n",
      "-------------Running ['randomphasic']-------------------\n",
      "-------------Running ['randomdelete']-------------------\n",
      "-------------Running ['reversal', 'mirror']-------------------\n",
      "-------------Running ['randomdelete', 'mirror']-------------------\n",
      "-------------Running ['reversal', 'randomphasic']-------------------\n",
      "-------------Running ['randomdelete', 'reversal', 'randomphasic']-------------------\n",
      "-------------Running ['randomdelete', 'reversal', 'mirror']-------------------\n"
     ]
    }
   ],
   "source": [
    "pkl12path = 'mappings/exhaustive_mapping_12.pkl'\n",
    "pkl12 = utils.load_dict(pkl12path)\n",
    "similaritiesdict = defaultdict(list)\n",
    "last_activations = []\n",
    "folpath = 'exhaustive_generated_set\\\\12'\n",
    "for transformation in utils.HAHN_TRANSFORMATION_COMBOS:\n",
    "    if not 'randominsertion' in transformation:\n",
    "        print(f'-------------Running {transformation}-------------------')\n",
    "        for filepath in os.listdir(folpath):\n",
    "            imgpath = os.path.join(folpath, filepath)\n",
    "            imgin = Image.open(imgpath)\n",
    "            imgin = transform(imgin).unsqueeze(0).to(device)\n",
    "\n",
    "            imglist = pkl12[filepath.split('.')[0]]\n",
    "            # print(imglist)\n",
    "            for t in transformation:\n",
    "                func = getattr(utils, t)\n",
    "                imglist = func(imglist)\n",
    "            # print(imglist)\n",
    "            imgout = utils.array2img(imglist, num_circles=len(imglist), radius=0.75)\n",
    "            imgout = transform(imgout).unsqueeze(0).to(device)\n",
    "\n",
    "            with torch.no_grad():\n",
    "                vgg16(imgin)\n",
    "                vgg16(imgout)\n",
    "            assert len(last_activations) == 2\n",
    "            tensin = last_activations[0].flatten().unsqueeze(0)\n",
    "            tensout = last_activations[1].flatten().unsqueeze(0)\n",
    "            sim = torch.nn.functional.cosine_similarity(tensin, tensout, dim=1)\n",
    "            similaritiesdict[str(transformation)].append(sim)\n",
    "            last_activations = []"
   ]
  },
  {
   "cell_type": "code",
   "execution_count": 119,
   "metadata": {},
   "outputs": [],
   "source": [
    "with open(f'similarities/exhaustive/vgg/filled.pkl', 'wb') as f:\n",
    "    pickle.dump(similaritiesdict, f)"
   ]
  },
  {
   "cell_type": "code",
   "execution_count": null,
   "metadata": {},
   "outputs": [
    {
     "name": "stdout",
     "output_type": "stream",
     "text": [
      "-------------Running ['randominsertion', 'randomphasic']-------------------\n",
      "-------------Running ['randominsertion', 'reversal', 'randomphasic']-------------------\n",
      "-------------Running ['randominsertion', 'reversal', 'mirror']-------------------\n"
     ]
    }
   ],
   "source": [
    "pkl11path = 'mappings/exhaustive_mapping_11.pkl'\n",
    "pkl11 = utils.load_dict(pkl11path)\n",
    "similaritiesdict = defaultdict(list)\n",
    "last_activations = []\n",
    "folpath = 'exhaustive_generated_set\\\\11'\n",
    "for transformation in utils.HAHN_TRANSFORMATION_COMBOS:\n",
    "    if 'randominsertion' in transformation:\n",
    "        print(f'-------------Running {transformation}-------------------')\n",
    "        for filepath in os.listdir(folpath):\n",
    "            imgpath = os.path.join(folpath, filepath)\n",
    "            imgin = Image.open(imgpath)\n",
    "            imgin = transform(imgin).unsqueeze(0).to(device)\n",
    "\n",
    "            imglist = pkl11[filepath.split('.')[0]]\n",
    "            # print(imglist)\n",
    "            for t in transformation:\n",
    "                func = getattr(utils, t)\n",
    "                imglist = func(imglist)\n",
    "            # print(imglist)\n",
    "            imgout = utils.array2img(imglist, num_circles=len(imglist), radius=0.75)\n",
    "            imgout = transform(imgout).unsqueeze(0).to(device)\n",
    "\n",
    "            with torch.no_grad():\n",
    "                vgg16(imgin)\n",
    "                vgg16(imgout)\n",
    "            assert len(last_activations) == 2\n",
    "            tensin = last_activations[0].flatten().unsqueeze(0)\n",
    "            tensout = last_activations[1].flatten().unsqueeze(0)\n",
    "            sim = torch.nn.functional.cosine_similarity(tensin, tensout, dim=1)\n",
    "            similaritiesdict[str(transformation)].append(sim)\n",
    "            last_activations = []"
   ]
  },
  {
   "cell_type": "code",
   "execution_count": null,
   "metadata": {},
   "outputs": [],
   "source": [
    "with open(f'similarities/exhaustive/vgg/unfilled11.pkl', 'wb') as f:\n",
    "    pickle.dump(similaritiesdict, f)"
   ]
  },
  {
   "cell_type": "code",
   "execution_count": null,
   "metadata": {},
   "outputs": [],
   "source": [
    "pkl10path = 'mappings/exhaustive_mapping_10.pkl'\n",
    "pkl10 = utils.load_dict(pkl10path)\n",
    "similaritiesdict = defaultdict(list)\n",
    "last_activations = []\n",
    "folpath = 'exhaustive_generated_set\\\\10'\n",
    "for transformation in utils.HAHN_TRANSFORMATION_COMBOS:\n",
    "    if 'randominsertion' in transformation:\n",
    "        print(f'-------------Running {transformation}-------------------')\n",
    "        for filepath in os.listdir(folpath):\n",
    "            imgpath = os.path.join(folpath, filepath)\n",
    "            imgin = Image.open(imgpath)\n",
    "            imgin = transform(imgin).unsqueeze(0).to(device)\n",
    "\n",
    "            imglist = pkl10[filepath.split('.')[0]]\n",
    "            # print(imglist)\n",
    "            for t in transformation:\n",
    "                func = getattr(utils, t)\n",
    "                imglist = func(imglist)\n",
    "            # print(imglist)\n",
    "            imgout = utils.array2img(imglist, num_circles=len(imglist), radius=0.75)\n",
    "            imgout = transform(imgout).unsqueeze(0).to(device)\n",
    "\n",
    "            with torch.no_grad():\n",
    "                vgg16(imgin)\n",
    "                vgg16(imgout)\n",
    "            assert len(last_activations) == 2\n",
    "            tensin = last_activations[0].flatten().unsqueeze(0)\n",
    "            tensout = last_activations[1].flatten().unsqueeze(0)\n",
    "            sim = torch.nn.functional.cosine_similarity(tensin, tensout, dim=1)\n",
    "            similaritiesdict[str(transformation)].append(sim)\n",
    "            last_activations = []"
   ]
  },
  {
   "cell_type": "code",
   "execution_count": null,
   "metadata": {},
   "outputs": [],
   "source": [
    "with open(f'similarities/exhaustive/vgg/unfilled10.pkl', 'wb') as f:\n",
    "    pickle.dump(similaritiesdict, f)"
   ]
  },
  {
   "cell_type": "markdown",
   "metadata": {},
   "source": [
    "## DenseNet"
   ]
  },
  {
   "cell_type": "code",
   "execution_count": null,
   "metadata": {},
   "outputs": [],
   "source": [
    "densenet121 = models.densenet121(pretrained=True)"
   ]
  },
  {
   "cell_type": "code",
   "execution_count": null,
   "metadata": {},
   "outputs": [],
   "source": [
    "densenet121"
   ]
  },
  {
   "cell_type": "code",
   "execution_count": null,
   "metadata": {},
   "outputs": [],
   "source": [
    "densenet121.classifier"
   ]
  },
  {
   "cell_type": "code",
   "execution_count": null,
   "metadata": {},
   "outputs": [],
   "source": [
    "densenet121.classifier.register_forward_hook(get_last_layer_activation)"
   ]
  },
  {
   "cell_type": "markdown",
   "metadata": {},
   "source": [
    "## Inception"
   ]
  },
  {
   "cell_type": "code",
   "execution_count": null,
   "metadata": {},
   "outputs": [],
   "source": [
    "inception_v3 = models.inception_v3(pretrained=True)"
   ]
  },
  {
   "cell_type": "code",
   "execution_count": null,
   "metadata": {},
   "outputs": [],
   "source": [
    "inception_v3"
   ]
  },
  {
   "cell_type": "code",
   "execution_count": null,
   "metadata": {},
   "outputs": [],
   "source": [
    "inception_v3.fc"
   ]
  },
  {
   "cell_type": "code",
   "execution_count": null,
   "metadata": {},
   "outputs": [],
   "source": [
    "inception_v3.fc.register_forward_hook(get_last_layer_activation)"
   ]
  },
  {
   "cell_type": "markdown",
   "metadata": {},
   "source": [
    "## AlexNet"
   ]
  },
  {
   "cell_type": "code",
   "execution_count": null,
   "metadata": {},
   "outputs": [],
   "source": [
    "alexnet = models.alexnet(pretrained=True)"
   ]
  },
  {
   "cell_type": "code",
   "execution_count": null,
   "metadata": {},
   "outputs": [],
   "source": [
    "alexnet"
   ]
  },
  {
   "cell_type": "code",
   "execution_count": null,
   "metadata": {},
   "outputs": [],
   "source": [
    "alexnet.classifier"
   ]
  },
  {
   "cell_type": "code",
   "execution_count": null,
   "metadata": {},
   "outputs": [],
   "source": [
    "alexnet.classifier[6].register_forward_hook(get_last_layer_activation)"
   ]
  }
 ],
 "metadata": {
  "kernelspec": {
   "display_name": "pytorch",
   "language": "python",
   "name": "python3"
  },
  "language_info": {
   "codemirror_mode": {
    "name": "ipython",
    "version": 3
   },
   "file_extension": ".py",
   "mimetype": "text/x-python",
   "name": "python",
   "nbconvert_exporter": "python",
   "pygments_lexer": "ipython3",
   "version": "3.10.13"
  }
 },
 "nbformat": 4,
 "nbformat_minor": 2
}
