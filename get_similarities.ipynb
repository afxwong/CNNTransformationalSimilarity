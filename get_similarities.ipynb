{
 "cells": [
  {
   "cell_type": "code",
   "execution_count": 1,
   "metadata": {},
   "outputs": [
    {
     "name": "stderr",
     "output_type": "stream",
     "text": [
      "c:\\Users\\afxwo\\anaconda3\\envs\\pytorch\\lib\\site-packages\\tqdm\\auto.py:21: TqdmWarning: IProgress not found. Please update jupyter and ipywidgets. See https://ipywidgets.readthedocs.io/en/stable/user_install.html\n",
      "  from .autonotebook import tqdm as notebook_tqdm\n"
     ]
    }
   ],
   "source": [
    "import torch\n",
    "import torchvision\n",
    "import torchvision.models as models\n",
    "from PIL import Image\n",
    "import matplotlib.pyplot as plt\n",
    "import utils\n",
    "import numpy as np\n",
    "import os\n",
    "from collections import defaultdict\n",
    "import pickle\n",
    "from tqdm import tqdm\n",
    "\n",
    "%load_ext autoreload\n",
    "%autoreload 2\n",
    "%reload_ext autoreload"
   ]
  },
  {
   "cell_type": "code",
   "execution_count": 2,
   "metadata": {},
   "outputs": [],
   "source": [
    "device = torch.device(\"cuda\" if torch.cuda.is_available() else \"cpu\")"
   ]
  },
  {
   "cell_type": "code",
   "execution_count": 3,
   "metadata": {},
   "outputs": [],
   "source": [
    "transform = torchvision.transforms.Compose(\n",
    "    [\n",
    "        torchvision.transforms.ToTensor()\n",
    "    ]\n",
    ")"
   ]
  },
  {
   "cell_type": "code",
   "execution_count": 4,
   "metadata": {},
   "outputs": [],
   "source": [
    "last_activations = []\n",
    "def get_last_layer_activation(module, input, output):\n",
    "    last_activations.append(output)"
   ]
  },
  {
   "cell_type": "markdown",
   "metadata": {},
   "source": [
    "# ML Model Code"
   ]
  },
  {
   "cell_type": "markdown",
   "metadata": {},
   "source": [
    "## Resnet"
   ]
  },
  {
   "cell_type": "markdown",
   "metadata": {},
   "source": [
    "### Edit Model for Last Layer Hook"
   ]
  },
  {
   "cell_type": "code",
   "execution_count": 5,
   "metadata": {},
   "outputs": [],
   "source": [
    "resnet18 = models.resnet18(weights=models.ResNet18_Weights.DEFAULT).to(device)"
   ]
  },
  {
   "cell_type": "code",
   "execution_count": 6,
   "metadata": {},
   "outputs": [
    {
     "data": {
      "text/plain": [
       "ResNet(\n",
       "  (conv1): Conv2d(3, 64, kernel_size=(7, 7), stride=(2, 2), padding=(3, 3), bias=False)\n",
       "  (bn1): BatchNorm2d(64, eps=1e-05, momentum=0.1, affine=True, track_running_stats=True)\n",
       "  (relu): ReLU(inplace=True)\n",
       "  (maxpool): MaxPool2d(kernel_size=3, stride=2, padding=1, dilation=1, ceil_mode=False)\n",
       "  (layer1): Sequential(\n",
       "    (0): BasicBlock(\n",
       "      (conv1): Conv2d(64, 64, kernel_size=(3, 3), stride=(1, 1), padding=(1, 1), bias=False)\n",
       "      (bn1): BatchNorm2d(64, eps=1e-05, momentum=0.1, affine=True, track_running_stats=True)\n",
       "      (relu): ReLU(inplace=True)\n",
       "      (conv2): Conv2d(64, 64, kernel_size=(3, 3), stride=(1, 1), padding=(1, 1), bias=False)\n",
       "      (bn2): BatchNorm2d(64, eps=1e-05, momentum=0.1, affine=True, track_running_stats=True)\n",
       "    )\n",
       "    (1): BasicBlock(\n",
       "      (conv1): Conv2d(64, 64, kernel_size=(3, 3), stride=(1, 1), padding=(1, 1), bias=False)\n",
       "      (bn1): BatchNorm2d(64, eps=1e-05, momentum=0.1, affine=True, track_running_stats=True)\n",
       "      (relu): ReLU(inplace=True)\n",
       "      (conv2): Conv2d(64, 64, kernel_size=(3, 3), stride=(1, 1), padding=(1, 1), bias=False)\n",
       "      (bn2): BatchNorm2d(64, eps=1e-05, momentum=0.1, affine=True, track_running_stats=True)\n",
       "    )\n",
       "  )\n",
       "  (layer2): Sequential(\n",
       "    (0): BasicBlock(\n",
       "      (conv1): Conv2d(64, 128, kernel_size=(3, 3), stride=(2, 2), padding=(1, 1), bias=False)\n",
       "      (bn1): BatchNorm2d(128, eps=1e-05, momentum=0.1, affine=True, track_running_stats=True)\n",
       "      (relu): ReLU(inplace=True)\n",
       "      (conv2): Conv2d(128, 128, kernel_size=(3, 3), stride=(1, 1), padding=(1, 1), bias=False)\n",
       "      (bn2): BatchNorm2d(128, eps=1e-05, momentum=0.1, affine=True, track_running_stats=True)\n",
       "      (downsample): Sequential(\n",
       "        (0): Conv2d(64, 128, kernel_size=(1, 1), stride=(2, 2), bias=False)\n",
       "        (1): BatchNorm2d(128, eps=1e-05, momentum=0.1, affine=True, track_running_stats=True)\n",
       "      )\n",
       "    )\n",
       "    (1): BasicBlock(\n",
       "      (conv1): Conv2d(128, 128, kernel_size=(3, 3), stride=(1, 1), padding=(1, 1), bias=False)\n",
       "      (bn1): BatchNorm2d(128, eps=1e-05, momentum=0.1, affine=True, track_running_stats=True)\n",
       "      (relu): ReLU(inplace=True)\n",
       "      (conv2): Conv2d(128, 128, kernel_size=(3, 3), stride=(1, 1), padding=(1, 1), bias=False)\n",
       "      (bn2): BatchNorm2d(128, eps=1e-05, momentum=0.1, affine=True, track_running_stats=True)\n",
       "    )\n",
       "  )\n",
       "  (layer3): Sequential(\n",
       "    (0): BasicBlock(\n",
       "      (conv1): Conv2d(128, 256, kernel_size=(3, 3), stride=(2, 2), padding=(1, 1), bias=False)\n",
       "      (bn1): BatchNorm2d(256, eps=1e-05, momentum=0.1, affine=True, track_running_stats=True)\n",
       "      (relu): ReLU(inplace=True)\n",
       "      (conv2): Conv2d(256, 256, kernel_size=(3, 3), stride=(1, 1), padding=(1, 1), bias=False)\n",
       "      (bn2): BatchNorm2d(256, eps=1e-05, momentum=0.1, affine=True, track_running_stats=True)\n",
       "      (downsample): Sequential(\n",
       "        (0): Conv2d(128, 256, kernel_size=(1, 1), stride=(2, 2), bias=False)\n",
       "        (1): BatchNorm2d(256, eps=1e-05, momentum=0.1, affine=True, track_running_stats=True)\n",
       "      )\n",
       "    )\n",
       "    (1): BasicBlock(\n",
       "      (conv1): Conv2d(256, 256, kernel_size=(3, 3), stride=(1, 1), padding=(1, 1), bias=False)\n",
       "      (bn1): BatchNorm2d(256, eps=1e-05, momentum=0.1, affine=True, track_running_stats=True)\n",
       "      (relu): ReLU(inplace=True)\n",
       "      (conv2): Conv2d(256, 256, kernel_size=(3, 3), stride=(1, 1), padding=(1, 1), bias=False)\n",
       "      (bn2): BatchNorm2d(256, eps=1e-05, momentum=0.1, affine=True, track_running_stats=True)\n",
       "    )\n",
       "  )\n",
       "  (layer4): Sequential(\n",
       "    (0): BasicBlock(\n",
       "      (conv1): Conv2d(256, 512, kernel_size=(3, 3), stride=(2, 2), padding=(1, 1), bias=False)\n",
       "      (bn1): BatchNorm2d(512, eps=1e-05, momentum=0.1, affine=True, track_running_stats=True)\n",
       "      (relu): ReLU(inplace=True)\n",
       "      (conv2): Conv2d(512, 512, kernel_size=(3, 3), stride=(1, 1), padding=(1, 1), bias=False)\n",
       "      (bn2): BatchNorm2d(512, eps=1e-05, momentum=0.1, affine=True, track_running_stats=True)\n",
       "      (downsample): Sequential(\n",
       "        (0): Conv2d(256, 512, kernel_size=(1, 1), stride=(2, 2), bias=False)\n",
       "        (1): BatchNorm2d(512, eps=1e-05, momentum=0.1, affine=True, track_running_stats=True)\n",
       "      )\n",
       "    )\n",
       "    (1): BasicBlock(\n",
       "      (conv1): Conv2d(512, 512, kernel_size=(3, 3), stride=(1, 1), padding=(1, 1), bias=False)\n",
       "      (bn1): BatchNorm2d(512, eps=1e-05, momentum=0.1, affine=True, track_running_stats=True)\n",
       "      (relu): ReLU(inplace=True)\n",
       "      (conv2): Conv2d(512, 512, kernel_size=(3, 3), stride=(1, 1), padding=(1, 1), bias=False)\n",
       "      (bn2): BatchNorm2d(512, eps=1e-05, momentum=0.1, affine=True, track_running_stats=True)\n",
       "    )\n",
       "  )\n",
       "  (avgpool): AdaptiveAvgPool2d(output_size=(1, 1))\n",
       "  (fc): Linear(in_features=512, out_features=1000, bias=True)\n",
       ")"
      ]
     },
     "execution_count": 6,
     "metadata": {},
     "output_type": "execute_result"
    }
   ],
   "source": [
    "resnet18.eval()"
   ]
  },
  {
   "cell_type": "code",
   "execution_count": 7,
   "metadata": {},
   "outputs": [
    {
     "data": {
      "text/plain": [
       "Linear(in_features=512, out_features=1000, bias=True)"
      ]
     },
     "execution_count": 7,
     "metadata": {},
     "output_type": "execute_result"
    }
   ],
   "source": [
    "# resnet18.layer4[1]\n",
    "resnet18.fc"
   ]
  },
  {
   "cell_type": "code",
   "execution_count": 8,
   "metadata": {},
   "outputs": [
    {
     "data": {
      "text/plain": [
       "<torch.utils.hooks.RemovableHandle at 0x2724ae17850>"
      ]
     },
     "execution_count": 8,
     "metadata": {},
     "output_type": "execute_result"
    }
   ],
   "source": [
    "# resnet18.layer4[1].register_forward_hook(get_last_layer_activation)\n",
    "resnet18.fc.register_forward_hook(get_last_layer_activation)"
   ]
  },
  {
   "cell_type": "markdown",
   "metadata": {},
   "source": [
    "### Run Inference"
   ]
  },
  {
   "cell_type": "code",
   "execution_count": 14,
   "metadata": {},
   "outputs": [],
   "source": [
    "pkl12path = 'mappings/exhaustive_mapping_12.pkl'\n",
    "pkl12 = utils.load_dict(pkl12path)\n",
    "similaritiesdict = defaultdict(list)\n",
    "last_activations = []"
   ]
  },
  {
   "cell_type": "code",
   "execution_count": 15,
   "metadata": {},
   "outputs": [
    {
     "name": "stdout",
     "output_type": "stream",
     "text": [
      "-------------Running ['reversal']-------------------\n"
     ]
    },
    {
     "name": "stderr",
     "output_type": "stream",
     "text": [
      "['reversal']: 100%|██████████| 4094/4094 [01:18<00:00, 52.21it/s]\n"
     ]
    },
    {
     "name": "stdout",
     "output_type": "stream",
     "text": [
      "-------------Running ['mirror']-------------------\n"
     ]
    },
    {
     "name": "stderr",
     "output_type": "stream",
     "text": [
      "['mirror']: 100%|██████████| 4094/4094 [01:17<00:00, 52.55it/s]\n"
     ]
    },
    {
     "name": "stdout",
     "output_type": "stream",
     "text": [
      "-------------Running ['randomphasic']-------------------\n"
     ]
    },
    {
     "name": "stderr",
     "output_type": "stream",
     "text": [
      "['randomphasic']: 100%|██████████| 4094/4094 [01:19<00:00, 51.52it/s]\n"
     ]
    },
    {
     "name": "stdout",
     "output_type": "stream",
     "text": [
      "-------------Running ['randomdelete']-------------------\n"
     ]
    },
    {
     "name": "stderr",
     "output_type": "stream",
     "text": [
      "['randomdelete']: 100%|██████████| 4094/4094 [01:19<00:00, 51.65it/s]\n"
     ]
    },
    {
     "name": "stdout",
     "output_type": "stream",
     "text": [
      "-------------Running ['reversal', 'mirror']-------------------\n"
     ]
    },
    {
     "name": "stderr",
     "output_type": "stream",
     "text": [
      "['reversal', 'mirror']: 100%|██████████| 4094/4094 [01:25<00:00, 47.93it/s]\n"
     ]
    },
    {
     "name": "stdout",
     "output_type": "stream",
     "text": [
      "-------------Running ['randomdelete', 'mirror']-------------------\n"
     ]
    },
    {
     "name": "stderr",
     "output_type": "stream",
     "text": [
      "['randomdelete', 'mirror']: 100%|██████████| 4094/4094 [01:48<00:00, 37.65it/s]\n"
     ]
    },
    {
     "name": "stdout",
     "output_type": "stream",
     "text": [
      "-------------Running ['reversal', 'randomphasic']-------------------\n"
     ]
    },
    {
     "name": "stderr",
     "output_type": "stream",
     "text": [
      "['reversal', 'randomphasic']: 100%|██████████| 4094/4094 [01:37<00:00, 42.09it/s]\n"
     ]
    },
    {
     "name": "stdout",
     "output_type": "stream",
     "text": [
      "-------------Running ['randomdelete', 'reversal', 'randomphasic']-------------------\n"
     ]
    },
    {
     "name": "stderr",
     "output_type": "stream",
     "text": [
      "['randomdelete', 'reversal', 'randomphasic']: 100%|██████████| 4094/4094 [01:25<00:00, 47.91it/s]\n"
     ]
    },
    {
     "name": "stdout",
     "output_type": "stream",
     "text": [
      "-------------Running ['randomdelete', 'reversal', 'mirror']-------------------\n"
     ]
    },
    {
     "name": "stderr",
     "output_type": "stream",
     "text": [
      "['randomdelete', 'reversal', 'mirror']: 100%|██████████| 4094/4094 [01:56<00:00, 35.16it/s]\n"
     ]
    }
   ],
   "source": [
    "folpath = 'exhaustive_generated_set\\\\12'\n",
    "for transformation in utils.HAHN_TRANSFORMATION_COMBOS:\n",
    "    if not 'randominsertion' in transformation:\n",
    "        print(f'-------------Running {transformation}-------------------')\n",
    "        for filepath in tqdm(os.listdir(folpath), desc=f'{transformation}'):\n",
    "            imgpath = os.path.join(folpath, filepath)\n",
    "            imgin = Image.open(imgpath)\n",
    "            imgin = transform(imgin).unsqueeze(0).to(device)\n",
    "\n",
    "            imglist = pkl12[filepath.split('.')[0]]\n",
    "            # print(imglist)\n",
    "            for t in transformation:\n",
    "                func = getattr(utils, t)\n",
    "                imglist = func(imglist)\n",
    "            # print(imglist)\n",
    "            imgout = utils.array2img(imglist, num_circles=len(imglist), radius=0.75)\n",
    "            imgout = transform(imgout).unsqueeze(0).to(device)\n",
    "\n",
    "            with torch.no_grad():\n",
    "                resnet18(imgin)\n",
    "                resnet18(imgout)\n",
    "            assert len(last_activations) == 2\n",
    "            tensin = last_activations[0].flatten().unsqueeze(0)\n",
    "            tensout = last_activations[1].flatten().unsqueeze(0)\n",
    "            sim = torch.nn.functional.cosine_similarity(tensin, tensout, dim=1)\n",
    "            similaritiesdict[str(transformation)].append(sim)\n",
    "            last_activations = []"
   ]
  },
  {
   "cell_type": "code",
   "execution_count": 16,
   "metadata": {},
   "outputs": [],
   "source": [
    "for _, v in similaritiesdict.items():\n",
    "    assert len(v) == utils.EXPECTED_LEN_12\n",
    "with open(f'similarities/exhaustive/resnet/filled.pkl', 'wb') as f:\n",
    "    pickle.dump(similaritiesdict, f)"
   ]
  },
  {
   "cell_type": "code",
   "execution_count": 17,
   "metadata": {},
   "outputs": [],
   "source": [
    "pkl11path = 'mappings/exhaustive_mapping_11.pkl'\n",
    "pkl11 = utils.load_dict(pkl11path)\n",
    "similaritiesdict = defaultdict(list)\n",
    "last_activations = []"
   ]
  },
  {
   "cell_type": "code",
   "execution_count": 18,
   "metadata": {},
   "outputs": [
    {
     "name": "stdout",
     "output_type": "stream",
     "text": [
      "-------------Running ['randominsertion', 'randomphasic']-------------------\n"
     ]
    },
    {
     "name": "stderr",
     "output_type": "stream",
     "text": [
      "['randominsertion', 'randomphasic']: 100%|██████████| 2046/2046 [00:38<00:00, 52.49it/s]\n"
     ]
    },
    {
     "name": "stdout",
     "output_type": "stream",
     "text": [
      "-------------Running ['randominsertion', 'reversal', 'randomphasic']-------------------\n"
     ]
    },
    {
     "name": "stderr",
     "output_type": "stream",
     "text": [
      "['randominsertion', 'reversal', 'randomphasic']: 100%|██████████| 2046/2046 [00:39<00:00, 51.31it/s]\n"
     ]
    },
    {
     "name": "stdout",
     "output_type": "stream",
     "text": [
      "-------------Running ['randominsertion', 'reversal', 'mirror']-------------------\n"
     ]
    },
    {
     "name": "stderr",
     "output_type": "stream",
     "text": [
      "['randominsertion', 'reversal', 'mirror']: 100%|██████████| 2046/2046 [00:38<00:00, 52.63it/s]\n"
     ]
    }
   ],
   "source": [
    "folpath = 'exhaustive_generated_set\\\\11'\n",
    "for transformation in utils.HAHN_TRANSFORMATION_COMBOS:\n",
    "    if 'randominsertion' in transformation:\n",
    "        print(f'-------------Running {transformation}-------------------')\n",
    "        for filepath in tqdm(os.listdir(folpath), desc=f'{transformation}'):\n",
    "            imgpath = os.path.join(folpath, filepath)\n",
    "            imgin = Image.open(imgpath)\n",
    "            imgin = transform(imgin).unsqueeze(0).to(device)\n",
    "\n",
    "            imglist = pkl11[filepath.split('.')[0]]\n",
    "            # print(imglist)\n",
    "            for t in transformation:\n",
    "                func = getattr(utils, t)\n",
    "                imglist = func(imglist)\n",
    "            # print(imglist)\n",
    "            imgout = utils.array2img(imglist, num_circles=len(imglist), radius=0.75)\n",
    "            imgout = transform(imgout).unsqueeze(0).to(device)\n",
    "\n",
    "            with torch.no_grad():\n",
    "                resnet18(imgin)\n",
    "                resnet18(imgout)\n",
    "            assert len(last_activations) == 2\n",
    "            tensin = last_activations[0].flatten().unsqueeze(0)\n",
    "            tensout = last_activations[1].flatten().unsqueeze(0)\n",
    "            sim = torch.nn.functional.cosine_similarity(tensin, tensout, dim=1)\n",
    "            similaritiesdict[str(transformation)].append(sim)\n",
    "            last_activations = []"
   ]
  },
  {
   "cell_type": "code",
   "execution_count": 19,
   "metadata": {},
   "outputs": [],
   "source": [
    "for _, v in similaritiesdict.items():\n",
    "    assert len(v) == utils.EXPECTED_LEN_11\n",
    "with open(f'similarities/exhaustive/resnet/unfilled11.pkl', 'wb') as f:\n",
    "    pickle.dump(similaritiesdict, f)"
   ]
  },
  {
   "cell_type": "code",
   "execution_count": 20,
   "metadata": {},
   "outputs": [],
   "source": [
    "pkl10path = 'mappings/exhaustive_mapping_10.pkl'\n",
    "pkl10 = utils.load_dict(pkl10path)\n",
    "similaritiesdict = defaultdict(list)\n",
    "last_activations = []"
   ]
  },
  {
   "cell_type": "code",
   "execution_count": 21,
   "metadata": {},
   "outputs": [
    {
     "name": "stdout",
     "output_type": "stream",
     "text": [
      "-------------Running ['randominsertion', 'randomphasic']-------------------\n"
     ]
    },
    {
     "name": "stderr",
     "output_type": "stream",
     "text": [
      "['randominsertion', 'randomphasic']: 100%|██████████| 1022/1022 [02:30<00:00,  6.78it/s]\n"
     ]
    },
    {
     "name": "stdout",
     "output_type": "stream",
     "text": [
      "-------------Running ['randominsertion', 'reversal', 'randomphasic']-------------------\n"
     ]
    },
    {
     "name": "stderr",
     "output_type": "stream",
     "text": [
      "['randominsertion', 'reversal', 'randomphasic']: 100%|██████████| 1022/1022 [00:26<00:00, 39.28it/s]\n"
     ]
    },
    {
     "name": "stdout",
     "output_type": "stream",
     "text": [
      "-------------Running ['randominsertion', 'reversal', 'mirror']-------------------\n"
     ]
    },
    {
     "name": "stderr",
     "output_type": "stream",
     "text": [
      "['randominsertion', 'reversal', 'mirror']: 100%|██████████| 1022/1022 [00:22<00:00, 46.31it/s]\n"
     ]
    }
   ],
   "source": [
    "folpath = 'exhaustive_generated_set\\\\10'\n",
    "for transformation in utils.HAHN_TRANSFORMATION_COMBOS:\n",
    "    if 'randominsertion' in transformation:\n",
    "        print(f'-------------Running {transformation}-------------------')\n",
    "        for filepath in tqdm(os.listdir(folpath), desc=f'{transformation}'):\n",
    "            imgpath = os.path.join(folpath, filepath)\n",
    "            imgin = Image.open(imgpath)\n",
    "            imgin = transform(imgin).unsqueeze(0).to(device)\n",
    "\n",
    "            imglist = pkl10[filepath.split('.')[0]]\n",
    "            # print(imglist)\n",
    "            for t in transformation:\n",
    "                func = getattr(utils, t)\n",
    "                imglist = func(imglist)\n",
    "            # print(imglist)\n",
    "            imgout = utils.array2img(imglist, num_circles=len(imglist), radius=0.75)\n",
    "            imgout = transform(imgout).unsqueeze(0).to(device)\n",
    "\n",
    "            with torch.no_grad():\n",
    "                resnet18(imgin)\n",
    "                resnet18(imgout)\n",
    "            assert len(last_activations) == 2\n",
    "            tensin = last_activations[0].flatten().unsqueeze(0)\n",
    "            tensout = last_activations[1].flatten().unsqueeze(0)\n",
    "            sim = torch.nn.functional.cosine_similarity(tensin, tensout, dim=1)\n",
    "            similaritiesdict[str(transformation)].append(sim)\n",
    "            last_activations = []"
   ]
  },
  {
   "cell_type": "code",
   "execution_count": 22,
   "metadata": {},
   "outputs": [],
   "source": [
    "for _, v in similaritiesdict.items():\n",
    "    assert len(v) == utils.EXPECTED_LEN_10\n",
    "with open(f'similarities/exhaustive/resnet/unfilled10.pkl', 'wb') as f:\n",
    "    pickle.dump(similaritiesdict, f)"
   ]
  },
  {
   "cell_type": "code",
   "execution_count": 81,
   "metadata": {},
   "outputs": [
    {
     "name": "stderr",
     "output_type": "stream",
     "text": [
      "100%|██████████| 1000/1000 [00:34<00:00, 28.82it/s]\n"
     ]
    }
   ],
   "source": [
    "similaritiesdict = defaultdict(list)\n",
    "last_activations = []\n",
    "for _ in tqdm(range(1000)):\n",
    "    l1 = utils.random_binary_list()\n",
    "    l2 = utils.random_binary_list()\n",
    "    img1 = utils.array2img(l1, num_circles=len(l1), radius=0.75)\n",
    "    img2 = utils.array2img(l2, num_circles=len(l2), radius=0.75)\n",
    "    img1 = transform(img1).unsqueeze(0).to(device)\n",
    "    img2 = transform(img2).unsqueeze(0).to(device)\n",
    "    with torch.no_grad():\n",
    "        resnet18(img1)\n",
    "        resnet18(img2)\n",
    "    assert len(last_activations) == 2\n",
    "    tensin = last_activations[0].flatten().unsqueeze(0)\n",
    "    tensout = last_activations[1].flatten().unsqueeze(0)\n",
    "    sim = torch.nn.functional.cosine_similarity(tensin, tensout, dim=1)\n",
    "    similaritiesdict['ResNet18'].append(sim)\n",
    "    last_activations = []\n",
    "with open(f'similarities/exhaustive/resnet/random.pkl', 'wb') as f:\n",
    "    pickle.dump(similaritiesdict, f)"
   ]
  },
  {
   "cell_type": "markdown",
   "metadata": {},
   "source": [
    "## VGG"
   ]
  },
  {
   "cell_type": "markdown",
   "metadata": {},
   "source": [
    "### Hook Final Activation Layer"
   ]
  },
  {
   "cell_type": "code",
   "execution_count": 24,
   "metadata": {},
   "outputs": [],
   "source": [
    "vgg16 = models.vgg16(weights=models.VGG16_Weights.IMAGENET1K_V1).to(device)"
   ]
  },
  {
   "cell_type": "code",
   "execution_count": 25,
   "metadata": {},
   "outputs": [
    {
     "data": {
      "text/plain": [
       "VGG(\n",
       "  (features): Sequential(\n",
       "    (0): Conv2d(3, 64, kernel_size=(3, 3), stride=(1, 1), padding=(1, 1))\n",
       "    (1): ReLU(inplace=True)\n",
       "    (2): Conv2d(64, 64, kernel_size=(3, 3), stride=(1, 1), padding=(1, 1))\n",
       "    (3): ReLU(inplace=True)\n",
       "    (4): MaxPool2d(kernel_size=2, stride=2, padding=0, dilation=1, ceil_mode=False)\n",
       "    (5): Conv2d(64, 128, kernel_size=(3, 3), stride=(1, 1), padding=(1, 1))\n",
       "    (6): ReLU(inplace=True)\n",
       "    (7): Conv2d(128, 128, kernel_size=(3, 3), stride=(1, 1), padding=(1, 1))\n",
       "    (8): ReLU(inplace=True)\n",
       "    (9): MaxPool2d(kernel_size=2, stride=2, padding=0, dilation=1, ceil_mode=False)\n",
       "    (10): Conv2d(128, 256, kernel_size=(3, 3), stride=(1, 1), padding=(1, 1))\n",
       "    (11): ReLU(inplace=True)\n",
       "    (12): Conv2d(256, 256, kernel_size=(3, 3), stride=(1, 1), padding=(1, 1))\n",
       "    (13): ReLU(inplace=True)\n",
       "    (14): Conv2d(256, 256, kernel_size=(3, 3), stride=(1, 1), padding=(1, 1))\n",
       "    (15): ReLU(inplace=True)\n",
       "    (16): MaxPool2d(kernel_size=2, stride=2, padding=0, dilation=1, ceil_mode=False)\n",
       "    (17): Conv2d(256, 512, kernel_size=(3, 3), stride=(1, 1), padding=(1, 1))\n",
       "    (18): ReLU(inplace=True)\n",
       "    (19): Conv2d(512, 512, kernel_size=(3, 3), stride=(1, 1), padding=(1, 1))\n",
       "    (20): ReLU(inplace=True)\n",
       "    (21): Conv2d(512, 512, kernel_size=(3, 3), stride=(1, 1), padding=(1, 1))\n",
       "    (22): ReLU(inplace=True)\n",
       "    (23): MaxPool2d(kernel_size=2, stride=2, padding=0, dilation=1, ceil_mode=False)\n",
       "    (24): Conv2d(512, 512, kernel_size=(3, 3), stride=(1, 1), padding=(1, 1))\n",
       "    (25): ReLU(inplace=True)\n",
       "    (26): Conv2d(512, 512, kernel_size=(3, 3), stride=(1, 1), padding=(1, 1))\n",
       "    (27): ReLU(inplace=True)\n",
       "    (28): Conv2d(512, 512, kernel_size=(3, 3), stride=(1, 1), padding=(1, 1))\n",
       "    (29): ReLU(inplace=True)\n",
       "    (30): MaxPool2d(kernel_size=2, stride=2, padding=0, dilation=1, ceil_mode=False)\n",
       "  )\n",
       "  (avgpool): AdaptiveAvgPool2d(output_size=(7, 7))\n",
       "  (classifier): Sequential(\n",
       "    (0): Linear(in_features=25088, out_features=4096, bias=True)\n",
       "    (1): ReLU(inplace=True)\n",
       "    (2): Dropout(p=0.5, inplace=False)\n",
       "    (3): Linear(in_features=4096, out_features=4096, bias=True)\n",
       "    (4): ReLU(inplace=True)\n",
       "    (5): Dropout(p=0.5, inplace=False)\n",
       "    (6): Linear(in_features=4096, out_features=1000, bias=True)\n",
       "  )\n",
       ")"
      ]
     },
     "execution_count": 25,
     "metadata": {},
     "output_type": "execute_result"
    }
   ],
   "source": [
    "vgg16.eval()"
   ]
  },
  {
   "cell_type": "code",
   "execution_count": 26,
   "metadata": {},
   "outputs": [
    {
     "data": {
      "text/plain": [
       "Sequential(\n",
       "  (0): Linear(in_features=25088, out_features=4096, bias=True)\n",
       "  (1): ReLU(inplace=True)\n",
       "  (2): Dropout(p=0.5, inplace=False)\n",
       "  (3): Linear(in_features=4096, out_features=4096, bias=True)\n",
       "  (4): ReLU(inplace=True)\n",
       "  (5): Dropout(p=0.5, inplace=False)\n",
       "  (6): Linear(in_features=4096, out_features=1000, bias=True)\n",
       ")"
      ]
     },
     "execution_count": 26,
     "metadata": {},
     "output_type": "execute_result"
    }
   ],
   "source": [
    "vgg16.classifier"
   ]
  },
  {
   "cell_type": "code",
   "execution_count": 27,
   "metadata": {},
   "outputs": [
    {
     "data": {
      "text/plain": [
       "<torch.utils.hooks.RemovableHandle at 0x27238987310>"
      ]
     },
     "execution_count": 27,
     "metadata": {},
     "output_type": "execute_result"
    }
   ],
   "source": [
    "vgg16.classifier[6].register_forward_hook(get_last_layer_activation)"
   ]
  },
  {
   "cell_type": "markdown",
   "metadata": {},
   "source": [
    "### Run Inference"
   ]
  },
  {
   "cell_type": "code",
   "execution_count": 28,
   "metadata": {},
   "outputs": [
    {
     "name": "stdout",
     "output_type": "stream",
     "text": [
      "-------------Running ['reversal']-------------------\n"
     ]
    },
    {
     "name": "stderr",
     "output_type": "stream",
     "text": [
      "['reversal']: 100%|██████████| 4094/4094 [01:59<00:00, 34.38it/s]\n"
     ]
    },
    {
     "name": "stdout",
     "output_type": "stream",
     "text": [
      "-------------Running ['mirror']-------------------\n"
     ]
    },
    {
     "name": "stderr",
     "output_type": "stream",
     "text": [
      "['mirror']: 100%|██████████| 4094/4094 [02:04<00:00, 32.80it/s]\n"
     ]
    },
    {
     "name": "stdout",
     "output_type": "stream",
     "text": [
      "-------------Running ['randomphasic']-------------------\n"
     ]
    },
    {
     "name": "stderr",
     "output_type": "stream",
     "text": [
      "['randomphasic']: 100%|██████████| 4094/4094 [01:57<00:00, 34.81it/s]\n"
     ]
    },
    {
     "name": "stdout",
     "output_type": "stream",
     "text": [
      "-------------Running ['randomdelete']-------------------\n"
     ]
    },
    {
     "name": "stderr",
     "output_type": "stream",
     "text": [
      "['randomdelete']: 100%|██████████| 4094/4094 [01:59<00:00, 34.27it/s]\n"
     ]
    },
    {
     "name": "stdout",
     "output_type": "stream",
     "text": [
      "-------------Running ['reversal', 'mirror']-------------------\n"
     ]
    },
    {
     "name": "stderr",
     "output_type": "stream",
     "text": [
      "['reversal', 'mirror']: 100%|██████████| 4094/4094 [02:05<00:00, 32.56it/s]\n"
     ]
    },
    {
     "name": "stdout",
     "output_type": "stream",
     "text": [
      "-------------Running ['randomdelete', 'mirror']-------------------\n"
     ]
    },
    {
     "name": "stderr",
     "output_type": "stream",
     "text": [
      "['randomdelete', 'mirror']: 100%|██████████| 4094/4094 [02:06<00:00, 32.32it/s]\n"
     ]
    },
    {
     "name": "stdout",
     "output_type": "stream",
     "text": [
      "-------------Running ['reversal', 'randomphasic']-------------------\n"
     ]
    },
    {
     "name": "stderr",
     "output_type": "stream",
     "text": [
      "['reversal', 'randomphasic']: 100%|██████████| 4094/4094 [02:26<00:00, 27.93it/s]\n"
     ]
    },
    {
     "name": "stdout",
     "output_type": "stream",
     "text": [
      "-------------Running ['randomdelete', 'reversal', 'randomphasic']-------------------\n"
     ]
    },
    {
     "name": "stderr",
     "output_type": "stream",
     "text": [
      "['randomdelete', 'reversal', 'randomphasic']: 100%|██████████| 4094/4094 [02:37<00:00, 25.91it/s]\n"
     ]
    },
    {
     "name": "stdout",
     "output_type": "stream",
     "text": [
      "-------------Running ['randomdelete', 'reversal', 'mirror']-------------------\n"
     ]
    },
    {
     "name": "stderr",
     "output_type": "stream",
     "text": [
      "['randomdelete', 'reversal', 'mirror']: 100%|██████████| 4094/4094 [03:06<00:00, 21.98it/s]  \n"
     ]
    }
   ],
   "source": [
    "pkl12path = 'mappings/exhaustive_mapping_12.pkl'\n",
    "pkl12 = utils.load_dict(pkl12path)\n",
    "similaritiesdict = defaultdict(list)\n",
    "last_activations = []\n",
    "folpath = 'exhaustive_generated_set\\\\12'\n",
    "for transformation in utils.HAHN_TRANSFORMATION_COMBOS:\n",
    "    if not 'randominsertion' in transformation:\n",
    "        print(f'-------------Running {transformation}-------------------')\n",
    "        for filepath in tqdm(os.listdir(folpath), desc=f'{transformation}'):\n",
    "            imgpath = os.path.join(folpath, filepath)\n",
    "            imgin = Image.open(imgpath)\n",
    "            imgin = transform(imgin).unsqueeze(0).to(device)\n",
    "\n",
    "            imglist = pkl12[filepath.split('.')[0]]\n",
    "            # print(imglist)\n",
    "            for t in transformation:\n",
    "                func = getattr(utils, t)\n",
    "                imglist = func(imglist)\n",
    "            # print(imglist)\n",
    "            imgout = utils.array2img(imglist, num_circles=len(imglist), radius=0.75)\n",
    "            imgout = transform(imgout).unsqueeze(0).to(device)\n",
    "\n",
    "            with torch.no_grad():\n",
    "                vgg16(imgin)\n",
    "                vgg16(imgout)\n",
    "            assert len(last_activations) == 2\n",
    "            tensin = last_activations[0].flatten().unsqueeze(0)\n",
    "            tensout = last_activations[1].flatten().unsqueeze(0)\n",
    "            sim = torch.nn.functional.cosine_similarity(tensin, tensout, dim=1)\n",
    "            similaritiesdict[str(transformation)].append(sim)\n",
    "            last_activations = []"
   ]
  },
  {
   "cell_type": "code",
   "execution_count": 29,
   "metadata": {},
   "outputs": [],
   "source": [
    "for _, v in similaritiesdict.items():\n",
    "    assert len(v) == utils.EXPECTED_LEN_12\n",
    "with open(f'similarities/exhaustive/vgg/filled.pkl', 'wb') as f:\n",
    "    pickle.dump(similaritiesdict, f)"
   ]
  },
  {
   "cell_type": "code",
   "execution_count": 30,
   "metadata": {},
   "outputs": [
    {
     "name": "stdout",
     "output_type": "stream",
     "text": [
      "-------------Running ['randominsertion', 'randomphasic']-------------------\n"
     ]
    },
    {
     "name": "stderr",
     "output_type": "stream",
     "text": [
      "['randominsertion', 'randomphasic']: 100%|██████████| 2046/2046 [01:31<00:00, 22.44it/s]\n"
     ]
    },
    {
     "name": "stdout",
     "output_type": "stream",
     "text": [
      "-------------Running ['randominsertion', 'reversal', 'randomphasic']-------------------\n"
     ]
    },
    {
     "name": "stderr",
     "output_type": "stream",
     "text": [
      "['randominsertion', 'reversal', 'randomphasic']: 100%|██████████| 2046/2046 [01:17<00:00, 26.52it/s]\n"
     ]
    },
    {
     "name": "stdout",
     "output_type": "stream",
     "text": [
      "-------------Running ['randominsertion', 'reversal', 'mirror']-------------------\n"
     ]
    },
    {
     "name": "stderr",
     "output_type": "stream",
     "text": [
      "['randominsertion', 'reversal', 'mirror']: 100%|██████████| 2046/2046 [03:28<00:00,  9.81it/s]  \n"
     ]
    }
   ],
   "source": [
    "pkl11path = 'mappings/exhaustive_mapping_11.pkl'\n",
    "pkl11 = utils.load_dict(pkl11path)\n",
    "similaritiesdict = defaultdict(list)\n",
    "last_activations = []\n",
    "folpath = 'exhaustive_generated_set\\\\11'\n",
    "for transformation in utils.HAHN_TRANSFORMATION_COMBOS:\n",
    "    if 'randominsertion' in transformation:\n",
    "        print(f'-------------Running {transformation}-------------------')\n",
    "        for filepath in tqdm(os.listdir(folpath), desc=f'{transformation}'):\n",
    "            imgpath = os.path.join(folpath, filepath)\n",
    "            imgin = Image.open(imgpath)\n",
    "            imgin = transform(imgin).unsqueeze(0).to(device)\n",
    "\n",
    "            imglist = pkl11[filepath.split('.')[0]]\n",
    "            # print(imglist)\n",
    "            for t in transformation:\n",
    "                func = getattr(utils, t)\n",
    "                imglist = func(imglist)\n",
    "            # print(imglist)\n",
    "            imgout = utils.array2img(imglist, num_circles=len(imglist), radius=0.75)\n",
    "            imgout = transform(imgout).unsqueeze(0).to(device)\n",
    "\n",
    "            with torch.no_grad():\n",
    "                vgg16(imgin)\n",
    "                vgg16(imgout)\n",
    "            assert len(last_activations) == 2\n",
    "            tensin = last_activations[0].flatten().unsqueeze(0)\n",
    "            tensout = last_activations[1].flatten().unsqueeze(0)\n",
    "            sim = torch.nn.functional.cosine_similarity(tensin, tensout, dim=1)\n",
    "            similaritiesdict[str(transformation)].append(sim)\n",
    "            last_activations = []"
   ]
  },
  {
   "cell_type": "code",
   "execution_count": 31,
   "metadata": {},
   "outputs": [],
   "source": [
    "for _, v in similaritiesdict.items():\n",
    "    assert len(v) == utils.EXPECTED_LEN_11\n",
    "with open(f'similarities/exhaustive/vgg/unfilled11.pkl', 'wb') as f:\n",
    "    pickle.dump(similaritiesdict, f)"
   ]
  },
  {
   "cell_type": "code",
   "execution_count": 32,
   "metadata": {},
   "outputs": [
    {
     "name": "stdout",
     "output_type": "stream",
     "text": [
      "-------------Running ['randominsertion', 'randomphasic']-------------------\n"
     ]
    },
    {
     "name": "stderr",
     "output_type": "stream",
     "text": [
      "['randominsertion', 'randomphasic']: 100%|██████████| 1022/1022 [00:25<00:00, 39.51it/s]\n"
     ]
    },
    {
     "name": "stdout",
     "output_type": "stream",
     "text": [
      "-------------Running ['randominsertion', 'reversal', 'randomphasic']-------------------\n"
     ]
    },
    {
     "name": "stderr",
     "output_type": "stream",
     "text": [
      "['randominsertion', 'reversal', 'randomphasic']: 100%|██████████| 1022/1022 [00:39<00:00, 25.80it/s]\n"
     ]
    },
    {
     "name": "stdout",
     "output_type": "stream",
     "text": [
      "-------------Running ['randominsertion', 'reversal', 'mirror']-------------------\n"
     ]
    },
    {
     "name": "stderr",
     "output_type": "stream",
     "text": [
      "['randominsertion', 'reversal', 'mirror']: 100%|██████████| 1022/1022 [00:36<00:00, 27.77it/s]\n"
     ]
    }
   ],
   "source": [
    "pkl10path = 'mappings/exhaustive_mapping_10.pkl'\n",
    "pkl10 = utils.load_dict(pkl10path)\n",
    "similaritiesdict = defaultdict(list)\n",
    "last_activations = []\n",
    "folpath = 'exhaustive_generated_set\\\\10'\n",
    "for transformation in utils.HAHN_TRANSFORMATION_COMBOS:\n",
    "    if 'randominsertion' in transformation:\n",
    "        print(f'-------------Running {transformation}-------------------')\n",
    "        for filepath in tqdm(os.listdir(folpath), desc=f'{transformation}'):\n",
    "            imgpath = os.path.join(folpath, filepath)\n",
    "            imgin = Image.open(imgpath)\n",
    "            imgin = transform(imgin).unsqueeze(0).to(device)\n",
    "\n",
    "            imglist = pkl10[filepath.split('.')[0]]\n",
    "            # print(imglist)\n",
    "            for t in transformation:\n",
    "                func = getattr(utils, t)\n",
    "                imglist = func(imglist)\n",
    "            # print(imglist)\n",
    "            imgout = utils.array2img(imglist, num_circles=len(imglist), radius=0.75)\n",
    "            imgout = transform(imgout).unsqueeze(0).to(device)\n",
    "\n",
    "            with torch.no_grad():\n",
    "                vgg16(imgin)\n",
    "                vgg16(imgout)\n",
    "            assert len(last_activations) == 2\n",
    "            tensin = last_activations[0].flatten().unsqueeze(0)\n",
    "            tensout = last_activations[1].flatten().unsqueeze(0)\n",
    "            sim = torch.nn.functional.cosine_similarity(tensin, tensout, dim=1)\n",
    "            similaritiesdict[str(transformation)].append(sim)\n",
    "            last_activations = []"
   ]
  },
  {
   "cell_type": "code",
   "execution_count": 33,
   "metadata": {},
   "outputs": [],
   "source": [
    "for _, v in similaritiesdict.items():\n",
    "    assert len(v) == utils.EXPECTED_LEN_10\n",
    "with open(f'similarities/exhaustive/vgg/unfilled10.pkl', 'wb') as f:\n",
    "    pickle.dump(similaritiesdict, f)"
   ]
  },
  {
   "cell_type": "code",
   "execution_count": 82,
   "metadata": {},
   "outputs": [
    {
     "name": "stderr",
     "output_type": "stream",
     "text": [
      "100%|██████████| 1000/1000 [00:36<00:00, 27.24it/s]\n"
     ]
    }
   ],
   "source": [
    "similaritiesdict = defaultdict(list)\n",
    "last_activations = []\n",
    "for _ in tqdm(range(1000)):\n",
    "    l1 = utils.random_binary_list()\n",
    "    l2 = utils.random_binary_list()\n",
    "    img1 = utils.array2img(l1, num_circles=len(l1), radius=0.75)\n",
    "    img2 = utils.array2img(l2, num_circles=len(l2), radius=0.75)\n",
    "    img1 = transform(img1).unsqueeze(0).to(device)\n",
    "    img2 = transform(img2).unsqueeze(0).to(device)\n",
    "    with torch.no_grad():\n",
    "        vgg16(img1)\n",
    "        vgg16(img2)\n",
    "    assert len(last_activations) == 2\n",
    "    tensin = last_activations[0].flatten().unsqueeze(0)\n",
    "    tensout = last_activations[1].flatten().unsqueeze(0)\n",
    "    sim = torch.nn.functional.cosine_similarity(tensin, tensout, dim=1)\n",
    "    similaritiesdict['VGG16'].append(sim)\n",
    "    last_activations = []\n",
    "with open(f'similarities/exhaustive/vgg/random.pkl', 'wb') as f:\n",
    "    pickle.dump(similaritiesdict, f)"
   ]
  },
  {
   "cell_type": "markdown",
   "metadata": {},
   "source": [
    "## DenseNet"
   ]
  },
  {
   "cell_type": "markdown",
   "metadata": {},
   "source": [
    "### Hook Final Activation Layer"
   ]
  },
  {
   "cell_type": "code",
   "execution_count": 35,
   "metadata": {},
   "outputs": [],
   "source": [
    "densenet121 = models.densenet121(weights=models.DenseNet121_Weights.IMAGENET1K_V1).to(device)"
   ]
  },
  {
   "cell_type": "code",
   "execution_count": 36,
   "metadata": {},
   "outputs": [
    {
     "data": {
      "text/plain": [
       "DenseNet(\n",
       "  (features): Sequential(\n",
       "    (conv0): Conv2d(3, 64, kernel_size=(7, 7), stride=(2, 2), padding=(3, 3), bias=False)\n",
       "    (norm0): BatchNorm2d(64, eps=1e-05, momentum=0.1, affine=True, track_running_stats=True)\n",
       "    (relu0): ReLU(inplace=True)\n",
       "    (pool0): MaxPool2d(kernel_size=3, stride=2, padding=1, dilation=1, ceil_mode=False)\n",
       "    (denseblock1): _DenseBlock(\n",
       "      (denselayer1): _DenseLayer(\n",
       "        (norm1): BatchNorm2d(64, eps=1e-05, momentum=0.1, affine=True, track_running_stats=True)\n",
       "        (relu1): ReLU(inplace=True)\n",
       "        (conv1): Conv2d(64, 128, kernel_size=(1, 1), stride=(1, 1), bias=False)\n",
       "        (norm2): BatchNorm2d(128, eps=1e-05, momentum=0.1, affine=True, track_running_stats=True)\n",
       "        (relu2): ReLU(inplace=True)\n",
       "        (conv2): Conv2d(128, 32, kernel_size=(3, 3), stride=(1, 1), padding=(1, 1), bias=False)\n",
       "      )\n",
       "      (denselayer2): _DenseLayer(\n",
       "        (norm1): BatchNorm2d(96, eps=1e-05, momentum=0.1, affine=True, track_running_stats=True)\n",
       "        (relu1): ReLU(inplace=True)\n",
       "        (conv1): Conv2d(96, 128, kernel_size=(1, 1), stride=(1, 1), bias=False)\n",
       "        (norm2): BatchNorm2d(128, eps=1e-05, momentum=0.1, affine=True, track_running_stats=True)\n",
       "        (relu2): ReLU(inplace=True)\n",
       "        (conv2): Conv2d(128, 32, kernel_size=(3, 3), stride=(1, 1), padding=(1, 1), bias=False)\n",
       "      )\n",
       "      (denselayer3): _DenseLayer(\n",
       "        (norm1): BatchNorm2d(128, eps=1e-05, momentum=0.1, affine=True, track_running_stats=True)\n",
       "        (relu1): ReLU(inplace=True)\n",
       "        (conv1): Conv2d(128, 128, kernel_size=(1, 1), stride=(1, 1), bias=False)\n",
       "        (norm2): BatchNorm2d(128, eps=1e-05, momentum=0.1, affine=True, track_running_stats=True)\n",
       "        (relu2): ReLU(inplace=True)\n",
       "        (conv2): Conv2d(128, 32, kernel_size=(3, 3), stride=(1, 1), padding=(1, 1), bias=False)\n",
       "      )\n",
       "      (denselayer4): _DenseLayer(\n",
       "        (norm1): BatchNorm2d(160, eps=1e-05, momentum=0.1, affine=True, track_running_stats=True)\n",
       "        (relu1): ReLU(inplace=True)\n",
       "        (conv1): Conv2d(160, 128, kernel_size=(1, 1), stride=(1, 1), bias=False)\n",
       "        (norm2): BatchNorm2d(128, eps=1e-05, momentum=0.1, affine=True, track_running_stats=True)\n",
       "        (relu2): ReLU(inplace=True)\n",
       "        (conv2): Conv2d(128, 32, kernel_size=(3, 3), stride=(1, 1), padding=(1, 1), bias=False)\n",
       "      )\n",
       "      (denselayer5): _DenseLayer(\n",
       "        (norm1): BatchNorm2d(192, eps=1e-05, momentum=0.1, affine=True, track_running_stats=True)\n",
       "        (relu1): ReLU(inplace=True)\n",
       "        (conv1): Conv2d(192, 128, kernel_size=(1, 1), stride=(1, 1), bias=False)\n",
       "        (norm2): BatchNorm2d(128, eps=1e-05, momentum=0.1, affine=True, track_running_stats=True)\n",
       "        (relu2): ReLU(inplace=True)\n",
       "        (conv2): Conv2d(128, 32, kernel_size=(3, 3), stride=(1, 1), padding=(1, 1), bias=False)\n",
       "      )\n",
       "      (denselayer6): _DenseLayer(\n",
       "        (norm1): BatchNorm2d(224, eps=1e-05, momentum=0.1, affine=True, track_running_stats=True)\n",
       "        (relu1): ReLU(inplace=True)\n",
       "        (conv1): Conv2d(224, 128, kernel_size=(1, 1), stride=(1, 1), bias=False)\n",
       "        (norm2): BatchNorm2d(128, eps=1e-05, momentum=0.1, affine=True, track_running_stats=True)\n",
       "        (relu2): ReLU(inplace=True)\n",
       "        (conv2): Conv2d(128, 32, kernel_size=(3, 3), stride=(1, 1), padding=(1, 1), bias=False)\n",
       "      )\n",
       "    )\n",
       "    (transition1): _Transition(\n",
       "      (norm): BatchNorm2d(256, eps=1e-05, momentum=0.1, affine=True, track_running_stats=True)\n",
       "      (relu): ReLU(inplace=True)\n",
       "      (conv): Conv2d(256, 128, kernel_size=(1, 1), stride=(1, 1), bias=False)\n",
       "      (pool): AvgPool2d(kernel_size=2, stride=2, padding=0)\n",
       "    )\n",
       "    (denseblock2): _DenseBlock(\n",
       "      (denselayer1): _DenseLayer(\n",
       "        (norm1): BatchNorm2d(128, eps=1e-05, momentum=0.1, affine=True, track_running_stats=True)\n",
       "        (relu1): ReLU(inplace=True)\n",
       "        (conv1): Conv2d(128, 128, kernel_size=(1, 1), stride=(1, 1), bias=False)\n",
       "        (norm2): BatchNorm2d(128, eps=1e-05, momentum=0.1, affine=True, track_running_stats=True)\n",
       "        (relu2): ReLU(inplace=True)\n",
       "        (conv2): Conv2d(128, 32, kernel_size=(3, 3), stride=(1, 1), padding=(1, 1), bias=False)\n",
       "      )\n",
       "      (denselayer2): _DenseLayer(\n",
       "        (norm1): BatchNorm2d(160, eps=1e-05, momentum=0.1, affine=True, track_running_stats=True)\n",
       "        (relu1): ReLU(inplace=True)\n",
       "        (conv1): Conv2d(160, 128, kernel_size=(1, 1), stride=(1, 1), bias=False)\n",
       "        (norm2): BatchNorm2d(128, eps=1e-05, momentum=0.1, affine=True, track_running_stats=True)\n",
       "        (relu2): ReLU(inplace=True)\n",
       "        (conv2): Conv2d(128, 32, kernel_size=(3, 3), stride=(1, 1), padding=(1, 1), bias=False)\n",
       "      )\n",
       "      (denselayer3): _DenseLayer(\n",
       "        (norm1): BatchNorm2d(192, eps=1e-05, momentum=0.1, affine=True, track_running_stats=True)\n",
       "        (relu1): ReLU(inplace=True)\n",
       "        (conv1): Conv2d(192, 128, kernel_size=(1, 1), stride=(1, 1), bias=False)\n",
       "        (norm2): BatchNorm2d(128, eps=1e-05, momentum=0.1, affine=True, track_running_stats=True)\n",
       "        (relu2): ReLU(inplace=True)\n",
       "        (conv2): Conv2d(128, 32, kernel_size=(3, 3), stride=(1, 1), padding=(1, 1), bias=False)\n",
       "      )\n",
       "      (denselayer4): _DenseLayer(\n",
       "        (norm1): BatchNorm2d(224, eps=1e-05, momentum=0.1, affine=True, track_running_stats=True)\n",
       "        (relu1): ReLU(inplace=True)\n",
       "        (conv1): Conv2d(224, 128, kernel_size=(1, 1), stride=(1, 1), bias=False)\n",
       "        (norm2): BatchNorm2d(128, eps=1e-05, momentum=0.1, affine=True, track_running_stats=True)\n",
       "        (relu2): ReLU(inplace=True)\n",
       "        (conv2): Conv2d(128, 32, kernel_size=(3, 3), stride=(1, 1), padding=(1, 1), bias=False)\n",
       "      )\n",
       "      (denselayer5): _DenseLayer(\n",
       "        (norm1): BatchNorm2d(256, eps=1e-05, momentum=0.1, affine=True, track_running_stats=True)\n",
       "        (relu1): ReLU(inplace=True)\n",
       "        (conv1): Conv2d(256, 128, kernel_size=(1, 1), stride=(1, 1), bias=False)\n",
       "        (norm2): BatchNorm2d(128, eps=1e-05, momentum=0.1, affine=True, track_running_stats=True)\n",
       "        (relu2): ReLU(inplace=True)\n",
       "        (conv2): Conv2d(128, 32, kernel_size=(3, 3), stride=(1, 1), padding=(1, 1), bias=False)\n",
       "      )\n",
       "      (denselayer6): _DenseLayer(\n",
       "        (norm1): BatchNorm2d(288, eps=1e-05, momentum=0.1, affine=True, track_running_stats=True)\n",
       "        (relu1): ReLU(inplace=True)\n",
       "        (conv1): Conv2d(288, 128, kernel_size=(1, 1), stride=(1, 1), bias=False)\n",
       "        (norm2): BatchNorm2d(128, eps=1e-05, momentum=0.1, affine=True, track_running_stats=True)\n",
       "        (relu2): ReLU(inplace=True)\n",
       "        (conv2): Conv2d(128, 32, kernel_size=(3, 3), stride=(1, 1), padding=(1, 1), bias=False)\n",
       "      )\n",
       "      (denselayer7): _DenseLayer(\n",
       "        (norm1): BatchNorm2d(320, eps=1e-05, momentum=0.1, affine=True, track_running_stats=True)\n",
       "        (relu1): ReLU(inplace=True)\n",
       "        (conv1): Conv2d(320, 128, kernel_size=(1, 1), stride=(1, 1), bias=False)\n",
       "        (norm2): BatchNorm2d(128, eps=1e-05, momentum=0.1, affine=True, track_running_stats=True)\n",
       "        (relu2): ReLU(inplace=True)\n",
       "        (conv2): Conv2d(128, 32, kernel_size=(3, 3), stride=(1, 1), padding=(1, 1), bias=False)\n",
       "      )\n",
       "      (denselayer8): _DenseLayer(\n",
       "        (norm1): BatchNorm2d(352, eps=1e-05, momentum=0.1, affine=True, track_running_stats=True)\n",
       "        (relu1): ReLU(inplace=True)\n",
       "        (conv1): Conv2d(352, 128, kernel_size=(1, 1), stride=(1, 1), bias=False)\n",
       "        (norm2): BatchNorm2d(128, eps=1e-05, momentum=0.1, affine=True, track_running_stats=True)\n",
       "        (relu2): ReLU(inplace=True)\n",
       "        (conv2): Conv2d(128, 32, kernel_size=(3, 3), stride=(1, 1), padding=(1, 1), bias=False)\n",
       "      )\n",
       "      (denselayer9): _DenseLayer(\n",
       "        (norm1): BatchNorm2d(384, eps=1e-05, momentum=0.1, affine=True, track_running_stats=True)\n",
       "        (relu1): ReLU(inplace=True)\n",
       "        (conv1): Conv2d(384, 128, kernel_size=(1, 1), stride=(1, 1), bias=False)\n",
       "        (norm2): BatchNorm2d(128, eps=1e-05, momentum=0.1, affine=True, track_running_stats=True)\n",
       "        (relu2): ReLU(inplace=True)\n",
       "        (conv2): Conv2d(128, 32, kernel_size=(3, 3), stride=(1, 1), padding=(1, 1), bias=False)\n",
       "      )\n",
       "      (denselayer10): _DenseLayer(\n",
       "        (norm1): BatchNorm2d(416, eps=1e-05, momentum=0.1, affine=True, track_running_stats=True)\n",
       "        (relu1): ReLU(inplace=True)\n",
       "        (conv1): Conv2d(416, 128, kernel_size=(1, 1), stride=(1, 1), bias=False)\n",
       "        (norm2): BatchNorm2d(128, eps=1e-05, momentum=0.1, affine=True, track_running_stats=True)\n",
       "        (relu2): ReLU(inplace=True)\n",
       "        (conv2): Conv2d(128, 32, kernel_size=(3, 3), stride=(1, 1), padding=(1, 1), bias=False)\n",
       "      )\n",
       "      (denselayer11): _DenseLayer(\n",
       "        (norm1): BatchNorm2d(448, eps=1e-05, momentum=0.1, affine=True, track_running_stats=True)\n",
       "        (relu1): ReLU(inplace=True)\n",
       "        (conv1): Conv2d(448, 128, kernel_size=(1, 1), stride=(1, 1), bias=False)\n",
       "        (norm2): BatchNorm2d(128, eps=1e-05, momentum=0.1, affine=True, track_running_stats=True)\n",
       "        (relu2): ReLU(inplace=True)\n",
       "        (conv2): Conv2d(128, 32, kernel_size=(3, 3), stride=(1, 1), padding=(1, 1), bias=False)\n",
       "      )\n",
       "      (denselayer12): _DenseLayer(\n",
       "        (norm1): BatchNorm2d(480, eps=1e-05, momentum=0.1, affine=True, track_running_stats=True)\n",
       "        (relu1): ReLU(inplace=True)\n",
       "        (conv1): Conv2d(480, 128, kernel_size=(1, 1), stride=(1, 1), bias=False)\n",
       "        (norm2): BatchNorm2d(128, eps=1e-05, momentum=0.1, affine=True, track_running_stats=True)\n",
       "        (relu2): ReLU(inplace=True)\n",
       "        (conv2): Conv2d(128, 32, kernel_size=(3, 3), stride=(1, 1), padding=(1, 1), bias=False)\n",
       "      )\n",
       "    )\n",
       "    (transition2): _Transition(\n",
       "      (norm): BatchNorm2d(512, eps=1e-05, momentum=0.1, affine=True, track_running_stats=True)\n",
       "      (relu): ReLU(inplace=True)\n",
       "      (conv): Conv2d(512, 256, kernel_size=(1, 1), stride=(1, 1), bias=False)\n",
       "      (pool): AvgPool2d(kernel_size=2, stride=2, padding=0)\n",
       "    )\n",
       "    (denseblock3): _DenseBlock(\n",
       "      (denselayer1): _DenseLayer(\n",
       "        (norm1): BatchNorm2d(256, eps=1e-05, momentum=0.1, affine=True, track_running_stats=True)\n",
       "        (relu1): ReLU(inplace=True)\n",
       "        (conv1): Conv2d(256, 128, kernel_size=(1, 1), stride=(1, 1), bias=False)\n",
       "        (norm2): BatchNorm2d(128, eps=1e-05, momentum=0.1, affine=True, track_running_stats=True)\n",
       "        (relu2): ReLU(inplace=True)\n",
       "        (conv2): Conv2d(128, 32, kernel_size=(3, 3), stride=(1, 1), padding=(1, 1), bias=False)\n",
       "      )\n",
       "      (denselayer2): _DenseLayer(\n",
       "        (norm1): BatchNorm2d(288, eps=1e-05, momentum=0.1, affine=True, track_running_stats=True)\n",
       "        (relu1): ReLU(inplace=True)\n",
       "        (conv1): Conv2d(288, 128, kernel_size=(1, 1), stride=(1, 1), bias=False)\n",
       "        (norm2): BatchNorm2d(128, eps=1e-05, momentum=0.1, affine=True, track_running_stats=True)\n",
       "        (relu2): ReLU(inplace=True)\n",
       "        (conv2): Conv2d(128, 32, kernel_size=(3, 3), stride=(1, 1), padding=(1, 1), bias=False)\n",
       "      )\n",
       "      (denselayer3): _DenseLayer(\n",
       "        (norm1): BatchNorm2d(320, eps=1e-05, momentum=0.1, affine=True, track_running_stats=True)\n",
       "        (relu1): ReLU(inplace=True)\n",
       "        (conv1): Conv2d(320, 128, kernel_size=(1, 1), stride=(1, 1), bias=False)\n",
       "        (norm2): BatchNorm2d(128, eps=1e-05, momentum=0.1, affine=True, track_running_stats=True)\n",
       "        (relu2): ReLU(inplace=True)\n",
       "        (conv2): Conv2d(128, 32, kernel_size=(3, 3), stride=(1, 1), padding=(1, 1), bias=False)\n",
       "      )\n",
       "      (denselayer4): _DenseLayer(\n",
       "        (norm1): BatchNorm2d(352, eps=1e-05, momentum=0.1, affine=True, track_running_stats=True)\n",
       "        (relu1): ReLU(inplace=True)\n",
       "        (conv1): Conv2d(352, 128, kernel_size=(1, 1), stride=(1, 1), bias=False)\n",
       "        (norm2): BatchNorm2d(128, eps=1e-05, momentum=0.1, affine=True, track_running_stats=True)\n",
       "        (relu2): ReLU(inplace=True)\n",
       "        (conv2): Conv2d(128, 32, kernel_size=(3, 3), stride=(1, 1), padding=(1, 1), bias=False)\n",
       "      )\n",
       "      (denselayer5): _DenseLayer(\n",
       "        (norm1): BatchNorm2d(384, eps=1e-05, momentum=0.1, affine=True, track_running_stats=True)\n",
       "        (relu1): ReLU(inplace=True)\n",
       "        (conv1): Conv2d(384, 128, kernel_size=(1, 1), stride=(1, 1), bias=False)\n",
       "        (norm2): BatchNorm2d(128, eps=1e-05, momentum=0.1, affine=True, track_running_stats=True)\n",
       "        (relu2): ReLU(inplace=True)\n",
       "        (conv2): Conv2d(128, 32, kernel_size=(3, 3), stride=(1, 1), padding=(1, 1), bias=False)\n",
       "      )\n",
       "      (denselayer6): _DenseLayer(\n",
       "        (norm1): BatchNorm2d(416, eps=1e-05, momentum=0.1, affine=True, track_running_stats=True)\n",
       "        (relu1): ReLU(inplace=True)\n",
       "        (conv1): Conv2d(416, 128, kernel_size=(1, 1), stride=(1, 1), bias=False)\n",
       "        (norm2): BatchNorm2d(128, eps=1e-05, momentum=0.1, affine=True, track_running_stats=True)\n",
       "        (relu2): ReLU(inplace=True)\n",
       "        (conv2): Conv2d(128, 32, kernel_size=(3, 3), stride=(1, 1), padding=(1, 1), bias=False)\n",
       "      )\n",
       "      (denselayer7): _DenseLayer(\n",
       "        (norm1): BatchNorm2d(448, eps=1e-05, momentum=0.1, affine=True, track_running_stats=True)\n",
       "        (relu1): ReLU(inplace=True)\n",
       "        (conv1): Conv2d(448, 128, kernel_size=(1, 1), stride=(1, 1), bias=False)\n",
       "        (norm2): BatchNorm2d(128, eps=1e-05, momentum=0.1, affine=True, track_running_stats=True)\n",
       "        (relu2): ReLU(inplace=True)\n",
       "        (conv2): Conv2d(128, 32, kernel_size=(3, 3), stride=(1, 1), padding=(1, 1), bias=False)\n",
       "      )\n",
       "      (denselayer8): _DenseLayer(\n",
       "        (norm1): BatchNorm2d(480, eps=1e-05, momentum=0.1, affine=True, track_running_stats=True)\n",
       "        (relu1): ReLU(inplace=True)\n",
       "        (conv1): Conv2d(480, 128, kernel_size=(1, 1), stride=(1, 1), bias=False)\n",
       "        (norm2): BatchNorm2d(128, eps=1e-05, momentum=0.1, affine=True, track_running_stats=True)\n",
       "        (relu2): ReLU(inplace=True)\n",
       "        (conv2): Conv2d(128, 32, kernel_size=(3, 3), stride=(1, 1), padding=(1, 1), bias=False)\n",
       "      )\n",
       "      (denselayer9): _DenseLayer(\n",
       "        (norm1): BatchNorm2d(512, eps=1e-05, momentum=0.1, affine=True, track_running_stats=True)\n",
       "        (relu1): ReLU(inplace=True)\n",
       "        (conv1): Conv2d(512, 128, kernel_size=(1, 1), stride=(1, 1), bias=False)\n",
       "        (norm2): BatchNorm2d(128, eps=1e-05, momentum=0.1, affine=True, track_running_stats=True)\n",
       "        (relu2): ReLU(inplace=True)\n",
       "        (conv2): Conv2d(128, 32, kernel_size=(3, 3), stride=(1, 1), padding=(1, 1), bias=False)\n",
       "      )\n",
       "      (denselayer10): _DenseLayer(\n",
       "        (norm1): BatchNorm2d(544, eps=1e-05, momentum=0.1, affine=True, track_running_stats=True)\n",
       "        (relu1): ReLU(inplace=True)\n",
       "        (conv1): Conv2d(544, 128, kernel_size=(1, 1), stride=(1, 1), bias=False)\n",
       "        (norm2): BatchNorm2d(128, eps=1e-05, momentum=0.1, affine=True, track_running_stats=True)\n",
       "        (relu2): ReLU(inplace=True)\n",
       "        (conv2): Conv2d(128, 32, kernel_size=(3, 3), stride=(1, 1), padding=(1, 1), bias=False)\n",
       "      )\n",
       "      (denselayer11): _DenseLayer(\n",
       "        (norm1): BatchNorm2d(576, eps=1e-05, momentum=0.1, affine=True, track_running_stats=True)\n",
       "        (relu1): ReLU(inplace=True)\n",
       "        (conv1): Conv2d(576, 128, kernel_size=(1, 1), stride=(1, 1), bias=False)\n",
       "        (norm2): BatchNorm2d(128, eps=1e-05, momentum=0.1, affine=True, track_running_stats=True)\n",
       "        (relu2): ReLU(inplace=True)\n",
       "        (conv2): Conv2d(128, 32, kernel_size=(3, 3), stride=(1, 1), padding=(1, 1), bias=False)\n",
       "      )\n",
       "      (denselayer12): _DenseLayer(\n",
       "        (norm1): BatchNorm2d(608, eps=1e-05, momentum=0.1, affine=True, track_running_stats=True)\n",
       "        (relu1): ReLU(inplace=True)\n",
       "        (conv1): Conv2d(608, 128, kernel_size=(1, 1), stride=(1, 1), bias=False)\n",
       "        (norm2): BatchNorm2d(128, eps=1e-05, momentum=0.1, affine=True, track_running_stats=True)\n",
       "        (relu2): ReLU(inplace=True)\n",
       "        (conv2): Conv2d(128, 32, kernel_size=(3, 3), stride=(1, 1), padding=(1, 1), bias=False)\n",
       "      )\n",
       "      (denselayer13): _DenseLayer(\n",
       "        (norm1): BatchNorm2d(640, eps=1e-05, momentum=0.1, affine=True, track_running_stats=True)\n",
       "        (relu1): ReLU(inplace=True)\n",
       "        (conv1): Conv2d(640, 128, kernel_size=(1, 1), stride=(1, 1), bias=False)\n",
       "        (norm2): BatchNorm2d(128, eps=1e-05, momentum=0.1, affine=True, track_running_stats=True)\n",
       "        (relu2): ReLU(inplace=True)\n",
       "        (conv2): Conv2d(128, 32, kernel_size=(3, 3), stride=(1, 1), padding=(1, 1), bias=False)\n",
       "      )\n",
       "      (denselayer14): _DenseLayer(\n",
       "        (norm1): BatchNorm2d(672, eps=1e-05, momentum=0.1, affine=True, track_running_stats=True)\n",
       "        (relu1): ReLU(inplace=True)\n",
       "        (conv1): Conv2d(672, 128, kernel_size=(1, 1), stride=(1, 1), bias=False)\n",
       "        (norm2): BatchNorm2d(128, eps=1e-05, momentum=0.1, affine=True, track_running_stats=True)\n",
       "        (relu2): ReLU(inplace=True)\n",
       "        (conv2): Conv2d(128, 32, kernel_size=(3, 3), stride=(1, 1), padding=(1, 1), bias=False)\n",
       "      )\n",
       "      (denselayer15): _DenseLayer(\n",
       "        (norm1): BatchNorm2d(704, eps=1e-05, momentum=0.1, affine=True, track_running_stats=True)\n",
       "        (relu1): ReLU(inplace=True)\n",
       "        (conv1): Conv2d(704, 128, kernel_size=(1, 1), stride=(1, 1), bias=False)\n",
       "        (norm2): BatchNorm2d(128, eps=1e-05, momentum=0.1, affine=True, track_running_stats=True)\n",
       "        (relu2): ReLU(inplace=True)\n",
       "        (conv2): Conv2d(128, 32, kernel_size=(3, 3), stride=(1, 1), padding=(1, 1), bias=False)\n",
       "      )\n",
       "      (denselayer16): _DenseLayer(\n",
       "        (norm1): BatchNorm2d(736, eps=1e-05, momentum=0.1, affine=True, track_running_stats=True)\n",
       "        (relu1): ReLU(inplace=True)\n",
       "        (conv1): Conv2d(736, 128, kernel_size=(1, 1), stride=(1, 1), bias=False)\n",
       "        (norm2): BatchNorm2d(128, eps=1e-05, momentum=0.1, affine=True, track_running_stats=True)\n",
       "        (relu2): ReLU(inplace=True)\n",
       "        (conv2): Conv2d(128, 32, kernel_size=(3, 3), stride=(1, 1), padding=(1, 1), bias=False)\n",
       "      )\n",
       "      (denselayer17): _DenseLayer(\n",
       "        (norm1): BatchNorm2d(768, eps=1e-05, momentum=0.1, affine=True, track_running_stats=True)\n",
       "        (relu1): ReLU(inplace=True)\n",
       "        (conv1): Conv2d(768, 128, kernel_size=(1, 1), stride=(1, 1), bias=False)\n",
       "        (norm2): BatchNorm2d(128, eps=1e-05, momentum=0.1, affine=True, track_running_stats=True)\n",
       "        (relu2): ReLU(inplace=True)\n",
       "        (conv2): Conv2d(128, 32, kernel_size=(3, 3), stride=(1, 1), padding=(1, 1), bias=False)\n",
       "      )\n",
       "      (denselayer18): _DenseLayer(\n",
       "        (norm1): BatchNorm2d(800, eps=1e-05, momentum=0.1, affine=True, track_running_stats=True)\n",
       "        (relu1): ReLU(inplace=True)\n",
       "        (conv1): Conv2d(800, 128, kernel_size=(1, 1), stride=(1, 1), bias=False)\n",
       "        (norm2): BatchNorm2d(128, eps=1e-05, momentum=0.1, affine=True, track_running_stats=True)\n",
       "        (relu2): ReLU(inplace=True)\n",
       "        (conv2): Conv2d(128, 32, kernel_size=(3, 3), stride=(1, 1), padding=(1, 1), bias=False)\n",
       "      )\n",
       "      (denselayer19): _DenseLayer(\n",
       "        (norm1): BatchNorm2d(832, eps=1e-05, momentum=0.1, affine=True, track_running_stats=True)\n",
       "        (relu1): ReLU(inplace=True)\n",
       "        (conv1): Conv2d(832, 128, kernel_size=(1, 1), stride=(1, 1), bias=False)\n",
       "        (norm2): BatchNorm2d(128, eps=1e-05, momentum=0.1, affine=True, track_running_stats=True)\n",
       "        (relu2): ReLU(inplace=True)\n",
       "        (conv2): Conv2d(128, 32, kernel_size=(3, 3), stride=(1, 1), padding=(1, 1), bias=False)\n",
       "      )\n",
       "      (denselayer20): _DenseLayer(\n",
       "        (norm1): BatchNorm2d(864, eps=1e-05, momentum=0.1, affine=True, track_running_stats=True)\n",
       "        (relu1): ReLU(inplace=True)\n",
       "        (conv1): Conv2d(864, 128, kernel_size=(1, 1), stride=(1, 1), bias=False)\n",
       "        (norm2): BatchNorm2d(128, eps=1e-05, momentum=0.1, affine=True, track_running_stats=True)\n",
       "        (relu2): ReLU(inplace=True)\n",
       "        (conv2): Conv2d(128, 32, kernel_size=(3, 3), stride=(1, 1), padding=(1, 1), bias=False)\n",
       "      )\n",
       "      (denselayer21): _DenseLayer(\n",
       "        (norm1): BatchNorm2d(896, eps=1e-05, momentum=0.1, affine=True, track_running_stats=True)\n",
       "        (relu1): ReLU(inplace=True)\n",
       "        (conv1): Conv2d(896, 128, kernel_size=(1, 1), stride=(1, 1), bias=False)\n",
       "        (norm2): BatchNorm2d(128, eps=1e-05, momentum=0.1, affine=True, track_running_stats=True)\n",
       "        (relu2): ReLU(inplace=True)\n",
       "        (conv2): Conv2d(128, 32, kernel_size=(3, 3), stride=(1, 1), padding=(1, 1), bias=False)\n",
       "      )\n",
       "      (denselayer22): _DenseLayer(\n",
       "        (norm1): BatchNorm2d(928, eps=1e-05, momentum=0.1, affine=True, track_running_stats=True)\n",
       "        (relu1): ReLU(inplace=True)\n",
       "        (conv1): Conv2d(928, 128, kernel_size=(1, 1), stride=(1, 1), bias=False)\n",
       "        (norm2): BatchNorm2d(128, eps=1e-05, momentum=0.1, affine=True, track_running_stats=True)\n",
       "        (relu2): ReLU(inplace=True)\n",
       "        (conv2): Conv2d(128, 32, kernel_size=(3, 3), stride=(1, 1), padding=(1, 1), bias=False)\n",
       "      )\n",
       "      (denselayer23): _DenseLayer(\n",
       "        (norm1): BatchNorm2d(960, eps=1e-05, momentum=0.1, affine=True, track_running_stats=True)\n",
       "        (relu1): ReLU(inplace=True)\n",
       "        (conv1): Conv2d(960, 128, kernel_size=(1, 1), stride=(1, 1), bias=False)\n",
       "        (norm2): BatchNorm2d(128, eps=1e-05, momentum=0.1, affine=True, track_running_stats=True)\n",
       "        (relu2): ReLU(inplace=True)\n",
       "        (conv2): Conv2d(128, 32, kernel_size=(3, 3), stride=(1, 1), padding=(1, 1), bias=False)\n",
       "      )\n",
       "      (denselayer24): _DenseLayer(\n",
       "        (norm1): BatchNorm2d(992, eps=1e-05, momentum=0.1, affine=True, track_running_stats=True)\n",
       "        (relu1): ReLU(inplace=True)\n",
       "        (conv1): Conv2d(992, 128, kernel_size=(1, 1), stride=(1, 1), bias=False)\n",
       "        (norm2): BatchNorm2d(128, eps=1e-05, momentum=0.1, affine=True, track_running_stats=True)\n",
       "        (relu2): ReLU(inplace=True)\n",
       "        (conv2): Conv2d(128, 32, kernel_size=(3, 3), stride=(1, 1), padding=(1, 1), bias=False)\n",
       "      )\n",
       "    )\n",
       "    (transition3): _Transition(\n",
       "      (norm): BatchNorm2d(1024, eps=1e-05, momentum=0.1, affine=True, track_running_stats=True)\n",
       "      (relu): ReLU(inplace=True)\n",
       "      (conv): Conv2d(1024, 512, kernel_size=(1, 1), stride=(1, 1), bias=False)\n",
       "      (pool): AvgPool2d(kernel_size=2, stride=2, padding=0)\n",
       "    )\n",
       "    (denseblock4): _DenseBlock(\n",
       "      (denselayer1): _DenseLayer(\n",
       "        (norm1): BatchNorm2d(512, eps=1e-05, momentum=0.1, affine=True, track_running_stats=True)\n",
       "        (relu1): ReLU(inplace=True)\n",
       "        (conv1): Conv2d(512, 128, kernel_size=(1, 1), stride=(1, 1), bias=False)\n",
       "        (norm2): BatchNorm2d(128, eps=1e-05, momentum=0.1, affine=True, track_running_stats=True)\n",
       "        (relu2): ReLU(inplace=True)\n",
       "        (conv2): Conv2d(128, 32, kernel_size=(3, 3), stride=(1, 1), padding=(1, 1), bias=False)\n",
       "      )\n",
       "      (denselayer2): _DenseLayer(\n",
       "        (norm1): BatchNorm2d(544, eps=1e-05, momentum=0.1, affine=True, track_running_stats=True)\n",
       "        (relu1): ReLU(inplace=True)\n",
       "        (conv1): Conv2d(544, 128, kernel_size=(1, 1), stride=(1, 1), bias=False)\n",
       "        (norm2): BatchNorm2d(128, eps=1e-05, momentum=0.1, affine=True, track_running_stats=True)\n",
       "        (relu2): ReLU(inplace=True)\n",
       "        (conv2): Conv2d(128, 32, kernel_size=(3, 3), stride=(1, 1), padding=(1, 1), bias=False)\n",
       "      )\n",
       "      (denselayer3): _DenseLayer(\n",
       "        (norm1): BatchNorm2d(576, eps=1e-05, momentum=0.1, affine=True, track_running_stats=True)\n",
       "        (relu1): ReLU(inplace=True)\n",
       "        (conv1): Conv2d(576, 128, kernel_size=(1, 1), stride=(1, 1), bias=False)\n",
       "        (norm2): BatchNorm2d(128, eps=1e-05, momentum=0.1, affine=True, track_running_stats=True)\n",
       "        (relu2): ReLU(inplace=True)\n",
       "        (conv2): Conv2d(128, 32, kernel_size=(3, 3), stride=(1, 1), padding=(1, 1), bias=False)\n",
       "      )\n",
       "      (denselayer4): _DenseLayer(\n",
       "        (norm1): BatchNorm2d(608, eps=1e-05, momentum=0.1, affine=True, track_running_stats=True)\n",
       "        (relu1): ReLU(inplace=True)\n",
       "        (conv1): Conv2d(608, 128, kernel_size=(1, 1), stride=(1, 1), bias=False)\n",
       "        (norm2): BatchNorm2d(128, eps=1e-05, momentum=0.1, affine=True, track_running_stats=True)\n",
       "        (relu2): ReLU(inplace=True)\n",
       "        (conv2): Conv2d(128, 32, kernel_size=(3, 3), stride=(1, 1), padding=(1, 1), bias=False)\n",
       "      )\n",
       "      (denselayer5): _DenseLayer(\n",
       "        (norm1): BatchNorm2d(640, eps=1e-05, momentum=0.1, affine=True, track_running_stats=True)\n",
       "        (relu1): ReLU(inplace=True)\n",
       "        (conv1): Conv2d(640, 128, kernel_size=(1, 1), stride=(1, 1), bias=False)\n",
       "        (norm2): BatchNorm2d(128, eps=1e-05, momentum=0.1, affine=True, track_running_stats=True)\n",
       "        (relu2): ReLU(inplace=True)\n",
       "        (conv2): Conv2d(128, 32, kernel_size=(3, 3), stride=(1, 1), padding=(1, 1), bias=False)\n",
       "      )\n",
       "      (denselayer6): _DenseLayer(\n",
       "        (norm1): BatchNorm2d(672, eps=1e-05, momentum=0.1, affine=True, track_running_stats=True)\n",
       "        (relu1): ReLU(inplace=True)\n",
       "        (conv1): Conv2d(672, 128, kernel_size=(1, 1), stride=(1, 1), bias=False)\n",
       "        (norm2): BatchNorm2d(128, eps=1e-05, momentum=0.1, affine=True, track_running_stats=True)\n",
       "        (relu2): ReLU(inplace=True)\n",
       "        (conv2): Conv2d(128, 32, kernel_size=(3, 3), stride=(1, 1), padding=(1, 1), bias=False)\n",
       "      )\n",
       "      (denselayer7): _DenseLayer(\n",
       "        (norm1): BatchNorm2d(704, eps=1e-05, momentum=0.1, affine=True, track_running_stats=True)\n",
       "        (relu1): ReLU(inplace=True)\n",
       "        (conv1): Conv2d(704, 128, kernel_size=(1, 1), stride=(1, 1), bias=False)\n",
       "        (norm2): BatchNorm2d(128, eps=1e-05, momentum=0.1, affine=True, track_running_stats=True)\n",
       "        (relu2): ReLU(inplace=True)\n",
       "        (conv2): Conv2d(128, 32, kernel_size=(3, 3), stride=(1, 1), padding=(1, 1), bias=False)\n",
       "      )\n",
       "      (denselayer8): _DenseLayer(\n",
       "        (norm1): BatchNorm2d(736, eps=1e-05, momentum=0.1, affine=True, track_running_stats=True)\n",
       "        (relu1): ReLU(inplace=True)\n",
       "        (conv1): Conv2d(736, 128, kernel_size=(1, 1), stride=(1, 1), bias=False)\n",
       "        (norm2): BatchNorm2d(128, eps=1e-05, momentum=0.1, affine=True, track_running_stats=True)\n",
       "        (relu2): ReLU(inplace=True)\n",
       "        (conv2): Conv2d(128, 32, kernel_size=(3, 3), stride=(1, 1), padding=(1, 1), bias=False)\n",
       "      )\n",
       "      (denselayer9): _DenseLayer(\n",
       "        (norm1): BatchNorm2d(768, eps=1e-05, momentum=0.1, affine=True, track_running_stats=True)\n",
       "        (relu1): ReLU(inplace=True)\n",
       "        (conv1): Conv2d(768, 128, kernel_size=(1, 1), stride=(1, 1), bias=False)\n",
       "        (norm2): BatchNorm2d(128, eps=1e-05, momentum=0.1, affine=True, track_running_stats=True)\n",
       "        (relu2): ReLU(inplace=True)\n",
       "        (conv2): Conv2d(128, 32, kernel_size=(3, 3), stride=(1, 1), padding=(1, 1), bias=False)\n",
       "      )\n",
       "      (denselayer10): _DenseLayer(\n",
       "        (norm1): BatchNorm2d(800, eps=1e-05, momentum=0.1, affine=True, track_running_stats=True)\n",
       "        (relu1): ReLU(inplace=True)\n",
       "        (conv1): Conv2d(800, 128, kernel_size=(1, 1), stride=(1, 1), bias=False)\n",
       "        (norm2): BatchNorm2d(128, eps=1e-05, momentum=0.1, affine=True, track_running_stats=True)\n",
       "        (relu2): ReLU(inplace=True)\n",
       "        (conv2): Conv2d(128, 32, kernel_size=(3, 3), stride=(1, 1), padding=(1, 1), bias=False)\n",
       "      )\n",
       "      (denselayer11): _DenseLayer(\n",
       "        (norm1): BatchNorm2d(832, eps=1e-05, momentum=0.1, affine=True, track_running_stats=True)\n",
       "        (relu1): ReLU(inplace=True)\n",
       "        (conv1): Conv2d(832, 128, kernel_size=(1, 1), stride=(1, 1), bias=False)\n",
       "        (norm2): BatchNorm2d(128, eps=1e-05, momentum=0.1, affine=True, track_running_stats=True)\n",
       "        (relu2): ReLU(inplace=True)\n",
       "        (conv2): Conv2d(128, 32, kernel_size=(3, 3), stride=(1, 1), padding=(1, 1), bias=False)\n",
       "      )\n",
       "      (denselayer12): _DenseLayer(\n",
       "        (norm1): BatchNorm2d(864, eps=1e-05, momentum=0.1, affine=True, track_running_stats=True)\n",
       "        (relu1): ReLU(inplace=True)\n",
       "        (conv1): Conv2d(864, 128, kernel_size=(1, 1), stride=(1, 1), bias=False)\n",
       "        (norm2): BatchNorm2d(128, eps=1e-05, momentum=0.1, affine=True, track_running_stats=True)\n",
       "        (relu2): ReLU(inplace=True)\n",
       "        (conv2): Conv2d(128, 32, kernel_size=(3, 3), stride=(1, 1), padding=(1, 1), bias=False)\n",
       "      )\n",
       "      (denselayer13): _DenseLayer(\n",
       "        (norm1): BatchNorm2d(896, eps=1e-05, momentum=0.1, affine=True, track_running_stats=True)\n",
       "        (relu1): ReLU(inplace=True)\n",
       "        (conv1): Conv2d(896, 128, kernel_size=(1, 1), stride=(1, 1), bias=False)\n",
       "        (norm2): BatchNorm2d(128, eps=1e-05, momentum=0.1, affine=True, track_running_stats=True)\n",
       "        (relu2): ReLU(inplace=True)\n",
       "        (conv2): Conv2d(128, 32, kernel_size=(3, 3), stride=(1, 1), padding=(1, 1), bias=False)\n",
       "      )\n",
       "      (denselayer14): _DenseLayer(\n",
       "        (norm1): BatchNorm2d(928, eps=1e-05, momentum=0.1, affine=True, track_running_stats=True)\n",
       "        (relu1): ReLU(inplace=True)\n",
       "        (conv1): Conv2d(928, 128, kernel_size=(1, 1), stride=(1, 1), bias=False)\n",
       "        (norm2): BatchNorm2d(128, eps=1e-05, momentum=0.1, affine=True, track_running_stats=True)\n",
       "        (relu2): ReLU(inplace=True)\n",
       "        (conv2): Conv2d(128, 32, kernel_size=(3, 3), stride=(1, 1), padding=(1, 1), bias=False)\n",
       "      )\n",
       "      (denselayer15): _DenseLayer(\n",
       "        (norm1): BatchNorm2d(960, eps=1e-05, momentum=0.1, affine=True, track_running_stats=True)\n",
       "        (relu1): ReLU(inplace=True)\n",
       "        (conv1): Conv2d(960, 128, kernel_size=(1, 1), stride=(1, 1), bias=False)\n",
       "        (norm2): BatchNorm2d(128, eps=1e-05, momentum=0.1, affine=True, track_running_stats=True)\n",
       "        (relu2): ReLU(inplace=True)\n",
       "        (conv2): Conv2d(128, 32, kernel_size=(3, 3), stride=(1, 1), padding=(1, 1), bias=False)\n",
       "      )\n",
       "      (denselayer16): _DenseLayer(\n",
       "        (norm1): BatchNorm2d(992, eps=1e-05, momentum=0.1, affine=True, track_running_stats=True)\n",
       "        (relu1): ReLU(inplace=True)\n",
       "        (conv1): Conv2d(992, 128, kernel_size=(1, 1), stride=(1, 1), bias=False)\n",
       "        (norm2): BatchNorm2d(128, eps=1e-05, momentum=0.1, affine=True, track_running_stats=True)\n",
       "        (relu2): ReLU(inplace=True)\n",
       "        (conv2): Conv2d(128, 32, kernel_size=(3, 3), stride=(1, 1), padding=(1, 1), bias=False)\n",
       "      )\n",
       "    )\n",
       "    (norm5): BatchNorm2d(1024, eps=1e-05, momentum=0.1, affine=True, track_running_stats=True)\n",
       "  )\n",
       "  (classifier): Linear(in_features=1024, out_features=1000, bias=True)\n",
       ")"
      ]
     },
     "execution_count": 36,
     "metadata": {},
     "output_type": "execute_result"
    }
   ],
   "source": [
    "densenet121.eval()"
   ]
  },
  {
   "cell_type": "code",
   "execution_count": 37,
   "metadata": {},
   "outputs": [
    {
     "data": {
      "text/plain": [
       "Linear(in_features=1024, out_features=1000, bias=True)"
      ]
     },
     "execution_count": 37,
     "metadata": {},
     "output_type": "execute_result"
    }
   ],
   "source": [
    "densenet121.classifier"
   ]
  },
  {
   "cell_type": "code",
   "execution_count": 38,
   "metadata": {},
   "outputs": [
    {
     "data": {
      "text/plain": [
       "<torch.utils.hooks.RemovableHandle at 0x27a1bc18cd0>"
      ]
     },
     "execution_count": 38,
     "metadata": {},
     "output_type": "execute_result"
    }
   ],
   "source": [
    "densenet121.classifier.register_forward_hook(get_last_layer_activation)"
   ]
  },
  {
   "cell_type": "markdown",
   "metadata": {},
   "source": [
    "#### Run Inference"
   ]
  },
  {
   "cell_type": "code",
   "execution_count": 39,
   "metadata": {},
   "outputs": [
    {
     "name": "stdout",
     "output_type": "stream",
     "text": [
      "-------------Running ['reversal']-------------------\n"
     ]
    },
    {
     "name": "stderr",
     "output_type": "stream",
     "text": [
      "['reversal']: 100%|██████████| 4094/4094 [03:31<00:00, 19.39it/s]\n"
     ]
    },
    {
     "name": "stdout",
     "output_type": "stream",
     "text": [
      "-------------Running ['mirror']-------------------\n"
     ]
    },
    {
     "name": "stderr",
     "output_type": "stream",
     "text": [
      "['mirror']: 100%|██████████| 4094/4094 [04:17<00:00, 15.89it/s]\n"
     ]
    },
    {
     "name": "stdout",
     "output_type": "stream",
     "text": [
      "-------------Running ['randomphasic']-------------------\n"
     ]
    },
    {
     "name": "stderr",
     "output_type": "stream",
     "text": [
      "['randomphasic']: 100%|██████████| 4094/4094 [05:14<00:00, 13.02it/s]\n"
     ]
    },
    {
     "name": "stdout",
     "output_type": "stream",
     "text": [
      "-------------Running ['randomdelete']-------------------\n"
     ]
    },
    {
     "name": "stderr",
     "output_type": "stream",
     "text": [
      "['randomdelete']: 100%|██████████| 4094/4094 [05:20<00:00, 12.75it/s]\n"
     ]
    },
    {
     "name": "stdout",
     "output_type": "stream",
     "text": [
      "-------------Running ['reversal', 'mirror']-------------------\n"
     ]
    },
    {
     "name": "stderr",
     "output_type": "stream",
     "text": [
      "['reversal', 'mirror']: 100%|██████████| 4094/4094 [05:29<00:00, 12.41it/s]\n"
     ]
    },
    {
     "name": "stdout",
     "output_type": "stream",
     "text": [
      "-------------Running ['randomdelete', 'mirror']-------------------\n"
     ]
    },
    {
     "name": "stderr",
     "output_type": "stream",
     "text": [
      "['randomdelete', 'mirror']: 100%|██████████| 4094/4094 [05:44<00:00, 11.87it/s]  \n"
     ]
    },
    {
     "name": "stdout",
     "output_type": "stream",
     "text": [
      "-------------Running ['reversal', 'randomphasic']-------------------\n"
     ]
    },
    {
     "name": "stderr",
     "output_type": "stream",
     "text": [
      "['reversal', 'randomphasic']: 100%|██████████| 4094/4094 [06:08<00:00, 11.11it/s]\n"
     ]
    },
    {
     "name": "stdout",
     "output_type": "stream",
     "text": [
      "-------------Running ['randomdelete', 'reversal', 'randomphasic']-------------------\n"
     ]
    },
    {
     "name": "stderr",
     "output_type": "stream",
     "text": [
      "['randomdelete', 'reversal', 'randomphasic']: 100%|██████████| 4094/4094 [05:57<00:00, 11.44it/s]\n"
     ]
    },
    {
     "name": "stdout",
     "output_type": "stream",
     "text": [
      "-------------Running ['randomdelete', 'reversal', 'mirror']-------------------\n"
     ]
    },
    {
     "name": "stderr",
     "output_type": "stream",
     "text": [
      "['randomdelete', 'reversal', 'mirror']: 100%|██████████| 4094/4094 [06:21<00:00, 10.72it/s]  \n"
     ]
    }
   ],
   "source": [
    "pkl12path = 'mappings/exhaustive_mapping_12.pkl'\n",
    "pkl12 = utils.load_dict(pkl12path)\n",
    "similaritiesdict = defaultdict(list)\n",
    "last_activations = []\n",
    "folpath = 'exhaustive_generated_set\\\\12'\n",
    "for transformation in utils.HAHN_TRANSFORMATION_COMBOS:\n",
    "    if not 'randominsertion' in transformation:\n",
    "        print(f'-------------Running {transformation}-------------------')\n",
    "        for filepath in tqdm(os.listdir(folpath), desc=f'{transformation}'):\n",
    "        # for filepath in os.listdir(folpath):\n",
    "            imgpath = os.path.join(folpath, filepath)\n",
    "            imgin = Image.open(imgpath)\n",
    "            imgin = transform(imgin).unsqueeze(0).to(device)\n",
    "\n",
    "            imglist = pkl12[filepath.split('.')[0]]\n",
    "            # print(imglist)\n",
    "            for t in transformation:\n",
    "                func = getattr(utils, t)\n",
    "                imglist = func(imglist)\n",
    "            # print(imglist)\n",
    "            imgout = utils.array2img(imglist, num_circles=len(imglist), radius=0.75)\n",
    "            imgout = transform(imgout).unsqueeze(0).to(device)\n",
    "\n",
    "            with torch.no_grad():\n",
    "                densenet121(imgin)\n",
    "                densenet121(imgout)\n",
    "            assert len(last_activations) == 2\n",
    "            tensin = last_activations[0].flatten().unsqueeze(0)\n",
    "            tensout = last_activations[1].flatten().unsqueeze(0)\n",
    "            sim = torch.nn.functional.cosine_similarity(tensin, tensout, dim=1)\n",
    "            similaritiesdict[str(transformation)].append(sim)\n",
    "            last_activations = []"
   ]
  },
  {
   "cell_type": "code",
   "execution_count": 40,
   "metadata": {},
   "outputs": [],
   "source": [
    "for _, v in similaritiesdict.items():\n",
    "    assert len(v) == utils.EXPECTED_LEN_12\n",
    "with open(f'similarities/exhaustive/densenet/filled.pkl', 'wb') as f:\n",
    "    pickle.dump(similaritiesdict, f)"
   ]
  },
  {
   "cell_type": "code",
   "execution_count": 41,
   "metadata": {},
   "outputs": [
    {
     "name": "stdout",
     "output_type": "stream",
     "text": [
      "-------------Running ['randominsertion', 'randomphasic']-------------------\n"
     ]
    },
    {
     "name": "stderr",
     "output_type": "stream",
     "text": [
      "['randominsertion', 'randomphasic']: 100%|██████████| 2046/2046 [02:56<00:00, 11.62it/s]\n"
     ]
    },
    {
     "name": "stdout",
     "output_type": "stream",
     "text": [
      "-------------Running ['randominsertion', 'reversal', 'randomphasic']-------------------\n"
     ]
    },
    {
     "name": "stderr",
     "output_type": "stream",
     "text": [
      "['randominsertion', 'reversal', 'randomphasic']: 100%|██████████| 2046/2046 [02:57<00:00, 11.56it/s]\n"
     ]
    },
    {
     "name": "stdout",
     "output_type": "stream",
     "text": [
      "-------------Running ['randominsertion', 'reversal', 'mirror']-------------------\n"
     ]
    },
    {
     "name": "stderr",
     "output_type": "stream",
     "text": [
      "['randominsertion', 'reversal', 'mirror']: 100%|██████████| 2046/2046 [05:31<00:00,  6.17it/s]\n"
     ]
    }
   ],
   "source": [
    "pkl11path = 'mappings/exhaustive_mapping_11.pkl'\n",
    "pkl11 = utils.load_dict(pkl11path)\n",
    "similaritiesdict = defaultdict(list)\n",
    "last_activations = []\n",
    "folpath = 'exhaustive_generated_set\\\\11'\n",
    "for transformation in utils.HAHN_TRANSFORMATION_COMBOS:\n",
    "    if 'randominsertion' in transformation:\n",
    "        print(f'-------------Running {transformation}-------------------')\n",
    "        for filepath in tqdm(os.listdir(folpath), desc=f'{transformation}'):\n",
    "            imgpath = os.path.join(folpath, filepath)\n",
    "            imgin = Image.open(imgpath)\n",
    "            imgin = transform(imgin).unsqueeze(0).to(device)\n",
    "\n",
    "            imglist = pkl11[filepath.split('.')[0]]\n",
    "            # print(imglist)\n",
    "            for t in transformation:\n",
    "                func = getattr(utils, t)\n",
    "                imglist = func(imglist)\n",
    "            # print(imglist)\n",
    "            imgout = utils.array2img(imglist, num_circles=len(imglist), radius=0.75)\n",
    "            imgout = transform(imgout).unsqueeze(0).to(device)\n",
    "\n",
    "            with torch.no_grad():\n",
    "                densenet121(imgin)\n",
    "                densenet121(imgout)\n",
    "            assert len(last_activations) == 2\n",
    "            tensin = last_activations[0].flatten().unsqueeze(0)\n",
    "            tensout = last_activations[1].flatten().unsqueeze(0)\n",
    "            sim = torch.nn.functional.cosine_similarity(tensin, tensout, dim=1)\n",
    "            similaritiesdict[str(transformation)].append(sim)\n",
    "            last_activations = []"
   ]
  },
  {
   "cell_type": "code",
   "execution_count": 42,
   "metadata": {},
   "outputs": [],
   "source": [
    "for _, v in similaritiesdict.items():\n",
    "    assert len(v) == utils.EXPECTED_LEN_11\n",
    "with open(f'similarities/exhaustive/densenet/unfilled11.pkl', 'wb') as f:\n",
    "    pickle.dump(similaritiesdict, f)"
   ]
  },
  {
   "cell_type": "code",
   "execution_count": 43,
   "metadata": {},
   "outputs": [
    {
     "name": "stdout",
     "output_type": "stream",
     "text": [
      "-------------Running ['randominsertion', 'randomphasic']-------------------\n"
     ]
    },
    {
     "name": "stderr",
     "output_type": "stream",
     "text": [
      "['randominsertion', 'randomphasic']: 100%|██████████| 1022/1022 [00:48<00:00, 21.27it/s]\n"
     ]
    },
    {
     "name": "stdout",
     "output_type": "stream",
     "text": [
      "-------------Running ['randominsertion', 'reversal', 'randomphasic']-------------------\n"
     ]
    },
    {
     "name": "stderr",
     "output_type": "stream",
     "text": [
      "['randominsertion', 'reversal', 'randomphasic']: 100%|██████████| 1022/1022 [01:07<00:00, 15.05it/s]\n"
     ]
    },
    {
     "name": "stdout",
     "output_type": "stream",
     "text": [
      "-------------Running ['randominsertion', 'reversal', 'mirror']-------------------\n"
     ]
    },
    {
     "name": "stderr",
     "output_type": "stream",
     "text": [
      "['randominsertion', 'reversal', 'mirror']: 100%|██████████| 1022/1022 [01:02<00:00, 16.27it/s]\n"
     ]
    }
   ],
   "source": [
    "pkl10path = 'mappings/exhaustive_mapping_10.pkl'\n",
    "pkl10 = utils.load_dict(pkl10path)\n",
    "similaritiesdict = defaultdict(list)\n",
    "last_activations = []\n",
    "folpath = 'exhaustive_generated_set\\\\10'\n",
    "for transformation in utils.HAHN_TRANSFORMATION_COMBOS:\n",
    "    if 'randominsertion' in transformation:\n",
    "        print(f'-------------Running {transformation}-------------------')\n",
    "        for filepath in tqdm(os.listdir(folpath), desc=f'{transformation}'):\n",
    "            imgpath = os.path.join(folpath, filepath)\n",
    "            imgin = Image.open(imgpath)\n",
    "            imgin = transform(imgin).unsqueeze(0).to(device)\n",
    "\n",
    "            imglist = pkl10[filepath.split('.')[0]]\n",
    "            # print(imglist)\n",
    "            for t in transformation:\n",
    "                func = getattr(utils, t)\n",
    "                imglist = func(imglist)\n",
    "            # print(imglist)\n",
    "            imgout = utils.array2img(imglist, num_circles=len(imglist), radius=0.75)\n",
    "            imgout = transform(imgout).unsqueeze(0).to(device)\n",
    "\n",
    "            with torch.no_grad():\n",
    "                densenet121(imgin)\n",
    "                densenet121(imgout)\n",
    "            assert len(last_activations) == 2\n",
    "            tensin = last_activations[0].flatten().unsqueeze(0)\n",
    "            tensout = last_activations[1].flatten().unsqueeze(0)\n",
    "            sim = torch.nn.functional.cosine_similarity(tensin, tensout, dim=1)\n",
    "            similaritiesdict[str(transformation)].append(sim)\n",
    "            last_activations = []"
   ]
  },
  {
   "cell_type": "code",
   "execution_count": 44,
   "metadata": {},
   "outputs": [],
   "source": [
    "for _, v in similaritiesdict.items():\n",
    "    assert len(v) == utils.EXPECTED_LEN_10\n",
    "with open(f'similarities/exhaustive/densenet/unfilled10.pkl', 'wb') as f:\n",
    "    pickle.dump(similaritiesdict, f)"
   ]
  },
  {
   "cell_type": "code",
   "execution_count": 83,
   "metadata": {},
   "outputs": [
    {
     "name": "stderr",
     "output_type": "stream",
     "text": [
      "100%|██████████| 1000/1000 [01:04<00:00, 15.43it/s]\n"
     ]
    }
   ],
   "source": [
    "similaritiesdict = defaultdict(list)\n",
    "last_activations = []\n",
    "for _ in tqdm(range(1000)):\n",
    "    l1 = utils.random_binary_list()\n",
    "    l2 = utils.random_binary_list()\n",
    "\n",
    "    img1 = utils.array2img(l1, num_circles=len(l1), radius=0.75)\n",
    "    img2 = utils.array2img(l2, num_circles=len(l2), radius=0.75)\n",
    "    img1 = transform(img1).unsqueeze(0).to(device)\n",
    "    img2 = transform(img2).unsqueeze(0).to(device)\n",
    "    with torch.no_grad():\n",
    "        densenet121(img1)\n",
    "        densenet121(img2)\n",
    "    assert len(last_activations) == 2\n",
    "    tensin = last_activations[0].flatten().unsqueeze(0)\n",
    "    tensout = last_activations[1].flatten().unsqueeze(0)\n",
    "    sim = torch.nn.functional.cosine_similarity(tensin, tensout, dim=1)\n",
    "    similaritiesdict['DenseNet121'].append(sim)\n",
    "    last_activations = []\n",
    "with open(f'similarities/exhaustive/densenet/random.pkl', 'wb') as f:\n",
    "    pickle.dump(similaritiesdict, f)"
   ]
  },
  {
   "cell_type": "markdown",
   "metadata": {},
   "source": [
    "## Inception"
   ]
  },
  {
   "cell_type": "markdown",
   "metadata": {},
   "source": [
    "### Hook Final Activation Layer"
   ]
  },
  {
   "cell_type": "code",
   "execution_count": 46,
   "metadata": {},
   "outputs": [],
   "source": [
    "inception_v3 = models.inception_v3(weights=models.Inception_V3_Weights.IMAGENET1K_V1).to(device)"
   ]
  },
  {
   "cell_type": "code",
   "execution_count": 47,
   "metadata": {},
   "outputs": [
    {
     "data": {
      "text/plain": [
       "Inception3(\n",
       "  (Conv2d_1a_3x3): BasicConv2d(\n",
       "    (conv): Conv2d(3, 32, kernel_size=(3, 3), stride=(2, 2), bias=False)\n",
       "    (bn): BatchNorm2d(32, eps=0.001, momentum=0.1, affine=True, track_running_stats=True)\n",
       "  )\n",
       "  (Conv2d_2a_3x3): BasicConv2d(\n",
       "    (conv): Conv2d(32, 32, kernel_size=(3, 3), stride=(1, 1), bias=False)\n",
       "    (bn): BatchNorm2d(32, eps=0.001, momentum=0.1, affine=True, track_running_stats=True)\n",
       "  )\n",
       "  (Conv2d_2b_3x3): BasicConv2d(\n",
       "    (conv): Conv2d(32, 64, kernel_size=(3, 3), stride=(1, 1), padding=(1, 1), bias=False)\n",
       "    (bn): BatchNorm2d(64, eps=0.001, momentum=0.1, affine=True, track_running_stats=True)\n",
       "  )\n",
       "  (maxpool1): MaxPool2d(kernel_size=3, stride=2, padding=0, dilation=1, ceil_mode=False)\n",
       "  (Conv2d_3b_1x1): BasicConv2d(\n",
       "    (conv): Conv2d(64, 80, kernel_size=(1, 1), stride=(1, 1), bias=False)\n",
       "    (bn): BatchNorm2d(80, eps=0.001, momentum=0.1, affine=True, track_running_stats=True)\n",
       "  )\n",
       "  (Conv2d_4a_3x3): BasicConv2d(\n",
       "    (conv): Conv2d(80, 192, kernel_size=(3, 3), stride=(1, 1), bias=False)\n",
       "    (bn): BatchNorm2d(192, eps=0.001, momentum=0.1, affine=True, track_running_stats=True)\n",
       "  )\n",
       "  (maxpool2): MaxPool2d(kernel_size=3, stride=2, padding=0, dilation=1, ceil_mode=False)\n",
       "  (Mixed_5b): InceptionA(\n",
       "    (branch1x1): BasicConv2d(\n",
       "      (conv): Conv2d(192, 64, kernel_size=(1, 1), stride=(1, 1), bias=False)\n",
       "      (bn): BatchNorm2d(64, eps=0.001, momentum=0.1, affine=True, track_running_stats=True)\n",
       "    )\n",
       "    (branch5x5_1): BasicConv2d(\n",
       "      (conv): Conv2d(192, 48, kernel_size=(1, 1), stride=(1, 1), bias=False)\n",
       "      (bn): BatchNorm2d(48, eps=0.001, momentum=0.1, affine=True, track_running_stats=True)\n",
       "    )\n",
       "    (branch5x5_2): BasicConv2d(\n",
       "      (conv): Conv2d(48, 64, kernel_size=(5, 5), stride=(1, 1), padding=(2, 2), bias=False)\n",
       "      (bn): BatchNorm2d(64, eps=0.001, momentum=0.1, affine=True, track_running_stats=True)\n",
       "    )\n",
       "    (branch3x3dbl_1): BasicConv2d(\n",
       "      (conv): Conv2d(192, 64, kernel_size=(1, 1), stride=(1, 1), bias=False)\n",
       "      (bn): BatchNorm2d(64, eps=0.001, momentum=0.1, affine=True, track_running_stats=True)\n",
       "    )\n",
       "    (branch3x3dbl_2): BasicConv2d(\n",
       "      (conv): Conv2d(64, 96, kernel_size=(3, 3), stride=(1, 1), padding=(1, 1), bias=False)\n",
       "      (bn): BatchNorm2d(96, eps=0.001, momentum=0.1, affine=True, track_running_stats=True)\n",
       "    )\n",
       "    (branch3x3dbl_3): BasicConv2d(\n",
       "      (conv): Conv2d(96, 96, kernel_size=(3, 3), stride=(1, 1), padding=(1, 1), bias=False)\n",
       "      (bn): BatchNorm2d(96, eps=0.001, momentum=0.1, affine=True, track_running_stats=True)\n",
       "    )\n",
       "    (branch_pool): BasicConv2d(\n",
       "      (conv): Conv2d(192, 32, kernel_size=(1, 1), stride=(1, 1), bias=False)\n",
       "      (bn): BatchNorm2d(32, eps=0.001, momentum=0.1, affine=True, track_running_stats=True)\n",
       "    )\n",
       "  )\n",
       "  (Mixed_5c): InceptionA(\n",
       "    (branch1x1): BasicConv2d(\n",
       "      (conv): Conv2d(256, 64, kernel_size=(1, 1), stride=(1, 1), bias=False)\n",
       "      (bn): BatchNorm2d(64, eps=0.001, momentum=0.1, affine=True, track_running_stats=True)\n",
       "    )\n",
       "    (branch5x5_1): BasicConv2d(\n",
       "      (conv): Conv2d(256, 48, kernel_size=(1, 1), stride=(1, 1), bias=False)\n",
       "      (bn): BatchNorm2d(48, eps=0.001, momentum=0.1, affine=True, track_running_stats=True)\n",
       "    )\n",
       "    (branch5x5_2): BasicConv2d(\n",
       "      (conv): Conv2d(48, 64, kernel_size=(5, 5), stride=(1, 1), padding=(2, 2), bias=False)\n",
       "      (bn): BatchNorm2d(64, eps=0.001, momentum=0.1, affine=True, track_running_stats=True)\n",
       "    )\n",
       "    (branch3x3dbl_1): BasicConv2d(\n",
       "      (conv): Conv2d(256, 64, kernel_size=(1, 1), stride=(1, 1), bias=False)\n",
       "      (bn): BatchNorm2d(64, eps=0.001, momentum=0.1, affine=True, track_running_stats=True)\n",
       "    )\n",
       "    (branch3x3dbl_2): BasicConv2d(\n",
       "      (conv): Conv2d(64, 96, kernel_size=(3, 3), stride=(1, 1), padding=(1, 1), bias=False)\n",
       "      (bn): BatchNorm2d(96, eps=0.001, momentum=0.1, affine=True, track_running_stats=True)\n",
       "    )\n",
       "    (branch3x3dbl_3): BasicConv2d(\n",
       "      (conv): Conv2d(96, 96, kernel_size=(3, 3), stride=(1, 1), padding=(1, 1), bias=False)\n",
       "      (bn): BatchNorm2d(96, eps=0.001, momentum=0.1, affine=True, track_running_stats=True)\n",
       "    )\n",
       "    (branch_pool): BasicConv2d(\n",
       "      (conv): Conv2d(256, 64, kernel_size=(1, 1), stride=(1, 1), bias=False)\n",
       "      (bn): BatchNorm2d(64, eps=0.001, momentum=0.1, affine=True, track_running_stats=True)\n",
       "    )\n",
       "  )\n",
       "  (Mixed_5d): InceptionA(\n",
       "    (branch1x1): BasicConv2d(\n",
       "      (conv): Conv2d(288, 64, kernel_size=(1, 1), stride=(1, 1), bias=False)\n",
       "      (bn): BatchNorm2d(64, eps=0.001, momentum=0.1, affine=True, track_running_stats=True)\n",
       "    )\n",
       "    (branch5x5_1): BasicConv2d(\n",
       "      (conv): Conv2d(288, 48, kernel_size=(1, 1), stride=(1, 1), bias=False)\n",
       "      (bn): BatchNorm2d(48, eps=0.001, momentum=0.1, affine=True, track_running_stats=True)\n",
       "    )\n",
       "    (branch5x5_2): BasicConv2d(\n",
       "      (conv): Conv2d(48, 64, kernel_size=(5, 5), stride=(1, 1), padding=(2, 2), bias=False)\n",
       "      (bn): BatchNorm2d(64, eps=0.001, momentum=0.1, affine=True, track_running_stats=True)\n",
       "    )\n",
       "    (branch3x3dbl_1): BasicConv2d(\n",
       "      (conv): Conv2d(288, 64, kernel_size=(1, 1), stride=(1, 1), bias=False)\n",
       "      (bn): BatchNorm2d(64, eps=0.001, momentum=0.1, affine=True, track_running_stats=True)\n",
       "    )\n",
       "    (branch3x3dbl_2): BasicConv2d(\n",
       "      (conv): Conv2d(64, 96, kernel_size=(3, 3), stride=(1, 1), padding=(1, 1), bias=False)\n",
       "      (bn): BatchNorm2d(96, eps=0.001, momentum=0.1, affine=True, track_running_stats=True)\n",
       "    )\n",
       "    (branch3x3dbl_3): BasicConv2d(\n",
       "      (conv): Conv2d(96, 96, kernel_size=(3, 3), stride=(1, 1), padding=(1, 1), bias=False)\n",
       "      (bn): BatchNorm2d(96, eps=0.001, momentum=0.1, affine=True, track_running_stats=True)\n",
       "    )\n",
       "    (branch_pool): BasicConv2d(\n",
       "      (conv): Conv2d(288, 64, kernel_size=(1, 1), stride=(1, 1), bias=False)\n",
       "      (bn): BatchNorm2d(64, eps=0.001, momentum=0.1, affine=True, track_running_stats=True)\n",
       "    )\n",
       "  )\n",
       "  (Mixed_6a): InceptionB(\n",
       "    (branch3x3): BasicConv2d(\n",
       "      (conv): Conv2d(288, 384, kernel_size=(3, 3), stride=(2, 2), bias=False)\n",
       "      (bn): BatchNorm2d(384, eps=0.001, momentum=0.1, affine=True, track_running_stats=True)\n",
       "    )\n",
       "    (branch3x3dbl_1): BasicConv2d(\n",
       "      (conv): Conv2d(288, 64, kernel_size=(1, 1), stride=(1, 1), bias=False)\n",
       "      (bn): BatchNorm2d(64, eps=0.001, momentum=0.1, affine=True, track_running_stats=True)\n",
       "    )\n",
       "    (branch3x3dbl_2): BasicConv2d(\n",
       "      (conv): Conv2d(64, 96, kernel_size=(3, 3), stride=(1, 1), padding=(1, 1), bias=False)\n",
       "      (bn): BatchNorm2d(96, eps=0.001, momentum=0.1, affine=True, track_running_stats=True)\n",
       "    )\n",
       "    (branch3x3dbl_3): BasicConv2d(\n",
       "      (conv): Conv2d(96, 96, kernel_size=(3, 3), stride=(2, 2), bias=False)\n",
       "      (bn): BatchNorm2d(96, eps=0.001, momentum=0.1, affine=True, track_running_stats=True)\n",
       "    )\n",
       "  )\n",
       "  (Mixed_6b): InceptionC(\n",
       "    (branch1x1): BasicConv2d(\n",
       "      (conv): Conv2d(768, 192, kernel_size=(1, 1), stride=(1, 1), bias=False)\n",
       "      (bn): BatchNorm2d(192, eps=0.001, momentum=0.1, affine=True, track_running_stats=True)\n",
       "    )\n",
       "    (branch7x7_1): BasicConv2d(\n",
       "      (conv): Conv2d(768, 128, kernel_size=(1, 1), stride=(1, 1), bias=False)\n",
       "      (bn): BatchNorm2d(128, eps=0.001, momentum=0.1, affine=True, track_running_stats=True)\n",
       "    )\n",
       "    (branch7x7_2): BasicConv2d(\n",
       "      (conv): Conv2d(128, 128, kernel_size=(1, 7), stride=(1, 1), padding=(0, 3), bias=False)\n",
       "      (bn): BatchNorm2d(128, eps=0.001, momentum=0.1, affine=True, track_running_stats=True)\n",
       "    )\n",
       "    (branch7x7_3): BasicConv2d(\n",
       "      (conv): Conv2d(128, 192, kernel_size=(7, 1), stride=(1, 1), padding=(3, 0), bias=False)\n",
       "      (bn): BatchNorm2d(192, eps=0.001, momentum=0.1, affine=True, track_running_stats=True)\n",
       "    )\n",
       "    (branch7x7dbl_1): BasicConv2d(\n",
       "      (conv): Conv2d(768, 128, kernel_size=(1, 1), stride=(1, 1), bias=False)\n",
       "      (bn): BatchNorm2d(128, eps=0.001, momentum=0.1, affine=True, track_running_stats=True)\n",
       "    )\n",
       "    (branch7x7dbl_2): BasicConv2d(\n",
       "      (conv): Conv2d(128, 128, kernel_size=(7, 1), stride=(1, 1), padding=(3, 0), bias=False)\n",
       "      (bn): BatchNorm2d(128, eps=0.001, momentum=0.1, affine=True, track_running_stats=True)\n",
       "    )\n",
       "    (branch7x7dbl_3): BasicConv2d(\n",
       "      (conv): Conv2d(128, 128, kernel_size=(1, 7), stride=(1, 1), padding=(0, 3), bias=False)\n",
       "      (bn): BatchNorm2d(128, eps=0.001, momentum=0.1, affine=True, track_running_stats=True)\n",
       "    )\n",
       "    (branch7x7dbl_4): BasicConv2d(\n",
       "      (conv): Conv2d(128, 128, kernel_size=(7, 1), stride=(1, 1), padding=(3, 0), bias=False)\n",
       "      (bn): BatchNorm2d(128, eps=0.001, momentum=0.1, affine=True, track_running_stats=True)\n",
       "    )\n",
       "    (branch7x7dbl_5): BasicConv2d(\n",
       "      (conv): Conv2d(128, 192, kernel_size=(1, 7), stride=(1, 1), padding=(0, 3), bias=False)\n",
       "      (bn): BatchNorm2d(192, eps=0.001, momentum=0.1, affine=True, track_running_stats=True)\n",
       "    )\n",
       "    (branch_pool): BasicConv2d(\n",
       "      (conv): Conv2d(768, 192, kernel_size=(1, 1), stride=(1, 1), bias=False)\n",
       "      (bn): BatchNorm2d(192, eps=0.001, momentum=0.1, affine=True, track_running_stats=True)\n",
       "    )\n",
       "  )\n",
       "  (Mixed_6c): InceptionC(\n",
       "    (branch1x1): BasicConv2d(\n",
       "      (conv): Conv2d(768, 192, kernel_size=(1, 1), stride=(1, 1), bias=False)\n",
       "      (bn): BatchNorm2d(192, eps=0.001, momentum=0.1, affine=True, track_running_stats=True)\n",
       "    )\n",
       "    (branch7x7_1): BasicConv2d(\n",
       "      (conv): Conv2d(768, 160, kernel_size=(1, 1), stride=(1, 1), bias=False)\n",
       "      (bn): BatchNorm2d(160, eps=0.001, momentum=0.1, affine=True, track_running_stats=True)\n",
       "    )\n",
       "    (branch7x7_2): BasicConv2d(\n",
       "      (conv): Conv2d(160, 160, kernel_size=(1, 7), stride=(1, 1), padding=(0, 3), bias=False)\n",
       "      (bn): BatchNorm2d(160, eps=0.001, momentum=0.1, affine=True, track_running_stats=True)\n",
       "    )\n",
       "    (branch7x7_3): BasicConv2d(\n",
       "      (conv): Conv2d(160, 192, kernel_size=(7, 1), stride=(1, 1), padding=(3, 0), bias=False)\n",
       "      (bn): BatchNorm2d(192, eps=0.001, momentum=0.1, affine=True, track_running_stats=True)\n",
       "    )\n",
       "    (branch7x7dbl_1): BasicConv2d(\n",
       "      (conv): Conv2d(768, 160, kernel_size=(1, 1), stride=(1, 1), bias=False)\n",
       "      (bn): BatchNorm2d(160, eps=0.001, momentum=0.1, affine=True, track_running_stats=True)\n",
       "    )\n",
       "    (branch7x7dbl_2): BasicConv2d(\n",
       "      (conv): Conv2d(160, 160, kernel_size=(7, 1), stride=(1, 1), padding=(3, 0), bias=False)\n",
       "      (bn): BatchNorm2d(160, eps=0.001, momentum=0.1, affine=True, track_running_stats=True)\n",
       "    )\n",
       "    (branch7x7dbl_3): BasicConv2d(\n",
       "      (conv): Conv2d(160, 160, kernel_size=(1, 7), stride=(1, 1), padding=(0, 3), bias=False)\n",
       "      (bn): BatchNorm2d(160, eps=0.001, momentum=0.1, affine=True, track_running_stats=True)\n",
       "    )\n",
       "    (branch7x7dbl_4): BasicConv2d(\n",
       "      (conv): Conv2d(160, 160, kernel_size=(7, 1), stride=(1, 1), padding=(3, 0), bias=False)\n",
       "      (bn): BatchNorm2d(160, eps=0.001, momentum=0.1, affine=True, track_running_stats=True)\n",
       "    )\n",
       "    (branch7x7dbl_5): BasicConv2d(\n",
       "      (conv): Conv2d(160, 192, kernel_size=(1, 7), stride=(1, 1), padding=(0, 3), bias=False)\n",
       "      (bn): BatchNorm2d(192, eps=0.001, momentum=0.1, affine=True, track_running_stats=True)\n",
       "    )\n",
       "    (branch_pool): BasicConv2d(\n",
       "      (conv): Conv2d(768, 192, kernel_size=(1, 1), stride=(1, 1), bias=False)\n",
       "      (bn): BatchNorm2d(192, eps=0.001, momentum=0.1, affine=True, track_running_stats=True)\n",
       "    )\n",
       "  )\n",
       "  (Mixed_6d): InceptionC(\n",
       "    (branch1x1): BasicConv2d(\n",
       "      (conv): Conv2d(768, 192, kernel_size=(1, 1), stride=(1, 1), bias=False)\n",
       "      (bn): BatchNorm2d(192, eps=0.001, momentum=0.1, affine=True, track_running_stats=True)\n",
       "    )\n",
       "    (branch7x7_1): BasicConv2d(\n",
       "      (conv): Conv2d(768, 160, kernel_size=(1, 1), stride=(1, 1), bias=False)\n",
       "      (bn): BatchNorm2d(160, eps=0.001, momentum=0.1, affine=True, track_running_stats=True)\n",
       "    )\n",
       "    (branch7x7_2): BasicConv2d(\n",
       "      (conv): Conv2d(160, 160, kernel_size=(1, 7), stride=(1, 1), padding=(0, 3), bias=False)\n",
       "      (bn): BatchNorm2d(160, eps=0.001, momentum=0.1, affine=True, track_running_stats=True)\n",
       "    )\n",
       "    (branch7x7_3): BasicConv2d(\n",
       "      (conv): Conv2d(160, 192, kernel_size=(7, 1), stride=(1, 1), padding=(3, 0), bias=False)\n",
       "      (bn): BatchNorm2d(192, eps=0.001, momentum=0.1, affine=True, track_running_stats=True)\n",
       "    )\n",
       "    (branch7x7dbl_1): BasicConv2d(\n",
       "      (conv): Conv2d(768, 160, kernel_size=(1, 1), stride=(1, 1), bias=False)\n",
       "      (bn): BatchNorm2d(160, eps=0.001, momentum=0.1, affine=True, track_running_stats=True)\n",
       "    )\n",
       "    (branch7x7dbl_2): BasicConv2d(\n",
       "      (conv): Conv2d(160, 160, kernel_size=(7, 1), stride=(1, 1), padding=(3, 0), bias=False)\n",
       "      (bn): BatchNorm2d(160, eps=0.001, momentum=0.1, affine=True, track_running_stats=True)\n",
       "    )\n",
       "    (branch7x7dbl_3): BasicConv2d(\n",
       "      (conv): Conv2d(160, 160, kernel_size=(1, 7), stride=(1, 1), padding=(0, 3), bias=False)\n",
       "      (bn): BatchNorm2d(160, eps=0.001, momentum=0.1, affine=True, track_running_stats=True)\n",
       "    )\n",
       "    (branch7x7dbl_4): BasicConv2d(\n",
       "      (conv): Conv2d(160, 160, kernel_size=(7, 1), stride=(1, 1), padding=(3, 0), bias=False)\n",
       "      (bn): BatchNorm2d(160, eps=0.001, momentum=0.1, affine=True, track_running_stats=True)\n",
       "    )\n",
       "    (branch7x7dbl_5): BasicConv2d(\n",
       "      (conv): Conv2d(160, 192, kernel_size=(1, 7), stride=(1, 1), padding=(0, 3), bias=False)\n",
       "      (bn): BatchNorm2d(192, eps=0.001, momentum=0.1, affine=True, track_running_stats=True)\n",
       "    )\n",
       "    (branch_pool): BasicConv2d(\n",
       "      (conv): Conv2d(768, 192, kernel_size=(1, 1), stride=(1, 1), bias=False)\n",
       "      (bn): BatchNorm2d(192, eps=0.001, momentum=0.1, affine=True, track_running_stats=True)\n",
       "    )\n",
       "  )\n",
       "  (Mixed_6e): InceptionC(\n",
       "    (branch1x1): BasicConv2d(\n",
       "      (conv): Conv2d(768, 192, kernel_size=(1, 1), stride=(1, 1), bias=False)\n",
       "      (bn): BatchNorm2d(192, eps=0.001, momentum=0.1, affine=True, track_running_stats=True)\n",
       "    )\n",
       "    (branch7x7_1): BasicConv2d(\n",
       "      (conv): Conv2d(768, 192, kernel_size=(1, 1), stride=(1, 1), bias=False)\n",
       "      (bn): BatchNorm2d(192, eps=0.001, momentum=0.1, affine=True, track_running_stats=True)\n",
       "    )\n",
       "    (branch7x7_2): BasicConv2d(\n",
       "      (conv): Conv2d(192, 192, kernel_size=(1, 7), stride=(1, 1), padding=(0, 3), bias=False)\n",
       "      (bn): BatchNorm2d(192, eps=0.001, momentum=0.1, affine=True, track_running_stats=True)\n",
       "    )\n",
       "    (branch7x7_3): BasicConv2d(\n",
       "      (conv): Conv2d(192, 192, kernel_size=(7, 1), stride=(1, 1), padding=(3, 0), bias=False)\n",
       "      (bn): BatchNorm2d(192, eps=0.001, momentum=0.1, affine=True, track_running_stats=True)\n",
       "    )\n",
       "    (branch7x7dbl_1): BasicConv2d(\n",
       "      (conv): Conv2d(768, 192, kernel_size=(1, 1), stride=(1, 1), bias=False)\n",
       "      (bn): BatchNorm2d(192, eps=0.001, momentum=0.1, affine=True, track_running_stats=True)\n",
       "    )\n",
       "    (branch7x7dbl_2): BasicConv2d(\n",
       "      (conv): Conv2d(192, 192, kernel_size=(7, 1), stride=(1, 1), padding=(3, 0), bias=False)\n",
       "      (bn): BatchNorm2d(192, eps=0.001, momentum=0.1, affine=True, track_running_stats=True)\n",
       "    )\n",
       "    (branch7x7dbl_3): BasicConv2d(\n",
       "      (conv): Conv2d(192, 192, kernel_size=(1, 7), stride=(1, 1), padding=(0, 3), bias=False)\n",
       "      (bn): BatchNorm2d(192, eps=0.001, momentum=0.1, affine=True, track_running_stats=True)\n",
       "    )\n",
       "    (branch7x7dbl_4): BasicConv2d(\n",
       "      (conv): Conv2d(192, 192, kernel_size=(7, 1), stride=(1, 1), padding=(3, 0), bias=False)\n",
       "      (bn): BatchNorm2d(192, eps=0.001, momentum=0.1, affine=True, track_running_stats=True)\n",
       "    )\n",
       "    (branch7x7dbl_5): BasicConv2d(\n",
       "      (conv): Conv2d(192, 192, kernel_size=(1, 7), stride=(1, 1), padding=(0, 3), bias=False)\n",
       "      (bn): BatchNorm2d(192, eps=0.001, momentum=0.1, affine=True, track_running_stats=True)\n",
       "    )\n",
       "    (branch_pool): BasicConv2d(\n",
       "      (conv): Conv2d(768, 192, kernel_size=(1, 1), stride=(1, 1), bias=False)\n",
       "      (bn): BatchNorm2d(192, eps=0.001, momentum=0.1, affine=True, track_running_stats=True)\n",
       "    )\n",
       "  )\n",
       "  (AuxLogits): InceptionAux(\n",
       "    (conv0): BasicConv2d(\n",
       "      (conv): Conv2d(768, 128, kernel_size=(1, 1), stride=(1, 1), bias=False)\n",
       "      (bn): BatchNorm2d(128, eps=0.001, momentum=0.1, affine=True, track_running_stats=True)\n",
       "    )\n",
       "    (conv1): BasicConv2d(\n",
       "      (conv): Conv2d(128, 768, kernel_size=(5, 5), stride=(1, 1), bias=False)\n",
       "      (bn): BatchNorm2d(768, eps=0.001, momentum=0.1, affine=True, track_running_stats=True)\n",
       "    )\n",
       "    (fc): Linear(in_features=768, out_features=1000, bias=True)\n",
       "  )\n",
       "  (Mixed_7a): InceptionD(\n",
       "    (branch3x3_1): BasicConv2d(\n",
       "      (conv): Conv2d(768, 192, kernel_size=(1, 1), stride=(1, 1), bias=False)\n",
       "      (bn): BatchNorm2d(192, eps=0.001, momentum=0.1, affine=True, track_running_stats=True)\n",
       "    )\n",
       "    (branch3x3_2): BasicConv2d(\n",
       "      (conv): Conv2d(192, 320, kernel_size=(3, 3), stride=(2, 2), bias=False)\n",
       "      (bn): BatchNorm2d(320, eps=0.001, momentum=0.1, affine=True, track_running_stats=True)\n",
       "    )\n",
       "    (branch7x7x3_1): BasicConv2d(\n",
       "      (conv): Conv2d(768, 192, kernel_size=(1, 1), stride=(1, 1), bias=False)\n",
       "      (bn): BatchNorm2d(192, eps=0.001, momentum=0.1, affine=True, track_running_stats=True)\n",
       "    )\n",
       "    (branch7x7x3_2): BasicConv2d(\n",
       "      (conv): Conv2d(192, 192, kernel_size=(1, 7), stride=(1, 1), padding=(0, 3), bias=False)\n",
       "      (bn): BatchNorm2d(192, eps=0.001, momentum=0.1, affine=True, track_running_stats=True)\n",
       "    )\n",
       "    (branch7x7x3_3): BasicConv2d(\n",
       "      (conv): Conv2d(192, 192, kernel_size=(7, 1), stride=(1, 1), padding=(3, 0), bias=False)\n",
       "      (bn): BatchNorm2d(192, eps=0.001, momentum=0.1, affine=True, track_running_stats=True)\n",
       "    )\n",
       "    (branch7x7x3_4): BasicConv2d(\n",
       "      (conv): Conv2d(192, 192, kernel_size=(3, 3), stride=(2, 2), bias=False)\n",
       "      (bn): BatchNorm2d(192, eps=0.001, momentum=0.1, affine=True, track_running_stats=True)\n",
       "    )\n",
       "  )\n",
       "  (Mixed_7b): InceptionE(\n",
       "    (branch1x1): BasicConv2d(\n",
       "      (conv): Conv2d(1280, 320, kernel_size=(1, 1), stride=(1, 1), bias=False)\n",
       "      (bn): BatchNorm2d(320, eps=0.001, momentum=0.1, affine=True, track_running_stats=True)\n",
       "    )\n",
       "    (branch3x3_1): BasicConv2d(\n",
       "      (conv): Conv2d(1280, 384, kernel_size=(1, 1), stride=(1, 1), bias=False)\n",
       "      (bn): BatchNorm2d(384, eps=0.001, momentum=0.1, affine=True, track_running_stats=True)\n",
       "    )\n",
       "    (branch3x3_2a): BasicConv2d(\n",
       "      (conv): Conv2d(384, 384, kernel_size=(1, 3), stride=(1, 1), padding=(0, 1), bias=False)\n",
       "      (bn): BatchNorm2d(384, eps=0.001, momentum=0.1, affine=True, track_running_stats=True)\n",
       "    )\n",
       "    (branch3x3_2b): BasicConv2d(\n",
       "      (conv): Conv2d(384, 384, kernel_size=(3, 1), stride=(1, 1), padding=(1, 0), bias=False)\n",
       "      (bn): BatchNorm2d(384, eps=0.001, momentum=0.1, affine=True, track_running_stats=True)\n",
       "    )\n",
       "    (branch3x3dbl_1): BasicConv2d(\n",
       "      (conv): Conv2d(1280, 448, kernel_size=(1, 1), stride=(1, 1), bias=False)\n",
       "      (bn): BatchNorm2d(448, eps=0.001, momentum=0.1, affine=True, track_running_stats=True)\n",
       "    )\n",
       "    (branch3x3dbl_2): BasicConv2d(\n",
       "      (conv): Conv2d(448, 384, kernel_size=(3, 3), stride=(1, 1), padding=(1, 1), bias=False)\n",
       "      (bn): BatchNorm2d(384, eps=0.001, momentum=0.1, affine=True, track_running_stats=True)\n",
       "    )\n",
       "    (branch3x3dbl_3a): BasicConv2d(\n",
       "      (conv): Conv2d(384, 384, kernel_size=(1, 3), stride=(1, 1), padding=(0, 1), bias=False)\n",
       "      (bn): BatchNorm2d(384, eps=0.001, momentum=0.1, affine=True, track_running_stats=True)\n",
       "    )\n",
       "    (branch3x3dbl_3b): BasicConv2d(\n",
       "      (conv): Conv2d(384, 384, kernel_size=(3, 1), stride=(1, 1), padding=(1, 0), bias=False)\n",
       "      (bn): BatchNorm2d(384, eps=0.001, momentum=0.1, affine=True, track_running_stats=True)\n",
       "    )\n",
       "    (branch_pool): BasicConv2d(\n",
       "      (conv): Conv2d(1280, 192, kernel_size=(1, 1), stride=(1, 1), bias=False)\n",
       "      (bn): BatchNorm2d(192, eps=0.001, momentum=0.1, affine=True, track_running_stats=True)\n",
       "    )\n",
       "  )\n",
       "  (Mixed_7c): InceptionE(\n",
       "    (branch1x1): BasicConv2d(\n",
       "      (conv): Conv2d(2048, 320, kernel_size=(1, 1), stride=(1, 1), bias=False)\n",
       "      (bn): BatchNorm2d(320, eps=0.001, momentum=0.1, affine=True, track_running_stats=True)\n",
       "    )\n",
       "    (branch3x3_1): BasicConv2d(\n",
       "      (conv): Conv2d(2048, 384, kernel_size=(1, 1), stride=(1, 1), bias=False)\n",
       "      (bn): BatchNorm2d(384, eps=0.001, momentum=0.1, affine=True, track_running_stats=True)\n",
       "    )\n",
       "    (branch3x3_2a): BasicConv2d(\n",
       "      (conv): Conv2d(384, 384, kernel_size=(1, 3), stride=(1, 1), padding=(0, 1), bias=False)\n",
       "      (bn): BatchNorm2d(384, eps=0.001, momentum=0.1, affine=True, track_running_stats=True)\n",
       "    )\n",
       "    (branch3x3_2b): BasicConv2d(\n",
       "      (conv): Conv2d(384, 384, kernel_size=(3, 1), stride=(1, 1), padding=(1, 0), bias=False)\n",
       "      (bn): BatchNorm2d(384, eps=0.001, momentum=0.1, affine=True, track_running_stats=True)\n",
       "    )\n",
       "    (branch3x3dbl_1): BasicConv2d(\n",
       "      (conv): Conv2d(2048, 448, kernel_size=(1, 1), stride=(1, 1), bias=False)\n",
       "      (bn): BatchNorm2d(448, eps=0.001, momentum=0.1, affine=True, track_running_stats=True)\n",
       "    )\n",
       "    (branch3x3dbl_2): BasicConv2d(\n",
       "      (conv): Conv2d(448, 384, kernel_size=(3, 3), stride=(1, 1), padding=(1, 1), bias=False)\n",
       "      (bn): BatchNorm2d(384, eps=0.001, momentum=0.1, affine=True, track_running_stats=True)\n",
       "    )\n",
       "    (branch3x3dbl_3a): BasicConv2d(\n",
       "      (conv): Conv2d(384, 384, kernel_size=(1, 3), stride=(1, 1), padding=(0, 1), bias=False)\n",
       "      (bn): BatchNorm2d(384, eps=0.001, momentum=0.1, affine=True, track_running_stats=True)\n",
       "    )\n",
       "    (branch3x3dbl_3b): BasicConv2d(\n",
       "      (conv): Conv2d(384, 384, kernel_size=(3, 1), stride=(1, 1), padding=(1, 0), bias=False)\n",
       "      (bn): BatchNorm2d(384, eps=0.001, momentum=0.1, affine=True, track_running_stats=True)\n",
       "    )\n",
       "    (branch_pool): BasicConv2d(\n",
       "      (conv): Conv2d(2048, 192, kernel_size=(1, 1), stride=(1, 1), bias=False)\n",
       "      (bn): BatchNorm2d(192, eps=0.001, momentum=0.1, affine=True, track_running_stats=True)\n",
       "    )\n",
       "  )\n",
       "  (avgpool): AdaptiveAvgPool2d(output_size=(1, 1))\n",
       "  (dropout): Dropout(p=0.5, inplace=False)\n",
       "  (fc): Linear(in_features=2048, out_features=1000, bias=True)\n",
       ")"
      ]
     },
     "execution_count": 47,
     "metadata": {},
     "output_type": "execute_result"
    }
   ],
   "source": [
    "inception_v3.eval()"
   ]
  },
  {
   "cell_type": "code",
   "execution_count": 48,
   "metadata": {},
   "outputs": [
    {
     "data": {
      "text/plain": [
       "Linear(in_features=2048, out_features=1000, bias=True)"
      ]
     },
     "execution_count": 48,
     "metadata": {},
     "output_type": "execute_result"
    }
   ],
   "source": [
    "inception_v3.fc"
   ]
  },
  {
   "cell_type": "code",
   "execution_count": 49,
   "metadata": {},
   "outputs": [
    {
     "data": {
      "text/plain": [
       "<torch.utils.hooks.RemovableHandle at 0x27a209108b0>"
      ]
     },
     "execution_count": 49,
     "metadata": {},
     "output_type": "execute_result"
    }
   ],
   "source": [
    "inception_v3.fc.register_forward_hook(get_last_layer_activation)"
   ]
  },
  {
   "cell_type": "markdown",
   "metadata": {},
   "source": [
    "### Run Inference"
   ]
  },
  {
   "cell_type": "code",
   "execution_count": 50,
   "metadata": {},
   "outputs": [],
   "source": [
    "transform_inception = torchvision.transforms.Compose(\n",
    "    [\n",
    "        torchvision.transforms.Resize((299, 299)),\n",
    "        torchvision.transforms.ToTensor()\n",
    "    ]\n",
    ")"
   ]
  },
  {
   "cell_type": "code",
   "execution_count": 51,
   "metadata": {},
   "outputs": [
    {
     "name": "stdout",
     "output_type": "stream",
     "text": [
      "-------------Running ['reversal']-------------------\n"
     ]
    },
    {
     "name": "stderr",
     "output_type": "stream",
     "text": [
      "['reversal']: 100%|██████████| 4094/4094 [05:05<00:00, 13.40it/s] \n"
     ]
    },
    {
     "name": "stdout",
     "output_type": "stream",
     "text": [
      "-------------Running ['mirror']-------------------\n"
     ]
    },
    {
     "name": "stderr",
     "output_type": "stream",
     "text": [
      "['mirror']: 100%|██████████| 4094/4094 [05:38<00:00, 12.09it/s]\n"
     ]
    },
    {
     "name": "stdout",
     "output_type": "stream",
     "text": [
      "-------------Running ['randomphasic']-------------------\n"
     ]
    },
    {
     "name": "stderr",
     "output_type": "stream",
     "text": [
      "['randomphasic']: 100%|██████████| 4094/4094 [04:48<00:00, 14.17it/s]\n"
     ]
    },
    {
     "name": "stdout",
     "output_type": "stream",
     "text": [
      "-------------Running ['randomdelete']-------------------\n"
     ]
    },
    {
     "name": "stderr",
     "output_type": "stream",
     "text": [
      "['randomdelete']: 100%|██████████| 4094/4094 [05:40<00:00, 12.04it/s]\n"
     ]
    },
    {
     "name": "stdout",
     "output_type": "stream",
     "text": [
      "-------------Running ['reversal', 'mirror']-------------------\n"
     ]
    },
    {
     "name": "stderr",
     "output_type": "stream",
     "text": [
      "['reversal', 'mirror']: 100%|██████████| 4094/4094 [05:05<00:00, 13.39it/s] \n"
     ]
    },
    {
     "name": "stdout",
     "output_type": "stream",
     "text": [
      "-------------Running ['randomdelete', 'mirror']-------------------\n"
     ]
    },
    {
     "name": "stderr",
     "output_type": "stream",
     "text": [
      "['randomdelete', 'mirror']: 100%|██████████| 4094/4094 [05:24<00:00, 12.61it/s] \n"
     ]
    },
    {
     "name": "stdout",
     "output_type": "stream",
     "text": [
      "-------------Running ['reversal', 'randomphasic']-------------------\n"
     ]
    },
    {
     "name": "stderr",
     "output_type": "stream",
     "text": [
      "['reversal', 'randomphasic']: 100%|██████████| 4094/4094 [06:08<00:00, 11.11it/s]  \n"
     ]
    },
    {
     "name": "stdout",
     "output_type": "stream",
     "text": [
      "-------------Running ['randomdelete', 'reversal', 'randomphasic']-------------------\n"
     ]
    },
    {
     "name": "stderr",
     "output_type": "stream",
     "text": [
      "['randomdelete', 'reversal', 'randomphasic']: 100%|██████████| 4094/4094 [05:33<00:00, 12.26it/s]\n"
     ]
    },
    {
     "name": "stdout",
     "output_type": "stream",
     "text": [
      "-------------Running ['randomdelete', 'reversal', 'mirror']-------------------\n"
     ]
    },
    {
     "name": "stderr",
     "output_type": "stream",
     "text": [
      "['randomdelete', 'reversal', 'mirror']: 100%|██████████| 4094/4094 [05:56<00:00, 11.47it/s] \n"
     ]
    }
   ],
   "source": [
    "pkl12path = 'mappings/exhaustive_mapping_12.pkl'\n",
    "pkl12 = utils.load_dict(pkl12path)\n",
    "similaritiesdict = defaultdict(list)\n",
    "last_activations = []\n",
    "folpath = 'exhaustive_generated_set\\\\12'\n",
    "for transformation in utils.HAHN_TRANSFORMATION_COMBOS:\n",
    "    if not 'randominsertion' in transformation:\n",
    "        print(f'-------------Running {transformation}-------------------')\n",
    "        for filepath in tqdm(os.listdir(folpath), desc=f'{transformation}'):\n",
    "        # for filepath in os.listdir(folpath):\n",
    "            imgpath = os.path.join(folpath, filepath)\n",
    "            imgin = Image.open(imgpath).convert('RGB')\n",
    "            imgin = transform_inception(imgin).unsqueeze(0).to(device)\n",
    "\n",
    "            imglist = pkl12[filepath.split('.')[0]]\n",
    "            # print(imglist)\n",
    "            for t in transformation:\n",
    "                func = getattr(utils, t)\n",
    "                imglist = func(imglist)\n",
    "            # print(imglist)\n",
    "            imgout = Image.fromarray(utils.array2img(imglist, num_circles=len(imglist), radius=0.75)).convert('RGB')\n",
    "            imgout = transform_inception(imgout).unsqueeze(0).to(device)\n",
    "            # print(imgin.shape)\n",
    "            with torch.no_grad():\n",
    "                inception_v3(imgin)\n",
    "                inception_v3(imgout)\n",
    "            assert len(last_activations) == 2\n",
    "            tensin = last_activations[0].flatten().unsqueeze(0)\n",
    "            tensout = last_activations[1].flatten().unsqueeze(0)\n",
    "            sim = torch.nn.functional.cosine_similarity(tensin, tensout, dim=1)\n",
    "            similaritiesdict[str(transformation)].append(sim)\n",
    "            last_activations = []"
   ]
  },
  {
   "cell_type": "code",
   "execution_count": 52,
   "metadata": {},
   "outputs": [],
   "source": [
    "for _, v in similaritiesdict.items():\n",
    "    assert len(v) == utils.EXPECTED_LEN_12\n",
    "with open(f'similarities/exhaustive/inception/filled.pkl', 'wb') as f:\n",
    "    pickle.dump(similaritiesdict, f)"
   ]
  },
  {
   "cell_type": "code",
   "execution_count": 53,
   "metadata": {},
   "outputs": [
    {
     "name": "stdout",
     "output_type": "stream",
     "text": [
      "-------------Running ['randominsertion', 'randomphasic']-------------------\n"
     ]
    },
    {
     "name": "stderr",
     "output_type": "stream",
     "text": [
      "['randominsertion', 'randomphasic']: 100%|██████████| 2046/2046 [03:08<00:00, 10.85it/s]\n"
     ]
    },
    {
     "name": "stdout",
     "output_type": "stream",
     "text": [
      "-------------Running ['randominsertion', 'reversal', 'randomphasic']-------------------\n"
     ]
    },
    {
     "name": "stderr",
     "output_type": "stream",
     "text": [
      "['randominsertion', 'reversal', 'randomphasic']: 100%|██████████| 2046/2046 [02:39<00:00, 12.80it/s]\n"
     ]
    },
    {
     "name": "stdout",
     "output_type": "stream",
     "text": [
      "-------------Running ['randominsertion', 'reversal', 'mirror']-------------------\n"
     ]
    },
    {
     "name": "stderr",
     "output_type": "stream",
     "text": [
      "['randominsertion', 'reversal', 'mirror']: 100%|██████████| 2046/2046 [05:28<00:00,  6.24it/s]  \n"
     ]
    }
   ],
   "source": [
    "pkl11path = 'mappings/exhaustive_mapping_11.pkl'\n",
    "pkl11 = utils.load_dict(pkl11path)\n",
    "similaritiesdict = defaultdict(list)\n",
    "last_activations = []\n",
    "folpath = 'exhaustive_generated_set\\\\11'\n",
    "for transformation in utils.HAHN_TRANSFORMATION_COMBOS:\n",
    "    if 'randominsertion' in transformation:\n",
    "        print(f'-------------Running {transformation}-------------------')\n",
    "        for filepath in tqdm(os.listdir(folpath), desc=f'{transformation}'):\n",
    "        # for filepath in os.listdir(folpath):\n",
    "            imgpath = os.path.join(folpath, filepath)\n",
    "            imgin = Image.open(imgpath).convert('RGB')\n",
    "            imgin = transform_inception(imgin).unsqueeze(0).to(device)\n",
    "\n",
    "            imglist = pkl11[filepath.split('.')[0]]\n",
    "            # print(imglist)\n",
    "            for t in transformation:\n",
    "                func = getattr(utils, t)\n",
    "                imglist = func(imglist)\n",
    "            # print(imglist)\n",
    "            imgout = Image.fromarray(utils.array2img(imglist, num_circles=len(imglist), radius=0.75)).convert('RGB')\n",
    "            imgout = transform_inception(imgout).unsqueeze(0).to(device)\n",
    "            # print(imgin.shape)\n",
    "            with torch.no_grad():\n",
    "                inception_v3(imgin)\n",
    "                inception_v3(imgout)\n",
    "            assert len(last_activations) == 2\n",
    "            tensin = last_activations[0].flatten().unsqueeze(0)\n",
    "            tensout = last_activations[1].flatten().unsqueeze(0)\n",
    "            sim = torch.nn.functional.cosine_similarity(tensin, tensout, dim=1)\n",
    "            similaritiesdict[str(transformation)].append(sim)\n",
    "            last_activations = []"
   ]
  },
  {
   "cell_type": "code",
   "execution_count": 54,
   "metadata": {},
   "outputs": [],
   "source": [
    "for _, v in similaritiesdict.items():\n",
    "    assert len(v) == utils.EXPECTED_LEN_11\n",
    "with open(f'similarities/exhaustive/inception/unfilled11.pkl', 'wb') as f:\n",
    "    pickle.dump(similaritiesdict, f)"
   ]
  },
  {
   "cell_type": "code",
   "execution_count": 55,
   "metadata": {},
   "outputs": [
    {
     "name": "stdout",
     "output_type": "stream",
     "text": [
      "-------------Running ['randominsertion', 'randomphasic']-------------------\n"
     ]
    },
    {
     "name": "stderr",
     "output_type": "stream",
     "text": [
      "['randominsertion', 'randomphasic']: 100%|██████████| 1022/1022 [01:21<00:00, 12.48it/s]\n"
     ]
    },
    {
     "name": "stdout",
     "output_type": "stream",
     "text": [
      "-------------Running ['randominsertion', 'reversal', 'randomphasic']-------------------\n"
     ]
    },
    {
     "name": "stderr",
     "output_type": "stream",
     "text": [
      "['randominsertion', 'reversal', 'randomphasic']: 100%|██████████| 1022/1022 [01:06<00:00, 15.42it/s]\n"
     ]
    },
    {
     "name": "stdout",
     "output_type": "stream",
     "text": [
      "-------------Running ['randominsertion', 'reversal', 'mirror']-------------------\n"
     ]
    },
    {
     "name": "stderr",
     "output_type": "stream",
     "text": [
      "['randominsertion', 'reversal', 'mirror']: 100%|██████████| 1022/1022 [01:13<00:00, 13.92it/s]\n"
     ]
    }
   ],
   "source": [
    "pkl10path = 'mappings/exhaustive_mapping_10.pkl'\n",
    "pkl10 = utils.load_dict(pkl10path)\n",
    "similaritiesdict = defaultdict(list)\n",
    "last_activations = []\n",
    "folpath = 'exhaustive_generated_set\\\\10'\n",
    "for transformation in utils.HAHN_TRANSFORMATION_COMBOS:\n",
    "    if 'randominsertion' in transformation:\n",
    "        print(f'-------------Running {transformation}-------------------')\n",
    "        for filepath in tqdm(os.listdir(folpath), desc=f'{transformation}'):\n",
    "        # for filepath in os.listdir(folpath):\n",
    "            imgpath = os.path.join(folpath, filepath)\n",
    "            imgin = Image.open(imgpath).convert('RGB')\n",
    "            imgin = transform_inception(imgin).unsqueeze(0).to(device)\n",
    "\n",
    "            imglist = pkl10[filepath.split('.')[0]]\n",
    "            # print(imglist)\n",
    "            for t in transformation:\n",
    "                func = getattr(utils, t)\n",
    "                imglist = func(imglist)\n",
    "            # print(imglist)\n",
    "            imgout = Image.fromarray(utils.array2img(imglist, num_circles=len(imglist), radius=0.75)).convert('RGB')\n",
    "            imgout = transform_inception(imgout).unsqueeze(0).to(device)\n",
    "            # print(imgin.shape)\n",
    "            with torch.no_grad():\n",
    "                inception_v3(imgin)\n",
    "                inception_v3(imgout)\n",
    "            assert len(last_activations) == 2\n",
    "            tensin = last_activations[0].flatten().unsqueeze(0)\n",
    "            tensout = last_activations[1].flatten().unsqueeze(0)\n",
    "            sim = torch.nn.functional.cosine_similarity(tensin, tensout, dim=1)\n",
    "            similaritiesdict[str(transformation)].append(sim)\n",
    "            last_activations = []"
   ]
  },
  {
   "cell_type": "code",
   "execution_count": 56,
   "metadata": {},
   "outputs": [],
   "source": [
    "for _, v in similaritiesdict.items():\n",
    "    assert len(v) == utils.EXPECTED_LEN_10\n",
    "with open(f'similarities/exhaustive/inception/unfilled10.pkl', 'wb') as f:\n",
    "    pickle.dump(similaritiesdict, f)"
   ]
  },
  {
   "cell_type": "code",
   "execution_count": 84,
   "metadata": {},
   "outputs": [
    {
     "name": "stderr",
     "output_type": "stream",
     "text": [
      "100%|██████████| 1000/1000 [00:58<00:00, 17.02it/s]\n"
     ]
    }
   ],
   "source": [
    "similaritiesdict = defaultdict(list)\n",
    "last_activations = []\n",
    "for _ in tqdm(range(1000)):\n",
    "    l1 = utils.random_binary_list()\n",
    "    l2 = utils.random_binary_list()\n",
    "\n",
    "    img1 = utils.array2img(l1, num_circles=len(l1), radius=0.75)\n",
    "    img2 = utils.array2img(l2, num_circles=len(l2), radius=0.75)\n",
    "    img1 = transform(img1).unsqueeze(0).to(device)\n",
    "    img2 = transform(img2).unsqueeze(0).to(device)\n",
    "    with torch.no_grad():\n",
    "        inception_v3(img1)\n",
    "        inception_v3(img2)\n",
    "    assert len(last_activations) == 2\n",
    "    tensin = last_activations[0].flatten().unsqueeze(0)\n",
    "    tensout = last_activations[1].flatten().unsqueeze(0)\n",
    "    sim = torch.nn.functional.cosine_similarity(tensin, tensout, dim=1)\n",
    "    similaritiesdict['InceptionV3'].append(sim)\n",
    "    last_activations = []\n",
    "with open(f'similarities/exhaustive/inception/random.pkl', 'wb') as f:\n",
    "    pickle.dump(similaritiesdict, f)"
   ]
  },
  {
   "cell_type": "markdown",
   "metadata": {},
   "source": [
    "## AlexNet"
   ]
  },
  {
   "cell_type": "code",
   "execution_count": 58,
   "metadata": {},
   "outputs": [],
   "source": [
    "alexnet = models.alexnet(weights=models.AlexNet_Weights.IMAGENET1K_V1).to(device)"
   ]
  },
  {
   "cell_type": "code",
   "execution_count": 59,
   "metadata": {},
   "outputs": [
    {
     "data": {
      "text/plain": [
       "AlexNet(\n",
       "  (features): Sequential(\n",
       "    (0): Conv2d(3, 64, kernel_size=(11, 11), stride=(4, 4), padding=(2, 2))\n",
       "    (1): ReLU(inplace=True)\n",
       "    (2): MaxPool2d(kernel_size=3, stride=2, padding=0, dilation=1, ceil_mode=False)\n",
       "    (3): Conv2d(64, 192, kernel_size=(5, 5), stride=(1, 1), padding=(2, 2))\n",
       "    (4): ReLU(inplace=True)\n",
       "    (5): MaxPool2d(kernel_size=3, stride=2, padding=0, dilation=1, ceil_mode=False)\n",
       "    (6): Conv2d(192, 384, kernel_size=(3, 3), stride=(1, 1), padding=(1, 1))\n",
       "    (7): ReLU(inplace=True)\n",
       "    (8): Conv2d(384, 256, kernel_size=(3, 3), stride=(1, 1), padding=(1, 1))\n",
       "    (9): ReLU(inplace=True)\n",
       "    (10): Conv2d(256, 256, kernel_size=(3, 3), stride=(1, 1), padding=(1, 1))\n",
       "    (11): ReLU(inplace=True)\n",
       "    (12): MaxPool2d(kernel_size=3, stride=2, padding=0, dilation=1, ceil_mode=False)\n",
       "  )\n",
       "  (avgpool): AdaptiveAvgPool2d(output_size=(6, 6))\n",
       "  (classifier): Sequential(\n",
       "    (0): Dropout(p=0.5, inplace=False)\n",
       "    (1): Linear(in_features=9216, out_features=4096, bias=True)\n",
       "    (2): ReLU(inplace=True)\n",
       "    (3): Dropout(p=0.5, inplace=False)\n",
       "    (4): Linear(in_features=4096, out_features=4096, bias=True)\n",
       "    (5): ReLU(inplace=True)\n",
       "    (6): Linear(in_features=4096, out_features=1000, bias=True)\n",
       "  )\n",
       ")"
      ]
     },
     "execution_count": 59,
     "metadata": {},
     "output_type": "execute_result"
    }
   ],
   "source": [
    "alexnet.eval()"
   ]
  },
  {
   "cell_type": "code",
   "execution_count": 60,
   "metadata": {},
   "outputs": [
    {
     "data": {
      "text/plain": [
       "Sequential(\n",
       "  (0): Dropout(p=0.5, inplace=False)\n",
       "  (1): Linear(in_features=9216, out_features=4096, bias=True)\n",
       "  (2): ReLU(inplace=True)\n",
       "  (3): Dropout(p=0.5, inplace=False)\n",
       "  (4): Linear(in_features=4096, out_features=4096, bias=True)\n",
       "  (5): ReLU(inplace=True)\n",
       "  (6): Linear(in_features=4096, out_features=1000, bias=True)\n",
       ")"
      ]
     },
     "execution_count": 60,
     "metadata": {},
     "output_type": "execute_result"
    }
   ],
   "source": [
    "alexnet.classifier"
   ]
  },
  {
   "cell_type": "code",
   "execution_count": 61,
   "metadata": {},
   "outputs": [
    {
     "data": {
      "text/plain": [
       "<torch.utils.hooks.RemovableHandle at 0x2781861cc70>"
      ]
     },
     "execution_count": 61,
     "metadata": {},
     "output_type": "execute_result"
    }
   ],
   "source": [
    "alexnet.classifier[6].register_forward_hook(get_last_layer_activation)"
   ]
  },
  {
   "cell_type": "code",
   "execution_count": 62,
   "metadata": {},
   "outputs": [
    {
     "name": "stdout",
     "output_type": "stream",
     "text": [
      "-------------Running ['reversal']-------------------\n"
     ]
    },
    {
     "name": "stderr",
     "output_type": "stream",
     "text": [
      "['reversal']: 100%|██████████| 4094/4094 [02:01<00:00, 33.63it/s]\n"
     ]
    },
    {
     "name": "stdout",
     "output_type": "stream",
     "text": [
      "-------------Running ['mirror']-------------------\n"
     ]
    },
    {
     "name": "stderr",
     "output_type": "stream",
     "text": [
      "['mirror']: 100%|██████████| 4094/4094 [02:05<00:00, 32.73it/s]\n"
     ]
    },
    {
     "name": "stdout",
     "output_type": "stream",
     "text": [
      "-------------Running ['randomphasic']-------------------\n"
     ]
    },
    {
     "name": "stderr",
     "output_type": "stream",
     "text": [
      "['randomphasic']: 100%|██████████| 4094/4094 [02:12<00:00, 30.99it/s]\n"
     ]
    },
    {
     "name": "stdout",
     "output_type": "stream",
     "text": [
      "-------------Running ['randomdelete']-------------------\n"
     ]
    },
    {
     "name": "stderr",
     "output_type": "stream",
     "text": [
      "['randomdelete']: 100%|██████████| 4094/4094 [02:09<00:00, 31.60it/s]\n"
     ]
    },
    {
     "name": "stdout",
     "output_type": "stream",
     "text": [
      "-------------Running ['reversal', 'mirror']-------------------\n"
     ]
    },
    {
     "name": "stderr",
     "output_type": "stream",
     "text": [
      "['reversal', 'mirror']: 100%|██████████| 4094/4094 [02:07<00:00, 32.03it/s]\n"
     ]
    },
    {
     "name": "stdout",
     "output_type": "stream",
     "text": [
      "-------------Running ['randomdelete', 'mirror']-------------------\n"
     ]
    },
    {
     "name": "stderr",
     "output_type": "stream",
     "text": [
      "['randomdelete', 'mirror']: 100%|██████████| 4094/4094 [02:12<00:00, 31.00it/s]\n"
     ]
    },
    {
     "name": "stdout",
     "output_type": "stream",
     "text": [
      "-------------Running ['reversal', 'randomphasic']-------------------\n"
     ]
    },
    {
     "name": "stderr",
     "output_type": "stream",
     "text": [
      "['reversal', 'randomphasic']: 100%|██████████| 4094/4094 [02:13<00:00, 30.60it/s]\n"
     ]
    },
    {
     "name": "stdout",
     "output_type": "stream",
     "text": [
      "-------------Running ['randomdelete', 'reversal', 'randomphasic']-------------------\n"
     ]
    },
    {
     "name": "stderr",
     "output_type": "stream",
     "text": [
      "['randomdelete', 'reversal', 'randomphasic']: 100%|██████████| 4094/4094 [02:37<00:00, 26.01it/s]  \n"
     ]
    },
    {
     "name": "stdout",
     "output_type": "stream",
     "text": [
      "-------------Running ['randomdelete', 'reversal', 'mirror']-------------------\n"
     ]
    },
    {
     "name": "stderr",
     "output_type": "stream",
     "text": [
      "['randomdelete', 'reversal', 'mirror']: 100%|██████████| 4094/4094 [02:21<00:00, 28.87it/s]\n"
     ]
    }
   ],
   "source": [
    "pkl12path = 'mappings/exhaustive_mapping_12.pkl'\n",
    "pkl12 = utils.load_dict(pkl12path)\n",
    "similaritiesdict = defaultdict(list)\n",
    "last_activations = []\n",
    "folpath = 'exhaustive_generated_set\\\\12'\n",
    "for transformation in utils.HAHN_TRANSFORMATION_COMBOS:\n",
    "    if not 'randominsertion' in transformation:\n",
    "        print(f'-------------Running {transformation}-------------------')\n",
    "        for filepath in tqdm(os.listdir(folpath), desc=f'{transformation}'):\n",
    "        # for filepath in os.listdir(folpath):\n",
    "            imgpath = os.path.join(folpath, filepath)\n",
    "            imgin = Image.open(imgpath)\n",
    "            imgin = transform(imgin).unsqueeze(0).to(device)\n",
    "\n",
    "            imglist = pkl12[filepath.split('.')[0]]\n",
    "            # print(imglist)\n",
    "            for t in transformation:\n",
    "                func = getattr(utils, t)\n",
    "                imglist = func(imglist)\n",
    "            # print(imglist)\n",
    "            imgout = utils.array2img(imglist, num_circles=len(imglist), radius=0.75)\n",
    "            imgout = transform(imgout).unsqueeze(0).to(device)\n",
    "\n",
    "            with torch.no_grad():\n",
    "                alexnet(imgin)\n",
    "                alexnet(imgout)\n",
    "            assert len(last_activations) == 2\n",
    "            tensin = last_activations[0].flatten().unsqueeze(0)\n",
    "            tensout = last_activations[1].flatten().unsqueeze(0)\n",
    "            sim = torch.nn.functional.cosine_similarity(tensin, tensout, dim=1)\n",
    "            similaritiesdict[str(transformation)].append(sim)\n",
    "            last_activations = []"
   ]
  },
  {
   "cell_type": "code",
   "execution_count": 63,
   "metadata": {},
   "outputs": [],
   "source": [
    "for _, v in similaritiesdict.items():\n",
    "    assert len(v) == utils.EXPECTED_LEN_12\n",
    "with open(f'similarities/exhaustive/alexnet/filled.pkl', 'wb') as f:\n",
    "    pickle.dump(similaritiesdict, f)"
   ]
  },
  {
   "cell_type": "code",
   "execution_count": 64,
   "metadata": {},
   "outputs": [
    {
     "name": "stdout",
     "output_type": "stream",
     "text": [
      "-------------Running ['randominsertion', 'randomphasic']-------------------\n"
     ]
    },
    {
     "name": "stderr",
     "output_type": "stream",
     "text": [
      "['randominsertion', 'randomphasic']: 100%|██████████| 2046/2046 [03:30<00:00,  9.74it/s] \n"
     ]
    },
    {
     "name": "stdout",
     "output_type": "stream",
     "text": [
      "-------------Running ['randominsertion', 'reversal', 'randomphasic']-------------------\n"
     ]
    },
    {
     "name": "stderr",
     "output_type": "stream",
     "text": [
      "['randominsertion', 'reversal', 'randomphasic']: 100%|██████████| 2046/2046 [00:48<00:00, 41.79it/s]\n"
     ]
    },
    {
     "name": "stdout",
     "output_type": "stream",
     "text": [
      "-------------Running ['randominsertion', 'reversal', 'mirror']-------------------\n"
     ]
    },
    {
     "name": "stderr",
     "output_type": "stream",
     "text": [
      "['randominsertion', 'reversal', 'mirror']: 100%|██████████| 2046/2046 [01:00<00:00, 33.81it/s]\n"
     ]
    }
   ],
   "source": [
    "pkl11path = 'mappings/exhaustive_mapping_11.pkl'\n",
    "pkl11 = utils.load_dict(pkl11path)\n",
    "similaritiesdict = defaultdict(list)\n",
    "last_activations = []\n",
    "folpath = 'exhaustive_generated_set\\\\11'\n",
    "for transformation in utils.HAHN_TRANSFORMATION_COMBOS:\n",
    "    if 'randominsertion' in transformation:\n",
    "        print(f'-------------Running {transformation}-------------------')\n",
    "        for filepath in tqdm(os.listdir(folpath), desc=f'{transformation}'):\n",
    "            imgpath = os.path.join(folpath, filepath)\n",
    "            imgin = Image.open(imgpath)\n",
    "            imgin = transform(imgin).unsqueeze(0).to(device)\n",
    "\n",
    "            imglist = pkl11[filepath.split('.')[0]]\n",
    "            # print(imglist)\n",
    "            for t in transformation:\n",
    "                func = getattr(utils, t)\n",
    "                imglist = func(imglist)\n",
    "            # print(imglist)\n",
    "            imgout = utils.array2img(imglist, num_circles=len(imglist), radius=0.75)\n",
    "            imgout = transform(imgout).unsqueeze(0).to(device)\n",
    "\n",
    "            with torch.no_grad():\n",
    "                alexnet(imgin)\n",
    "                alexnet(imgout)\n",
    "            assert len(last_activations) == 2\n",
    "            tensin = last_activations[0].flatten().unsqueeze(0)\n",
    "            tensout = last_activations[1].flatten().unsqueeze(0)\n",
    "            sim = torch.nn.functional.cosine_similarity(tensin, tensout, dim=1)\n",
    "            similaritiesdict[str(transformation)].append(sim)\n",
    "            last_activations = []"
   ]
  },
  {
   "cell_type": "code",
   "execution_count": 65,
   "metadata": {},
   "outputs": [],
   "source": [
    "for _, v in similaritiesdict.items():\n",
    "    assert len(v) == utils.EXPECTED_LEN_11\n",
    "with open(f'similarities/exhaustive/alexnet/unfilled11.pkl', 'wb') as f:\n",
    "    pickle.dump(similaritiesdict, f)"
   ]
  },
  {
   "cell_type": "code",
   "execution_count": 66,
   "metadata": {},
   "outputs": [
    {
     "name": "stdout",
     "output_type": "stream",
     "text": [
      "-------------Running ['randominsertion', 'randomphasic']-------------------\n"
     ]
    },
    {
     "name": "stderr",
     "output_type": "stream",
     "text": [
      "['randominsertion', 'randomphasic']: 100%|██████████| 1022/1022 [00:44<00:00, 23.09it/s]\n"
     ]
    },
    {
     "name": "stdout",
     "output_type": "stream",
     "text": [
      "-------------Running ['randominsertion', 'reversal', 'randomphasic']-------------------\n"
     ]
    },
    {
     "name": "stderr",
     "output_type": "stream",
     "text": [
      "['randominsertion', 'reversal', 'randomphasic']: 100%|██████████| 1022/1022 [00:24<00:00, 41.30it/s]\n"
     ]
    },
    {
     "name": "stdout",
     "output_type": "stream",
     "text": [
      "-------------Running ['randominsertion', 'reversal', 'mirror']-------------------\n"
     ]
    },
    {
     "name": "stderr",
     "output_type": "stream",
     "text": [
      "['randominsertion', 'reversal', 'mirror']: 100%|██████████| 1022/1022 [00:26<00:00, 39.19it/s]\n"
     ]
    }
   ],
   "source": [
    "pkl10path = 'mappings/exhaustive_mapping_10.pkl'\n",
    "pkl10 = utils.load_dict(pkl10path)\n",
    "similaritiesdict = defaultdict(list)\n",
    "last_activations = []\n",
    "folpath = 'exhaustive_generated_set\\\\10'\n",
    "for transformation in utils.HAHN_TRANSFORMATION_COMBOS:\n",
    "    if 'randominsertion' in transformation:\n",
    "        print(f'-------------Running {transformation}-------------------')\n",
    "        for filepath in tqdm(os.listdir(folpath), desc=f'{transformation}'):\n",
    "            imgpath = os.path.join(folpath, filepath)\n",
    "            imgin = Image.open(imgpath)\n",
    "            imgin = transform(imgin).unsqueeze(0).to(device)\n",
    "\n",
    "            imglist = pkl10[filepath.split('.')[0]]\n",
    "            # print(imglist)\n",
    "            for t in transformation:\n",
    "                func = getattr(utils, t)\n",
    "                imglist = func(imglist)\n",
    "            # print(imglist)\n",
    "            imgout = utils.array2img(imglist, num_circles=len(imglist), radius=0.75)\n",
    "            imgout = transform(imgout).unsqueeze(0).to(device)\n",
    "\n",
    "            with torch.no_grad():\n",
    "                alexnet(imgin)\n",
    "                alexnet(imgout)\n",
    "            assert len(last_activations) == 2\n",
    "            tensin = last_activations[0].flatten().unsqueeze(0)\n",
    "            tensout = last_activations[1].flatten().unsqueeze(0)\n",
    "            sim = torch.nn.functional.cosine_similarity(tensin, tensout, dim=1)\n",
    "            similaritiesdict[str(transformation)].append(sim)\n",
    "            last_activations = []"
   ]
  },
  {
   "cell_type": "code",
   "execution_count": 67,
   "metadata": {},
   "outputs": [],
   "source": [
    "for _, v in similaritiesdict.items():\n",
    "    assert len(v) == utils.EXPECTED_LEN_10\n",
    "with open(f'similarities/exhaustive/alexnet/unfilled10.pkl', 'wb') as f:\n",
    "    pickle.dump(similaritiesdict, f)"
   ]
  },
  {
   "cell_type": "code",
   "execution_count": 85,
   "metadata": {},
   "outputs": [
    {
     "name": "stderr",
     "output_type": "stream",
     "text": [
      "100%|██████████| 1000/1000 [00:35<00:00, 27.93it/s]\n"
     ]
    }
   ],
   "source": [
    "similaritiesdict = defaultdict(list)\n",
    "last_activations = []\n",
    "for _ in tqdm(range(1000)):\n",
    "    l1 = utils.random_binary_list()\n",
    "    l2 = utils.random_binary_list()\n",
    "\n",
    "    img1 = utils.array2img(l1, num_circles=len(l1), radius=0.75)\n",
    "    temp1 = img1\n",
    "    img2 = utils.array2img(l2, num_circles=len(l2), radius=0.75)\n",
    "    temp2 = img2\n",
    "    img1 = transform(img1).unsqueeze(0).to(device)\n",
    "    img2 = transform(img2).unsqueeze(0).to(device)\n",
    "    with torch.no_grad():\n",
    "        alexnet(img1)\n",
    "        alexnet(img2)\n",
    "    assert len(last_activations) == 2\n",
    "    tensin = last_activations[0].flatten().unsqueeze(0)\n",
    "    tensout = last_activations[1].flatten().unsqueeze(0)\n",
    "    sim = torch.nn.functional.cosine_similarity(tensin, tensout, dim=1)\n",
    "    similaritiesdict['AlexNet'].append(sim)\n",
    "    last_activations = []\n",
    "with open(f'similarities/exhaustive/alexnet/random.pkl', 'wb') as f:\n",
    "    pickle.dump(similaritiesdict, f)"
   ]
  },
  {
   "cell_type": "markdown",
   "metadata": {},
   "source": [
    "# Visualization Code"
   ]
  },
  {
   "cell_type": "markdown",
   "metadata": {},
   "source": [
    "## Exhaustive Generated Set (Hooks at Classification Head) "
   ]
  },
  {
   "cell_type": "markdown",
   "metadata": {},
   "source": [
    "### Cosine Similarity Per Number of Transformations"
   ]
  },
  {
   "cell_type": "code",
   "execution_count": 69,
   "metadata": {},
   "outputs": [
    {
     "name": "stdout",
     "output_type": "stream",
     "text": [
      "---------Model: alexnet, Datafile: filled.pkl---------\n",
      "---------Model: alexnet, Datafile: random.pkl---------\n",
      "---------Model: alexnet, Datafile: unfilled10.pkl---------\n",
      "---------Model: alexnet, Datafile: unfilled11.pkl---------\n",
      "---------Model: densenet, Datafile: filled.pkl---------\n",
      "---------Model: densenet, Datafile: random.pkl---------\n",
      "---------Model: densenet, Datafile: unfilled10.pkl---------\n",
      "---------Model: densenet, Datafile: unfilled11.pkl---------\n",
      "---------Model: inception, Datafile: filled.pkl---------\n",
      "---------Model: inception, Datafile: random.pkl---------\n",
      "---------Model: inception, Datafile: unfilled10.pkl---------\n",
      "---------Model: inception, Datafile: unfilled11.pkl---------\n",
      "---------Model: resnet, Datafile: filled.pkl---------\n",
      "---------Model: resnet, Datafile: random.pkl---------\n",
      "---------Model: resnet, Datafile: unfilled10.pkl---------\n",
      "---------Model: resnet, Datafile: unfilled11.pkl---------\n",
      "---------Model: vgg, Datafile: filled.pkl---------\n",
      "---------Model: vgg, Datafile: random.pkl---------\n",
      "---------Model: vgg, Datafile: unfilled10.pkl---------\n",
      "---------Model: vgg, Datafile: unfilled11.pkl---------\n"
     ]
    }
   ],
   "source": [
    "transcounts = defaultdict(lambda: defaultdict(list))\n",
    "parentfol = 'similarities/exhaustive/'\n",
    "for modelvar in os.listdir(parentfol):\n",
    "    subpath = os.path.join(parentfol, modelvar)\n",
    "    for datafile in os.listdir(subpath):\n",
    "        print(f'---------Model: {modelvar}, Datafile: {datafile}---------')\n",
    "        pkldatapath = os.path.join(subpath, datafile)\n",
    "        data = utils.load_dict(pkldatapath)\n",
    "        for k, v in data.items():\n",
    "            cc = k.count(',') + 1\n",
    "\n",
    "            # This code should really be done better...\n",
    "            if modelvar == 'alexnet':\n",
    "                newname = 'AlexNet'\n",
    "            elif modelvar == 'densenet':\n",
    "                newname = 'DenseNet121'\n",
    "            elif modelvar == 'inception':\n",
    "                newname = 'InceptionV3'\n",
    "            elif modelvar == 'resnet':\n",
    "                newname = 'ResNet18'\n",
    "            elif modelvar == 'vgg':\n",
    "                newname = 'VGG16'\n",
    "\n",
    "            for tensor in v:\n",
    "                transcounts[newname][cc].append(tensor.item())"
   ]
  },
  {
   "cell_type": "code",
   "execution_count": 86,
   "metadata": {},
   "outputs": [
    {
     "name": "stdout",
     "output_type": "stream",
     "text": [
      "---------Model: alexnet, Datafile: random.pkl---------\n",
      "---------Model: densenet, Datafile: random.pkl---------\n",
      "---------Model: inception, Datafile: random.pkl---------\n",
      "---------Model: resnet, Datafile: random.pkl---------\n",
      "---------Model: vgg, Datafile: random.pkl---------\n"
     ]
    }
   ],
   "source": [
    "randomcounts = defaultdict(list)\n",
    "parentfol = 'similarities/exhaustive/'\n",
    "for modelvar in os.listdir(parentfol):\n",
    "    subpath = os.path.join(parentfol, modelvar)\n",
    "    for datafile in os.listdir(subpath):\n",
    "        if datafile == 'random.pkl':\n",
    "            print(f'---------Model: {modelvar}, Datafile: {datafile}---------')\n",
    "            pkldatapath = os.path.join(subpath, datafile)\n",
    "            data = utils.load_dict(pkldatapath)\n",
    "            for k, v in data.items():\n",
    "                temp = []\n",
    "                for tensor in v:\n",
    "                    temp.append(tensor.item())\n",
    "                randomcounts[k] = np.mean(temp)"
   ]
  },
  {
   "cell_type": "code",
   "execution_count": 72,
   "metadata": {},
   "outputs": [],
   "source": [
    "plotdict = defaultdict(list)\n",
    "for k1, v1 in transcounts.items():\n",
    "    for k2, v2 in v1.items():\n",
    "        m = np.mean(v2)\n",
    "        # print(k2)\n",
    "        plotdict[k1].append(m)"
   ]
  },
  {
   "cell_type": "code",
   "execution_count": 89,
   "metadata": {},
   "outputs": [],
   "source": [
    "for k, v in randomcounts.items():\n",
    "    plotdict[k].append(v)"
   ]
  },
  {
   "cell_type": "code",
   "execution_count": 91,
   "metadata": {},
   "outputs": [
    {
     "data": {
      "image/png": "[encoded data removed]",
      "text/plain": [
       "<Figure size 640x480 with 1 Axes>"
      ]
     },
     "metadata": {},
     "output_type": "display_data"
    }
   ],
   "source": [
    "for k, v in plotdict.items():\n",
    "    # plt.scatter([1, 2, 3], v, label=k, marker='o')\n",
    "    plt.plot([0, 1, 2, 3], v, label=k, linestyle='-', marker='x')\n",
    "\n",
    "plt.xlabel(\"Number of Transformations Applied\")\n",
    "plt.ylabel(\"Mean Cosine Similarity\")\n",
    "plt.title(\"Mean Cosine Similarity Between Input-Output Images\")\n",
    "# plt.ylim(0.75, 1)\n",
    "plt.xticks([0, 1, 2, 3], ['1', '2', '3', 'Control'])\n",
    "plt.legend(loc='lower left')\n",
    "plt.show()"
   ]
  },
  {
   "cell_type": "markdown",
   "metadata": {},
   "source": [
    "### Cosine Similarity Per Transformation Combination"
   ]
  },
  {
   "cell_type": "code",
   "execution_count": 98,
   "metadata": {},
   "outputs": [
    {
     "name": "stdout",
     "output_type": "stream",
     "text": [
      "---------Model: alexnet, Datafile: filled.pkl---------\n",
      "---------Model: alexnet, Datafile: unfilled10.pkl---------\n",
      "---------Model: alexnet, Datafile: unfilled11.pkl---------\n",
      "---------Model: densenet, Datafile: filled.pkl---------\n",
      "---------Model: densenet, Datafile: unfilled10.pkl---------\n",
      "---------Model: densenet, Datafile: unfilled11.pkl---------\n",
      "---------Model: inception, Datafile: filled.pkl---------\n",
      "---------Model: inception, Datafile: unfilled10.pkl---------\n",
      "---------Model: inception, Datafile: unfilled11.pkl---------\n",
      "---------Model: resnet, Datafile: filled.pkl---------\n",
      "---------Model: resnet, Datafile: unfilled10.pkl---------\n",
      "---------Model: resnet, Datafile: unfilled11.pkl---------\n",
      "---------Model: vgg, Datafile: filled.pkl---------\n",
      "---------Model: vgg, Datafile: unfilled10.pkl---------\n",
      "---------Model: vgg, Datafile: unfilled11.pkl---------\n"
     ]
    }
   ],
   "source": [
    "combocounts = defaultdict(lambda: defaultdict(float))\n",
    "parentfol = 'similarities/exhaustive/'\n",
    "for modelvar in os.listdir(parentfol):\n",
    "    subpath = os.path.join(parentfol, modelvar)\n",
    "    for datafile in os.listdir(subpath):\n",
    "        if datafile == 'random.pkl':\n",
    "            continue\n",
    "        print(f'---------Model: {modelvar}, Datafile: {datafile}---------')\n",
    "        pkldatapath = os.path.join(subpath, datafile)\n",
    "        data = utils.load_dict(pkldatapath)\n",
    "        for k, v in data.items():\n",
    "\n",
    "            # This code should really be done better...\n",
    "            if modelvar == 'alexnet':\n",
    "                newname = 'AlexNet'\n",
    "            elif modelvar == 'densenet':\n",
    "                newname = 'DenseNet121'\n",
    "            elif modelvar == 'inception':\n",
    "                newname = 'InceptionV3'\n",
    "            elif modelvar == 'resnet':\n",
    "                newname = 'ResNet18'\n",
    "            elif modelvar == 'vgg':\n",
    "                newname = 'VGG16'\n",
    "\n",
    "            temp = []\n",
    "            for tensor in v:\n",
    "                temp.append(tensor.item())\n",
    "            combocounts[newname][k] = np.mean(temp)"
   ]
  },
  {
   "cell_type": "code",
   "execution_count": 188,
   "metadata": {},
   "outputs": [],
   "source": [
    "section_names = []\n",
    "bar_labels = []\n",
    "data = []\n",
    "for k1, v1 in combocounts.items():\n",
    "    section_names.append(k1)\n",
    "    temp = []\n",
    "    lab = []\n",
    "    for k2, v2 in v1.items():\n",
    "        temp.append(v2)\n",
    "        lab.append(k2)\n",
    "    data.append(temp)\n",
    "    if not bar_labels:\n",
    "        bar_labels = lab"
   ]
  },
  {
   "cell_type": "code",
   "execution_count": 189,
   "metadata": {},
   "outputs": [
    {
     "data": {
      "text/plain": [
       "['r', 'm', 'p', 'd', 'rm', 'dm', 'rp', 'drp', 'drm', 'ip', 'irp', 'irm']"
      ]
     },
     "execution_count": 189,
     "metadata": {},
     "output_type": "execute_result"
    }
   ],
   "source": [
    "# sigh...\n",
    "newlab = []\n",
    "for l in bar_labels:\n",
    "    if l == \"['reversal']\":\n",
    "        newlab.append('r')\n",
    "    elif l == \"['mirror']\":\n",
    "        newlab.append('m')\n",
    "    elif l == \"['randomphasic']\":\n",
    "        newlab.append('p')\n",
    "    elif l == \"['randomdelete']\":\n",
    "        newlab.append('d')\n",
    "    elif l == \"['reversal', 'mirror']\":\n",
    "        newlab.append('rm')\n",
    "    elif l == \"['randomdelete', 'mirror']\":\n",
    "        newlab.append('dm')\n",
    "    elif l == \"['reversal', 'randomphasic']\":\n",
    "        newlab.append('rp')\n",
    "    elif l == \"['randomdelete', 'reversal', 'randomphasic']\":\n",
    "        newlab.append('drp')\n",
    "    elif l == \"['randomdelete', 'reversal', 'mirror']\":\n",
    "        newlab.append('drm')\n",
    "    elif l == \"['randominsertion', 'randomphasic']\":\n",
    "        newlab.append('ip')\n",
    "    elif l == \"['randominsertion', 'reversal', 'randomphasic']\":\n",
    "        newlab.append('irp')\n",
    "    elif l == \"['randominsertion', 'reversal', 'mirror']\":\n",
    "        newlab.append('irm')\n",
    "newlab"
   ]
  },
  {
   "cell_type": "code",
   "execution_count": 201,
   "metadata": {},
   "outputs": [
    {
     "data": {
      "image/png": "[encoded data removed]",
      "text/plain": [
       "<Figure size 1700x500 with 1 Axes>"
      ]
     },
     "metadata": {},
     "output_type": "display_data"
    }
   ],
   "source": [
    "from matplotlib.patches import Rectangle\n",
    "from matplotlib.lines import Line2D\n",
    "sections = 5\n",
    "bars_per_section = 12\n",
    "gap_between_bars = 0.8\n",
    "x = np.arange(bars_per_section * sections)\n",
    "bar_width = 1.2\n",
    "section_gap = 1.5\n",
    "# positions = np.arange(sections * bars_per_section) + np.repeat(np.arange(sections) * section_gap, bars_per_section)\n",
    "positions = np.arange(sections * bars_per_section) * (bar_width + gap_between_bars)\n",
    "positions = positions + np.repeat(np.arange(sections) * section_gap, bars_per_section)\n",
    "colors = plt.cm.tab20.colors[:sections]\n",
    "fig, ax = plt.subplots(figsize=(17, 5))\n",
    "\n",
    "for i in range(sections):\n",
    "    start = i * bars_per_section\n",
    "    end = start + bars_per_section\n",
    "    # ax.bar(positions[start:end], data[i], color=colors[i], label=f'Section {i+1}', width=bar_width)\n",
    "    bars = ax.bar(positions[start:end], data[i], color=colors[i], label=f'Section {i+1}', width=bar_width)\n",
    "    for j, bar in enumerate(bars):\n",
    "        height = bar.get_height()\n",
    "        ax.text(\n",
    "            bar.get_x() + bar.get_width() / 2,\n",
    "            height,\n",
    "            newlab[j],\n",
    "            ha='center', va='bottom', fontsize=10\n",
    "        )\n",
    "\n",
    "ax.set_title('Mean Cosine Similarity Per Transformation Combination', fontsize=16)\n",
    "ax.set_xlabel('Model Variant', fontsize=14)\n",
    "ax.set_ylabel('Mean Cosine Similarity', fontsize=14)\n",
    "ax.set_xticks(positions[::bars_per_section] + (bars_per_section - 1))\n",
    "ax.set_xticklabels(section_names)\n",
    "plt.ylim((0.9, 1.01))\n",
    "# ax.legend(loc='lower right')\n",
    "# ax.legend(handles=['r', 'm', 'p', 'd', 'i'], labels=['Reversal', 'Mirror', 'Phasic', 'Deletion', 'Insertion'], title='Sections')\n",
    "legend_handles = []\n",
    "for a, b in zip(['r', 'm', 'p', 'd', 'i'], ['Reversal', 'Mirror', 'Phasic', 'Deletion', 'Insertion']):\n",
    "    legend_handles.append(Line2D([0], [0], color='None', lw=1, label=f'{a} -> {b}'))\n",
    "ax.legend(handles=legend_handles, title='Letter Mappings', handlelength=-0.5, loc='lower right')\n",
    "# ax.legend(handles = legend_handles, title='Sections')\n",
    "ax.grid(axis='y', linestyle='--', alpha=0.7)\n",
    "\n",
    "plt.tight_layout()\n",
    "plt.show()"
   ]
  }
 ],
 "metadata": {
  "kernelspec": {
   "display_name": "pytorch",
   "language": "python",
   "name": "python3"
  },
  "language_info": {
   "codemirror_mode": {
    "name": "ipython",
    "version": 3
   },
   "file_extension": ".py",
   "mimetype": "text/x-python",
   "name": "python",
   "nbconvert_exporter": "python",
   "pygments_lexer": "ipython3",
   "version": "3.10.13"
  }
 },
 "nbformat": 4,
 "nbformat_minor": 2
}
