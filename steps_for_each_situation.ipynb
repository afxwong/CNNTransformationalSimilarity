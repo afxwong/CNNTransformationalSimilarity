{
 "cells": [
  {
   "cell_type": "code",
   "execution_count": 2,
   "id": "9f641aaf-c2cc-4603-b25b-37a7d176aceb",
   "metadata": {},
   "outputs": [],
   "source": [
    "import random"
   ]
  },
  {
   "cell_type": "code",
   "execution_count": 3,
   "id": "8721adc5-5e7f-4106-8a49-5c88d1e43c1f",
   "metadata": {},
   "outputs": [],
   "source": [
    "#0.Definition of one step: One step is to move one element for once."
   ]
  },
  {
   "cell_type": "code",
   "execution_count": 4,
   "id": "4d5d973e-4cca-4c36-a113-e51473c319b3",
   "metadata": {},
   "outputs": [
    {
     "name": "stdout",
     "output_type": "stream",
     "text": [
      "Original: [1, 1, 1, 0, 0, 0, 1, 1, 0, 1, 1, 1]\n",
      "Reversed: [0, 0, 0, 1, 1, 1, 0, 0, 1, 0, 0, 0]\n",
      "steps: 24\n",
      "***For reverse transformation, the steps are 24***\n"
     ]
    }
   ],
   "source": [
    "#1.reverse\n",
    "\n",
    "reverse = [random.choice([0, 1]) for _ in range(12)]\n",
    "reverse_d = reverse.copy()\n",
    "steps_1 = 0\n",
    "\n",
    "print(\"Original:\", reverse)\n",
    "\n",
    "for i in range(len(reverse_d)):\n",
    "    if reverse_d[i] == 0:\n",
    "        reverse_d[i] = 1\n",
    "    else:\n",
    "        reverse_d[i] = 0\n",
    "    steps_1 += 2  #Each element is removed and replaced by another, so 2 steps for each replacement\n",
    "    \n",
    "\n",
    "print(\"Reversed:\", reverse_d)\n",
    "print(\"steps:\", steps_1)\n",
    "print(\"***For reverse transformation, the steps are 24***\")"
   ]
  },
  {
   "cell_type": "code",
   "execution_count": 5,
   "id": "ea281888-90bc-490f-b803-503c860e882f",
   "metadata": {},
   "outputs": [
    {
     "name": "stdout",
     "output_type": "stream",
     "text": [
      "Original: [1, 1, 0, 1, 0, 1, 0, 0, 1, 0, 0, 0]\n",
      "Mirrored: [0, 0, 0, 1, 0, 0, 1, 0, 1, 0, 1, 1]\n",
      "steps: 12\n",
      "***For mirror transformation, the steps are 12***\n"
     ]
    }
   ],
   "source": [
    "#2.mirror\n",
    "\n",
    "mirror = [random.choice([0, 1]) for _ in range(12)]\n",
    "mirror_d = mirror.copy()\n",
    "steps_2 = 0\n",
    "\n",
    "print(\"Original:\", mirror)\n",
    "\n",
    "for i in range(len(mirror_d)):\n",
    "    mirror_d[i] = mirror[len(mirror) - 1 - i]\n",
    "    steps_2 += 1\n",
    "\n",
    "print(\"Mirrored:\", mirror_d)\n",
    "print(\"steps:\", steps_2)\n",
    "print(\"***For mirror transformation, the steps are 12***\")"
   ]
  },
  {
   "cell_type": "code",
   "execution_count": 6,
   "id": "d8b69684-813d-48ed-b8a7-35a190cb837f",
   "metadata": {},
   "outputs": [
    {
     "name": "stdout",
     "output_type": "stream",
     "text": [
      "Original: [0, 0, 0, 0, 0, 0, 1, 1, 1, 0, 1, 0]\n",
      "Phase value: 3\n",
      "Phased: [0, 0, 0, 1, 1, 1, 0, 1, 0, 0, 0, 0]\n",
      "steps: 12\n",
      "***For phasic transformation, the steps are 12***\n"
     ]
    }
   ],
   "source": [
    "#3.phasic(left) \n",
    "# Note: the steps should be the same for left or right phasic patterns\n",
    "\n",
    "phasic = [random.choice([0, 1]) for _ in range(12)]\n",
    "phase_d = phasic.copy()\n",
    "steps_3 = 0\n",
    "\n",
    "print(\"Original:\", phasic)\n",
    "\n",
    "phase = random.randint(1, 3)\n",
    "storage_phase = phase_d[:phase]\n",
    "steps_3 += phase\n",
    "\n",
    "print(\"Phase value:\", phase)\n",
    "\n",
    "phase_d = phase_d[phase:] + [0]*phase\n",
    "steps_3 += (12 - phase)\n",
    "\n",
    "for i in range(phase):\n",
    "    phase_d[-phase + i] = phase_d[-phase + i] ^ storage_phase[i] \n",
    "    # This move can happen simuitaneously to the previous step, which can be count as same moves as the first \"remove\" moves\n",
    "\n",
    "print(\"Phased:\", phase_d)\n",
    "print(\"steps:\", steps_3)\n",
    "print(\"***For phasic transformation, the steps are 12***\")"
   ]
  },
  {
   "cell_type": "code",
   "execution_count": 10,
   "id": "e8b37cd3-66be-4a18-820c-6238995f10ae",
   "metadata": {},
   "outputs": [
    {
     "name": "stdout",
     "output_type": "stream",
     "text": [
      "Original: [0, 0, 0, 1, 0, 1, 0, 1, 1, 0, 1, 1]\n",
      "Delete Amount: 2\n",
      "Left Deleted: [0, 1, 0, 1, 0, 1, 1, 0, 1, 1]\n",
      "steps: 14\n",
      "***For left deletion transformation, the steps are 12 + deletion***\n"
     ]
    }
   ],
   "source": [
    "#4.deletion(left)\n",
    "\n",
    "deletion = [random.choice([0, 1]) for _ in range(12)]\n",
    "delete_d = deletion.copy()\n",
    "steps_4 = 0\n",
    "\n",
    "print(\"Original:\", deletion)\n",
    "\n",
    "delete = random.randint(1, 3)\n",
    "storage_delete = delete_d[:delete]\n",
    "steps_4 += delete\n",
    "\n",
    "print(\"Delete Amount:\", delete)\n",
    "\n",
    "delete_d = delete_d[delete:]\n",
    "steps_4 += (12 - delete)\n",
    "\n",
    "steps_4 += delete\n",
    "    # We will need to add something as \"place holders\" for the blanks here, otherwise it will be no difference from phasic transformation\n",
    "\n",
    "print(\"Left Deleted:\", delete_d)\n",
    "print(\"steps:\", steps_4)\n",
    "print(\"***For left deletion transformation, the steps are 12 + deletion***\")"
   ]
  },
  {
   "cell_type": "code",
   "execution_count": 12,
   "id": "183cdea7-30bd-4d90-b3b8-43dc51fe126a",
   "metadata": {},
   "outputs": [
    {
     "name": "stdout",
     "output_type": "stream",
     "text": [
      "Original: [1, 1, 0, 1, 0, 0, 1, 0, 0, 0, 1, 1]\n",
      "Delete Amount: 3\n",
      "Rifht Deleted: [0, 0, 0, 0, 0, 0, 1, 1, 1, 0, 1, 0]\n",
      "steps: 6\n",
      "***For right deletion transformation, the steps are 2*deletion)***\n"
     ]
    }
   ],
   "source": [
    "#5.deletion(right)\n",
    "\n",
    "deletion2 = [random.choice([0, 1]) for _ in range(12)]\n",
    "delete2_d = phasic.copy()\n",
    "steps_5 = 0\n",
    "\n",
    "print(\"Original:\", deletion2)\n",
    "\n",
    "delete2 = random.randint(1, 3)\n",
    "storage_delete2 = delete2_d[delete2:]\n",
    "steps_5 += delete2\n",
    "\n",
    "print(\"Delete Amount:\", delete2)\n",
    "\n",
    "steps_5 += delete2\n",
    "\n",
    "print(\"Rifht Deleted:\", delete2_d)\n",
    "print(\"steps:\", steps_5)\n",
    "print(\"***For right deletion transformation, the steps are 2*deletion)***\")"
   ]
  },
  {
   "cell_type": "code",
   "execution_count": null,
   "id": "8670df8c-2e6a-4367-aae9-2a6cad85f7c1",
   "metadata": {},
   "outputs": [],
   "source": []
  },
  {
   "cell_type": "code",
   "execution_count": null,
   "id": "ac795344-f8cd-40b5-b681-3d89b12d7052",
   "metadata": {},
   "outputs": [],
   "source": []
  }
 ],
 "metadata": {
  "kernelspec": {
   "display_name": "Python 3 (ipykernel)",
   "language": "python",
   "name": "python3"
  },
  "language_info": {
   "codemirror_mode": {
    "name": "ipython",
    "version": 3
   },
   "file_extension": ".py",
   "mimetype": "text/x-python",
   "name": "python",
   "nbconvert_exporter": "python",
   "pygments_lexer": "ipython3",
   "version": "3.12.0"
  }
 },
 "nbformat": 4,
 "nbformat_minor": 5
}
