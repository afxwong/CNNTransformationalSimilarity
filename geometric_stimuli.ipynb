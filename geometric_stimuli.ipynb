{
 "cells": [
  {
   "cell_type": "code",
   "execution_count": 10,
   "metadata": {},
   "outputs": [
    {
     "name": "stdout",
     "output_type": "stream",
     "text": [
      "The autoreload extension is already loaded. To reload it, use:\n",
      "  %reload_ext autoreload\n"
     ]
    }
   ],
   "source": [
    "from PIL import Image, ImageOps\n",
    "import torchvision.transforms as transforms\n",
    "import numpy as np\n",
    "import torch\n",
    "import torchvision\n",
    "import torchvision.models as models\n",
    "from PIL import Image\n",
    "import matplotlib.pyplot as plt\n",
    "import utils\n",
    "import numpy as np\n",
    "import os\n",
    "from collections import defaultdict\n",
    "import pickle\n",
    "from tqdm import tqdm\n",
    "\n",
    "%load_ext autoreload\n",
    "%autoreload 2\n",
    "%reload_ext autoreload"
   ]
  },
  {
   "cell_type": "markdown",
   "metadata": {},
   "source": [
    "# Data Preparation"
   ]
  },
  {
   "cell_type": "code",
   "execution_count": 19,
   "metadata": {},
   "outputs": [],
   "source": [
    "def prepare_img_save(imgpath: str, dest: str, name: str) -> None:\n",
    "    img = Image.open(imgpath)\n",
    "    width, height = img.size\n",
    "    desired_size = max(width, height)\n",
    "    delta_w = desired_size - width\n",
    "    delta_h = desired_size - height\n",
    "    padding = (delta_w // 2, delta_h // 2, delta_w - delta_w // 2, delta_h - delta_h // 2)\n",
    "    square_img = ImageOps.expand(img, padding, fill=(255, 255, 255))\n",
    "    resized_img = square_img.resize((224, 224), Image.Resampling.BILINEAR)\n",
    "    destpath = f'{dest}\\\\{name}'\n",
    "    resized_img.save(destpath, format='PNG', compress_level=0)"
   ]
  },
  {
   "cell_type": "code",
   "execution_count": 25,
   "metadata": {},
   "outputs": [],
   "source": [
    "basepath = \"hahn_figures/unnormalized\"\n",
    "for split_ in os.listdir(basepath):\n",
    "    subpath = os.path.join(basepath, split_)\n",
    "    sublist = os.listdir(subpath)\n",
    "    for subname in sublist:\n",
    "        subsubpath = os.path.join(subpath, subname)\n",
    "        if os.path.isdir(subsubpath):\n",
    "            i = 1\n",
    "            for filename in os.listdir(subsubpath):\n",
    "                filepath = os.path.join(subsubpath, filename)\n",
    "                # print(subsubpath)\n",
    "                # prepare_img_save(filepath, subsubpath)\n",
    "                newsubsub = subsubpath.replace('unnormalized', 'normalized')\n",
    "                newname = f'img_{i}'\n",
    "                prepare_img_save(filepath, newsubsub, newname + '.png')\n",
    "                i += 1\n",
    "\n",
    "        else:\n",
    "            # print(subname)\n",
    "            newsubpath = subpath.replace('unnormalized', 'normalized')\n",
    "            prepare_img_save(subsubpath, newsubpath, subname.split('.')[0] + '.png')"
   ]
  },
  {
   "cell_type": "markdown",
   "metadata": {},
   "source": [
    "# Run Inference"
   ]
  },
  {
   "cell_type": "code",
   "execution_count": 42,
   "metadata": {},
   "outputs": [],
   "source": [
    "device = torch.device(\"cuda\" if torch.cuda.is_available() else \"cpu\")\n",
    "transform = torchvision.transforms.Compose(\n",
    "    [\n",
    "        torchvision.transforms.ToTensor()\n",
    "    ]\n",
    ")\n",
    "transform_inception = torchvision.transforms.Compose(\n",
    "    [\n",
    "        torchvision.transforms.Resize((299, 299)),\n",
    "        torchvision.transforms.ToTensor()\n",
    "    ]\n",
    ")\n",
    "last_activations = []\n",
    "def get_last_layer_activation(module, input, output):\n",
    "    last_activations.append(output)"
   ]
  },
  {
   "cell_type": "code",
   "execution_count": null,
   "metadata": {},
   "outputs": [],
   "source": [
    "# Make nested default dict pickle-able\n",
    "def p1():\n",
    "    return defaultdict(float)\n",
    "def p2():\n",
    "    return defaultdict(p1)\n",
    "def p3():\n",
    "    return defaultdict(p2)"
   ]
  },
  {
   "cell_type": "code",
   "execution_count": null,
   "metadata": {},
   "outputs": [],
   "source": [
    "similaritiesdict = defaultdict(p3)\n",
    "def run_geometric_on_model(model, modelname, isinception=False):\n",
    "    global last_activations\n",
    "    assert not model.training\n",
    "\n",
    "    basepath = \"hahn_figures/normalized\"\n",
    "    for split_ in os.listdir(basepath):\n",
    "        subpath = os.path.join(basepath, split_)\n",
    "        sublist = os.listdir(subpath)\n",
    "\n",
    "        baseimgact = None\n",
    "\n",
    "        # Get values for base image\n",
    "        for subname in sublist:\n",
    "            subsubpath = os.path.join(subpath, subname)\n",
    "            if not os.path.isdir(subsubpath):\n",
    "                if isinception:\n",
    "                    img = Image.open(subsubpath).convert('RGB')\n",
    "                    img = transform_inception(img).unsqueeze(0).to(device)\n",
    "                else:\n",
    "                    img = Image.open(subsubpath)\n",
    "                    img = transform(img).unsqueeze(0).to(device)\n",
    "                with torch.no_grad():\n",
    "                    model(img)\n",
    "                assert len(last_activations) == 1\n",
    "                baseimgact = last_activations[0]\n",
    "                last_activations = []\n",
    "        # Get values for all images\n",
    "        for subname in sublist:\n",
    "            subsubpath = os.path.join(subpath, subname)\n",
    "            if os.path.isdir(subsubpath):\n",
    "                for filename in os.listdir(subsubpath):\n",
    "                    filepath = os.path.join(subsubpath, filename)\n",
    "                    if isinception:\n",
    "                        img = Image.open(filepath).convert('RGB')\n",
    "                        img = transform_inception(img).unsqueeze(0).to(device)\n",
    "                    else:\n",
    "                        img = Image.open(filepath)\n",
    "                        img = transform(img).unsqueeze(0).to(device)\n",
    "                    with torch.no_grad():\n",
    "                        model(img)\n",
    "                    assert len(last_activations) == 1\n",
    "                    sim = torch.nn.functional.cosine_similarity(baseimgact, last_activations[0])\n",
    "                    similaritiesdict[modelname][split_][subsubpath.split('\\\\')[-1]][filename] = sim.item()\n",
    "                    last_activations = []"
   ]
  },
  {
   "cell_type": "markdown",
   "metadata": {},
   "source": [
    "## ResNet"
   ]
  },
  {
   "cell_type": "code",
   "execution_count": 33,
   "metadata": {},
   "outputs": [
    {
     "data": {
      "text/plain": [
       "<torch.utils.hooks.RemovableHandle at 0x1950799ca00>"
      ]
     },
     "execution_count": 33,
     "metadata": {},
     "output_type": "execute_result"
    }
   ],
   "source": [
    "resnet18 = models.resnet18(weights=models.ResNet18_Weights.DEFAULT).to(device)\n",
    "resnet18.eval()\n",
    "resnet18.fc.register_forward_hook(get_last_layer_activation)"
   ]
  },
  {
   "cell_type": "code",
   "execution_count": 68,
   "metadata": {},
   "outputs": [],
   "source": [
    "run_geometric_on_model(resnet18, \"ResNet18\")"
   ]
  },
  {
   "cell_type": "markdown",
   "metadata": {},
   "source": [
    "## VGG"
   ]
  },
  {
   "cell_type": "code",
   "execution_count": 56,
   "metadata": {},
   "outputs": [
    {
     "data": {
      "text/plain": [
       "<torch.utils.hooks.RemovableHandle at 0x1950799cbe0>"
      ]
     },
     "execution_count": 56,
     "metadata": {},
     "output_type": "execute_result"
    }
   ],
   "source": [
    "vgg16 = models.vgg16(weights=models.VGG16_Weights.IMAGENET1K_V1).to(device)\n",
    "vgg16.eval()\n",
    "vgg16.classifier[6].register_forward_hook(get_last_layer_activation)"
   ]
  },
  {
   "cell_type": "code",
   "execution_count": 70,
   "metadata": {},
   "outputs": [],
   "source": [
    "run_geometric_on_model(vgg16, \"VGG16\")"
   ]
  },
  {
   "cell_type": "markdown",
   "metadata": {},
   "source": [
    "## DenseNet"
   ]
  },
  {
   "cell_type": "code",
   "execution_count": 58,
   "metadata": {},
   "outputs": [
    {
     "data": {
      "text/plain": [
       "<torch.utils.hooks.RemovableHandle at 0x1950799c460>"
      ]
     },
     "execution_count": 58,
     "metadata": {},
     "output_type": "execute_result"
    }
   ],
   "source": [
    "densenet121 = models.densenet121(weights=models.DenseNet121_Weights.IMAGENET1K_V1).to(device)\n",
    "densenet121.eval()\n",
    "densenet121.classifier.register_forward_hook(get_last_layer_activation)"
   ]
  },
  {
   "cell_type": "code",
   "execution_count": 71,
   "metadata": {},
   "outputs": [],
   "source": [
    "run_geometric_on_model(densenet121, \"DenseNet121\")"
   ]
  },
  {
   "cell_type": "markdown",
   "metadata": {},
   "source": [
    "## Inception"
   ]
  },
  {
   "cell_type": "code",
   "execution_count": 60,
   "metadata": {},
   "outputs": [
    {
     "data": {
      "text/plain": [
       "<torch.utils.hooks.RemovableHandle at 0x1950799c610>"
      ]
     },
     "execution_count": 60,
     "metadata": {},
     "output_type": "execute_result"
    }
   ],
   "source": [
    "inception_v3 = models.inception_v3(weights=models.Inception_V3_Weights.IMAGENET1K_V1).to(device)\n",
    "inception_v3.eval()\n",
    "inception_v3.fc.register_forward_hook(get_last_layer_activation)"
   ]
  },
  {
   "cell_type": "code",
   "execution_count": 72,
   "metadata": {},
   "outputs": [],
   "source": [
    "run_geometric_on_model(inception_v3, \"InceptionV3\", isinception=True)"
   ]
  },
  {
   "cell_type": "markdown",
   "metadata": {},
   "source": [
    "## AlexNet"
   ]
  },
  {
   "cell_type": "code",
   "execution_count": 62,
   "metadata": {},
   "outputs": [
    {
     "data": {
      "text/plain": [
       "<torch.utils.hooks.RemovableHandle at 0x19507db4e20>"
      ]
     },
     "execution_count": 62,
     "metadata": {},
     "output_type": "execute_result"
    }
   ],
   "source": [
    "alexnet = models.alexnet(weights=models.AlexNet_Weights.IMAGENET1K_V1).to(device)\n",
    "alexnet.eval()\n",
    "alexnet.classifier[6].register_forward_hook(get_last_layer_activation)"
   ]
  },
  {
   "cell_type": "code",
   "execution_count": 73,
   "metadata": {},
   "outputs": [],
   "source": [
    "run_geometric_on_model(alexnet, \"AlexNet\")"
   ]
  },
  {
   "cell_type": "markdown",
   "metadata": {},
   "source": [
    "## All Model Results"
   ]
  },
  {
   "cell_type": "code",
   "execution_count": 74,
   "metadata": {},
   "outputs": [
    {
     "data": {
      "text/plain": [
       "defaultdict(<function __main__.p3()>,\n",
       "            {'ResNet18': defaultdict(<function __main__.p2()>,\n",
       "                         {'split_1': defaultdict(<function __main__.p1()>,\n",
       "                                      {'t1': defaultdict(float,\n",
       "                                                   {'img_1.png': 0.9324595928192139,\n",
       "                                                    'img_2.png': 0.8480445146560669,\n",
       "                                                    'img_3.png': 0.9513001441955566,\n",
       "                                                    'img_4.png': 0.8237024545669556}),\n",
       "                                       't2': defaultdict(float,\n",
       "                                                   {'img_1.png': 0.7473688125610352,\n",
       "                                                    'img_2.png': 0.891516923904419,\n",
       "                                                    'img_3.png': 0.8241478800773621,\n",
       "                                                    'img_4.png': 0.8540049195289612}),\n",
       "                                       't3': defaultdict(float,\n",
       "                                                   {'img_1.png': 0.8916082978248596,\n",
       "                                                    'img_2.png': 0.8412898182868958,\n",
       "                                                    'img_3.png': 0.6182655096054077,\n",
       "                                                    'img_4.png': 0.8165140151977539}),\n",
       "                                       't4': defaultdict(float,\n",
       "                                                   {'img_1.png': 0.9150800108909607,\n",
       "                                                    'img_2.png': 0.8280150294303894,\n",
       "                                                    'img_3.png': 0.8039792776107788,\n",
       "                                                    'img_4.png': 0.7843567132949829}),\n",
       "                                       't5': defaultdict(float,\n",
       "                                                   {'img_1.png': 0.8195529580116272,\n",
       "                                                    'img_2.png': 0.7442981004714966,\n",
       "                                                    'img_3.png': 0.8340442776679993,\n",
       "                                                    'img_4.png': 0.7352110743522644})}),\n",
       "                          'split_2': defaultdict(<function __main__.p1()>,\n",
       "                                      {'t1': defaultdict(float,\n",
       "                                                   {'img_1.png': 0.924950897693634,\n",
       "                                                    'img_2.png': 0.9409027099609375,\n",
       "                                                    'img_3.png': 0.9053444266319275,\n",
       "                                                    'img_4.png': 0.9567304849624634}),\n",
       "                                       't2': defaultdict(float,\n",
       "                                                   {'img_1.png': 0.9471306204795837,\n",
       "                                                    'img_2.png': 0.7230476140975952,\n",
       "                                                    'img_3.png': 0.7140498161315918,\n",
       "                                                    'img_4.png': 0.9352014660835266}),\n",
       "                                       't3': defaultdict(float,\n",
       "                                                   {'img_1.png': 0.894233226776123,\n",
       "                                                    'img_2.png': 0.8823778629302979,\n",
       "                                                    'img_3.png': 0.9448191523551941,\n",
       "                                                    'img_4.png': 0.8807090520858765}),\n",
       "                                       't4': defaultdict(float,\n",
       "                                                   {'img_1.png': 0.7057756185531616,\n",
       "                                                    'img_2.png': 0.8443994522094727,\n",
       "                                                    'img_3.png': 0.9125522971153259,\n",
       "                                                    'img_4.png': 0.6829310655593872}),\n",
       "                                       't5': defaultdict(float,\n",
       "                                                   {'img_1.png': 0.8592634797096252,\n",
       "                                                    'img_2.png': 0.7327969074249268,\n",
       "                                                    'img_3.png': 0.7868883609771729,\n",
       "                                                    'img_4.png': 0.7694406509399414})}),\n",
       "                          'split_3': defaultdict(<function __main__.p1()>,\n",
       "                                      {'t1': defaultdict(float,\n",
       "                                                   {'img_1.png': 0.9296366572380066,\n",
       "                                                    'img_2.png': 0.9132758378982544,\n",
       "                                                    'img_3.png': 0.7976059913635254,\n",
       "                                                    'img_4.png': 0.961663007736206}),\n",
       "                                       't2': defaultdict(float,\n",
       "                                                   {'img_1.png': 0.9407562613487244,\n",
       "                                                    'img_2.png': 0.8202152252197266,\n",
       "                                                    'img_3.png': 0.896457314491272,\n",
       "                                                    'img_4.png': 0.9029035568237305}),\n",
       "                                       't3': defaultdict(float,\n",
       "                                                   {'img_1.png': 0.8778681755065918,\n",
       "                                                    'img_2.png': 0.919556200504303,\n",
       "                                                    'img_3.png': 0.7563090920448303,\n",
       "                                                    'img_4.png': 0.759592592716217}),\n",
       "                                       't4': defaultdict(float,\n",
       "                                                   {'img_1.png': 0.7497333288192749,\n",
       "                                                    'img_2.png': 0.7640643119812012,\n",
       "                                                    'img_3.png': 0.8673062920570374,\n",
       "                                                    'img_4.png': 0.7927289009094238}),\n",
       "                                       't5': defaultdict(float,\n",
       "                                                   {'img_1.png': 0.7806564569473267,\n",
       "                                                    'img_2.png': 0.720475435256958,\n",
       "                                                    'img_3.png': 0.8092723488807678,\n",
       "                                                    'img_4.png': 0.7985904216766357})})}),\n",
       "             'VGG16': defaultdict(<function __main__.p2()>,\n",
       "                         {'split_1': defaultdict(<function __main__.p1()>,\n",
       "                                      {'t1': defaultdict(float,\n",
       "                                                   {'img_1.png': 0.9451419115066528,\n",
       "                                                    'img_2.png': 0.7573606967926025,\n",
       "                                                    'img_3.png': 0.9434381723403931,\n",
       "                                                    'img_4.png': 0.8831897974014282}),\n",
       "                                       't2': defaultdict(float,\n",
       "                                                   {'img_1.png': 0.8557201623916626,\n",
       "                                                    'img_2.png': 0.8773505687713623,\n",
       "                                                    'img_3.png': 0.9144368171691895,\n",
       "                                                    'img_4.png': 0.8993535041809082}),\n",
       "                                       't3': defaultdict(float,\n",
       "                                                   {'img_1.png': 0.9389399290084839,\n",
       "                                                    'img_2.png': 0.8735474348068237,\n",
       "                                                    'img_3.png': 0.8682730197906494,\n",
       "                                                    'img_4.png': 0.8971871137619019}),\n",
       "                                       't4': defaultdict(float,\n",
       "                                                   {'img_1.png': 0.9242799282073975,\n",
       "                                                    'img_2.png': 0.9240725040435791,\n",
       "                                                    'img_3.png': 0.8433241248130798,\n",
       "                                                    'img_4.png': 0.8330808281898499}),\n",
       "                                       't5': defaultdict(float,\n",
       "                                                   {'img_1.png': 0.8883178234100342,\n",
       "                                                    'img_2.png': 0.7765381336212158,\n",
       "                                                    'img_3.png': 0.9389860033988953,\n",
       "                                                    'img_4.png': 0.8069167733192444})}),\n",
       "                          'split_2': defaultdict(<function __main__.p1()>,\n",
       "                                      {'t1': defaultdict(float,\n",
       "                                                   {'img_1.png': 0.9370269775390625,\n",
       "                                                    'img_2.png': 0.9683976173400879,\n",
       "                                                    'img_3.png': 0.9752787351608276,\n",
       "                                                    'img_4.png': 0.9790031313896179}),\n",
       "                                       't2': defaultdict(float,\n",
       "                                                   {'img_1.png': 0.954422652721405,\n",
       "                                                    'img_2.png': 0.750289797782898,\n",
       "                                                    'img_3.png': 0.7631789445877075,\n",
       "                                                    'img_4.png': 0.9217870831489563}),\n",
       "                                       't3': defaultdict(float,\n",
       "                                                   {'img_1.png': 0.8861279487609863,\n",
       "                                                    'img_2.png': 0.93019700050354,\n",
       "                                                    'img_3.png': 0.9540339112281799,\n",
       "                                                    'img_4.png': 0.9060148000717163}),\n",
       "                                       't4': defaultdict(float,\n",
       "                                                   {'img_1.png': 0.7427390217781067,\n",
       "                                                    'img_2.png': 0.8852518796920776,\n",
       "                                                    'img_3.png': 0.9522871971130371,\n",
       "                                                    'img_4.png': 0.7453068494796753}),\n",
       "                                       't5': defaultdict(float,\n",
       "                                                   {'img_1.png': 0.8714171648025513,\n",
       "                                                    'img_2.png': 0.7909777760505676,\n",
       "                                                    'img_3.png': 0.8826944828033447,\n",
       "                                                    'img_4.png': 0.7873817682266235})}),\n",
       "                          'split_3': defaultdict(<function __main__.p1()>,\n",
       "                                      {'t1': defaultdict(float,\n",
       "                                                   {'img_1.png': 0.8959355354309082,\n",
       "                                                    'img_2.png': 0.9184600114822388,\n",
       "                                                    'img_3.png': 0.8833379149436951,\n",
       "                                                    'img_4.png': 0.9355846643447876}),\n",
       "                                       't2': defaultdict(float,\n",
       "                                                   {'img_1.png': 0.9190065860748291,\n",
       "                                                    'img_2.png': 0.9379822015762329,\n",
       "                                                    'img_3.png': 0.8777731657028198,\n",
       "                                                    'img_4.png': 0.841126561164856}),\n",
       "                                       't3': defaultdict(float,\n",
       "                                                   {'img_1.png': 0.8500010967254639,\n",
       "                                                    'img_2.png': 0.8695248365402222,\n",
       "                                                    'img_3.png': 0.8805383443832397,\n",
       "                                                    'img_4.png': 0.6629056930541992}),\n",
       "                                       't4': defaultdict(float,\n",
       "                                                   {'img_1.png': 0.7902619242668152,\n",
       "                                                    'img_2.png': 0.8974852561950684,\n",
       "                                                    'img_3.png': 0.9188292622566223,\n",
       "                                                    'img_4.png': 0.8633368015289307}),\n",
       "                                       't5': defaultdict(float,\n",
       "                                                   {'img_1.png': 0.8756526708602905,\n",
       "                                                    'img_2.png': 0.7515243887901306,\n",
       "                                                    'img_3.png': 0.861039400100708,\n",
       "                                                    'img_4.png': 0.8391571044921875})})}),\n",
       "             'DenseNet121': defaultdict(<function __main__.p2()>,\n",
       "                         {'split_1': defaultdict(<function __main__.p1()>,\n",
       "                                      {'t1': defaultdict(float,\n",
       "                                                   {'img_1.png': 0.9056536555290222,\n",
       "                                                    'img_2.png': 0.8074489831924438,\n",
       "                                                    'img_3.png': 0.9416059851646423,\n",
       "                                                    'img_4.png': 0.7521934509277344}),\n",
       "                                       't2': defaultdict(float,\n",
       "                                                   {'img_1.png': 0.7596876621246338,\n",
       "                                                    'img_2.png': 0.9172914624214172,\n",
       "                                                    'img_3.png': 0.8391923904418945,\n",
       "                                                    'img_4.png': 0.8332018256187439}),\n",
       "                                       't3': defaultdict(float,\n",
       "                                                   {'img_1.png': 0.9103479981422424,\n",
       "                                                    'img_2.png': 0.7903880476951599,\n",
       "                                                    'img_3.png': 0.8156121969223022,\n",
       "                                                    'img_4.png': 0.725121021270752}),\n",
       "                                       't4': defaultdict(float,\n",
       "                                                   {'img_1.png': 0.8904812335968018,\n",
       "                                                    'img_2.png': 0.8413427472114563,\n",
       "                                                    'img_3.png': 0.7754999399185181,\n",
       "                                                    'img_4.png': 0.8384670615196228}),\n",
       "                                       't5': defaultdict(float,\n",
       "                                                   {'img_1.png': 0.7964428663253784,\n",
       "                                                    'img_2.png': 0.7162148356437683,\n",
       "                                                    'img_3.png': 0.7632062435150146,\n",
       "                                                    'img_4.png': 0.7098387479782104})}),\n",
       "                          'split_2': defaultdict(<function __main__.p1()>,\n",
       "                                      {'t1': defaultdict(float,\n",
       "                                                   {'img_1.png': 0.9385111331939697,\n",
       "                                                    'img_2.png': 0.9533625245094299,\n",
       "                                                    'img_3.png': 0.8627578020095825,\n",
       "                                                    'img_4.png': 0.9731813073158264}),\n",
       "                                       't2': defaultdict(float,\n",
       "                                                   {'img_1.png': 0.8952608108520508,\n",
       "                                                    'img_2.png': 0.7449841499328613,\n",
       "                                                    'img_3.png': 0.8601250648498535,\n",
       "                                                    'img_4.png': 0.9208920001983643}),\n",
       "                                       't3': defaultdict(float,\n",
       "                                                   {'img_1.png': 0.8342703580856323,\n",
       "                                                    'img_2.png': 0.8973948955535889,\n",
       "                                                    'img_3.png': 0.9474320411682129,\n",
       "                                                    'img_4.png': 0.9309781789779663}),\n",
       "                                       't4': defaultdict(float,\n",
       "                                                   {'img_1.png': 0.8416874408721924,\n",
       "                                                    'img_2.png': 0.9085949063301086,\n",
       "                                                    'img_3.png': 0.8860679268836975,\n",
       "                                                    'img_4.png': 0.7200852632522583}),\n",
       "                                       't5': defaultdict(float,\n",
       "                                                   {'img_1.png': 0.904511570930481,\n",
       "                                                    'img_2.png': 0.8271444439888,\n",
       "                                                    'img_3.png': 0.8459598422050476,\n",
       "                                                    'img_4.png': 0.8003270626068115})}),\n",
       "                          'split_3': defaultdict(<function __main__.p1()>,\n",
       "                                      {'t1': defaultdict(float,\n",
       "                                                   {'img_1.png': 0.944373607635498,\n",
       "                                                    'img_2.png': 0.8980356454849243,\n",
       "                                                    'img_3.png': 0.8590154647827148,\n",
       "                                                    'img_4.png': 0.9711878299713135}),\n",
       "                                       't2': defaultdict(float,\n",
       "                                                   {'img_1.png': 0.9590768218040466,\n",
       "                                                    'img_2.png': 0.9093566536903381,\n",
       "                                                    'img_3.png': 0.8432173728942871,\n",
       "                                                    'img_4.png': 0.9215638637542725}),\n",
       "                                       't3': defaultdict(float,\n",
       "                                                   {'img_1.png': 0.9179656505584717,\n",
       "                                                    'img_2.png': 0.9359429478645325,\n",
       "                                                    'img_3.png': 0.860811710357666,\n",
       "                                                    'img_4.png': 0.748099148273468}),\n",
       "                                       't4': defaultdict(float,\n",
       "                                                   {'img_1.png': 0.7287548184394836,\n",
       "                                                    'img_2.png': 0.8905153274536133,\n",
       "                                                    'img_3.png': 0.9289356470108032,\n",
       "                                                    'img_4.png': 0.8042725324630737}),\n",
       "                                       't5': defaultdict(float,\n",
       "                                                   {'img_1.png': 0.8017799854278564,\n",
       "                                                    'img_2.png': 0.783376932144165,\n",
       "                                                    'img_3.png': 0.7531920671463013,\n",
       "                                                    'img_4.png': 0.8560993671417236})})}),\n",
       "             'InceptionV3': defaultdict(<function __main__.p2()>,\n",
       "                         {'split_1': defaultdict(<function __main__.p1()>,\n",
       "                                      {'t1': defaultdict(float,\n",
       "                                                   {'img_1.png': 0.7889605760574341,\n",
       "                                                    'img_2.png': 0.7829355597496033,\n",
       "                                                    'img_3.png': 0.8769323229789734,\n",
       "                                                    'img_4.png': 0.501495361328125}),\n",
       "                                       't2': defaultdict(float,\n",
       "                                                   {'img_1.png': 0.4555840492248535,\n",
       "                                                    'img_2.png': 0.8138024210929871,\n",
       "                                                    'img_3.png': 0.7455592155456543,\n",
       "                                                    'img_4.png': 0.812408447265625}),\n",
       "                                       't3': defaultdict(float,\n",
       "                                                   {'img_1.png': 0.7921473979949951,\n",
       "                                                    'img_2.png': 0.6415508985519409,\n",
       "                                                    'img_3.png': 0.45309314131736755,\n",
       "                                                    'img_4.png': 0.6023341417312622}),\n",
       "                                       't4': defaultdict(float,\n",
       "                                                   {'img_1.png': 0.6160808801651001,\n",
       "                                                    'img_2.png': 0.6432228684425354,\n",
       "                                                    'img_3.png': 0.6294879913330078,\n",
       "                                                    'img_4.png': 0.6939668655395508}),\n",
       "                                       't5': defaultdict(float,\n",
       "                                                   {'img_1.png': 0.6705648303031921,\n",
       "                                                    'img_2.png': 0.5932840704917908,\n",
       "                                                    'img_3.png': 0.6767157316207886,\n",
       "                                                    'img_4.png': 0.6082635521888733})}),\n",
       "                          'split_2': defaultdict(<function __main__.p1()>,\n",
       "                                      {'t1': defaultdict(float,\n",
       "                                                   {'img_1.png': 0.8351428508758545,\n",
       "                                                    'img_2.png': 0.8218851685523987,\n",
       "                                                    'img_3.png': 0.6250522136688232,\n",
       "                                                    'img_4.png': 0.9332311749458313}),\n",
       "                                       't2': defaultdict(float,\n",
       "                                                   {'img_1.png': 0.753860592842102,\n",
       "                                                    'img_2.png': 0.6120424270629883,\n",
       "                                                    'img_3.png': 0.5996797680854797,\n",
       "                                                    'img_4.png': 0.8542181253433228}),\n",
       "                                       't3': defaultdict(float,\n",
       "                                                   {'img_1.png': 0.5875080823898315,\n",
       "                                                    'img_2.png': 0.5736747980117798,\n",
       "                                                    'img_3.png': 0.9009518623352051,\n",
       "                                                    'img_4.png': 0.8424789309501648}),\n",
       "                                       't4': defaultdict(float,\n",
       "                                                   {'img_1.png': 0.5935089588165283,\n",
       "                                                    'img_2.png': 0.6994038224220276,\n",
       "                                                    'img_3.png': 0.7099176645278931,\n",
       "                                                    'img_4.png': 0.4914708137512207}),\n",
       "                                       't5': defaultdict(float,\n",
       "                                                   {'img_1.png': 0.6574604511260986,\n",
       "                                                    'img_2.png': 0.7247376441955566,\n",
       "                                                    'img_3.png': 0.6363849639892578,\n",
       "                                                    'img_4.png': 0.5363816618919373})}),\n",
       "                          'split_3': defaultdict(<function __main__.p1()>,\n",
       "                                      {'t1': defaultdict(float,\n",
       "                                                   {'img_1.png': 0.9001716375350952,\n",
       "                                                    'img_2.png': 0.8267716765403748,\n",
       "                                                    'img_3.png': 0.7045526504516602,\n",
       "                                                    'img_4.png': 0.9129847288131714}),\n",
       "                                       't2': defaultdict(float,\n",
       "                                                   {'img_1.png': 0.8704062700271606,\n",
       "                                                    'img_2.png': 0.7347720861434937,\n",
       "                                                    'img_3.png': 0.785453736782074,\n",
       "                                                    'img_4.png': 0.7181368470191956}),\n",
       "                                       't3': defaultdict(float,\n",
       "                                                   {'img_1.png': 0.7738746404647827,\n",
       "                                                    'img_2.png': 0.7153239250183105,\n",
       "                                                    'img_3.png': 0.6712663173675537,\n",
       "                                                    'img_4.png': 0.5437273383140564}),\n",
       "                                       't4': defaultdict(float,\n",
       "                                                   {'img_1.png': 0.5928642153739929,\n",
       "                                                    'img_2.png': 0.6935805082321167,\n",
       "                                                    'img_3.png': 0.7043875455856323,\n",
       "                                                    'img_4.png': 0.6493561863899231}),\n",
       "                                       't5': defaultdict(float,\n",
       "                                                   {'img_1.png': 0.7162361741065979,\n",
       "                                                    'img_2.png': 0.6229211091995239,\n",
       "                                                    'img_3.png': 0.6069240570068359,\n",
       "                                                    'img_4.png': 0.680904746055603})})}),\n",
       "             'AlexNet': defaultdict(<function __main__.p2()>,\n",
       "                         {'split_1': defaultdict(<function __main__.p1()>,\n",
       "                                      {'t1': defaultdict(float,\n",
       "                                                   {'img_1.png': 0.9707649350166321,\n",
       "                                                    'img_2.png': 0.9167857766151428,\n",
       "                                                    'img_3.png': 0.9686169624328613,\n",
       "                                                    'img_4.png': 0.781530499458313}),\n",
       "                                       't2': defaultdict(float,\n",
       "                                                   {'img_1.png': 0.823030412197113,\n",
       "                                                    'img_2.png': 0.9364392757415771,\n",
       "                                                    'img_3.png': 0.8647830486297607,\n",
       "                                                    'img_4.png': 0.9338697791099548}),\n",
       "                                       't3': defaultdict(float,\n",
       "                                                   {'img_1.png': 0.9505308270454407,\n",
       "                                                    'img_2.png': 0.8695927262306213,\n",
       "                                                    'img_3.png': 0.7887568473815918,\n",
       "                                                    'img_4.png': 0.8852732181549072}),\n",
       "                                       't4': defaultdict(float,\n",
       "                                                   {'img_1.png': 0.9502462148666382,\n",
       "                                                    'img_2.png': 0.8992042541503906,\n",
       "                                                    'img_3.png': 0.9052466750144958,\n",
       "                                                    'img_4.png': 0.8622478246688843}),\n",
       "                                       't5': defaultdict(float,\n",
       "                                                   {'img_1.png': 0.7966047525405884,\n",
       "                                                    'img_2.png': 0.7812080383300781,\n",
       "                                                    'img_3.png': 0.8444604873657227,\n",
       "                                                    'img_4.png': 0.857306718826294})}),\n",
       "                          'split_2': defaultdict(<function __main__.p1()>,\n",
       "                                      {'t1': defaultdict(float,\n",
       "                                                   {'img_1.png': 0.9323545694351196,\n",
       "                                                    'img_2.png': 0.957406759262085,\n",
       "                                                    'img_3.png': 0.948379397392273,\n",
       "                                                    'img_4.png': 0.983832061290741}),\n",
       "                                       't2': defaultdict(float,\n",
       "                                                   {'img_1.png': 0.9633362889289856,\n",
       "                                                    'img_2.png': 0.8228740692138672,\n",
       "                                                    'img_3.png': 0.7391358017921448,\n",
       "                                                    'img_4.png': 0.8981953263282776}),\n",
       "                                       't3': defaultdict(float,\n",
       "                                                   {'img_1.png': 0.9420726299285889,\n",
       "                                                    'img_2.png': 0.9394494295120239,\n",
       "                                                    'img_3.png': 0.9677554965019226,\n",
       "                                                    'img_4.png': 0.9379409551620483}),\n",
       "                                       't4': defaultdict(float,\n",
       "                                                   {'img_1.png': 0.690264105796814,\n",
       "                                                    'img_2.png': 0.8205982446670532,\n",
       "                                                    'img_3.png': 0.9557428359985352,\n",
       "                                                    'img_4.png': 0.7721191644668579}),\n",
       "                                       't5': defaultdict(float,\n",
       "                                                   {'img_1.png': 0.9288018941879272,\n",
       "                                                    'img_2.png': 0.6485071182250977,\n",
       "                                                    'img_3.png': 0.8614819049835205,\n",
       "                                                    'img_4.png': 0.7618030905723572})}),\n",
       "                          'split_3': defaultdict(<function __main__.p1()>,\n",
       "                                      {'t1': defaultdict(float,\n",
       "                                                   {'img_1.png': 0.9869810342788696,\n",
       "                                                    'img_2.png': 0.9390313625335693,\n",
       "                                                    'img_3.png': 0.909335732460022,\n",
       "                                                    'img_4.png': 0.9825479984283447}),\n",
       "                                       't2': defaultdict(float,\n",
       "                                                   {'img_1.png': 0.9560254812240601,\n",
       "                                                    'img_2.png': 0.9505482912063599,\n",
       "                                                    'img_3.png': 0.8187084794044495,\n",
       "                                                    'img_4.png': 0.9541037678718567}),\n",
       "                                       't3': defaultdict(float,\n",
       "                                                   {'img_1.png': 0.9392154812812805,\n",
       "                                                    'img_2.png': 0.9661769866943359,\n",
       "                                                    'img_3.png': 0.908228874206543,\n",
       "                                                    'img_4.png': 0.8984721899032593}),\n",
       "                                       't4': defaultdict(float,\n",
       "                                                   {'img_1.png': 0.840688943862915,\n",
       "                                                    'img_2.png': 0.8966209292411804,\n",
       "                                                    'img_3.png': 0.9396743774414062,\n",
       "                                                    'img_4.png': 0.8920950889587402}),\n",
       "                                       't5': defaultdict(float,\n",
       "                                                   {'img_1.png': 0.930060863494873,\n",
       "                                                    'img_2.png': 0.7732363939285278,\n",
       "                                                    'img_3.png': 0.887017548084259,\n",
       "                                                    'img_4.png': 0.8856490850448608})})})})"
      ]
     },
     "execution_count": 74,
     "metadata": {},
     "output_type": "execute_result"
    }
   ],
   "source": [
    "similaritiesdict"
   ]
  },
  {
   "cell_type": "code",
   "execution_count": 75,
   "metadata": {},
   "outputs": [],
   "source": [
    "with open('similarities/geometric/fullresults.pkl', 'wb') as f:\n",
    "    pickle.dump(similaritiesdict, f)"
   ]
  },
  {
   "cell_type": "markdown",
   "metadata": {},
   "source": [
    "# Visualizations"
   ]
  },
  {
   "cell_type": "code",
   "execution_count": 79,
   "metadata": {},
   "outputs": [],
   "source": [
    "temp = defaultdict(lambda: defaultdict(list))\n",
    "for modelname, v1 in similaritiesdict.items():\n",
    "    for split_, v2 in v1.items():\n",
    "        for t, v3 in v2.items():\n",
    "            sims = []\n",
    "            for img_name, sim in v3.items():\n",
    "                sims.append(sim)\n",
    "            temp[modelname][t].extend(sims)\n",
    "vizdict = defaultdict(list)\n",
    "for modelname, v1 in temp.items():\n",
    "    for t, v2 in v1.items():\n",
    "        meansim = np.mean(v2)\n",
    "        vizdict[modelname].append(meansim)"
   ]
  },
  {
   "cell_type": "code",
   "execution_count": 80,
   "metadata": {},
   "outputs": [
    {
     "data": {
      "text/plain": [
       "defaultdict(list,\n",
       "            {'ResNet18': [0.9071347266435623,\n",
       "              0.849733367562294,\n",
       "              0.8402619163195292,\n",
       "              0.8042435248692831,\n",
       "              0.7825408726930618],\n",
       "             'VGG16': [0.9185129304726919,\n",
       "              0.8760356704394022,\n",
       "              0.8764409273862839,\n",
       "              0.8600212981303533,\n",
       "              0.8392169574896494],\n",
       "             'DenseNet121': [0.9006106158097585,\n",
       "              0.8669875065485636,\n",
       "              0.8595303495724996,\n",
       "              0.8378920704126358,\n",
       "              0.7965078304211298],\n",
       "             'InceptionV3': [0.7925096601247787,\n",
       "              0.7296603322029114,\n",
       "              0.6748276228706042,\n",
       "              0.6431040267149607,\n",
       "              0.644231582681338],\n",
       "             'AlexNet': [0.9397972573836645,\n",
       "              0.8884208351373672,\n",
       "              0.9161221385002136,\n",
       "              0.8687290549278259,\n",
       "              0.8296781579653422]})"
      ]
     },
     "execution_count": 80,
     "metadata": {},
     "output_type": "execute_result"
    }
   ],
   "source": [
    "vizdict"
   ]
  },
  {
   "cell_type": "code",
   "execution_count": 84,
   "metadata": {},
   "outputs": [
    {
     "data": {
      "image/png": "[encoded data removed]",
      "text/plain": [
       "<Figure size 640x480 with 1 Axes>"
      ]
     },
     "metadata": {},
     "output_type": "display_data"
    }
   ],
   "source": [
    "for k, v in vizdict.items():\n",
    "    plt.plot([0, 1, 2, 3, 4], v, label=k, linestyle='-', marker='x')\n",
    "\n",
    "plt.xlabel(\"Number of Transformations Applied\")\n",
    "plt.ylabel(\"Mean Cosine Similarity\")\n",
    "plt.title(\"Mean Cosine Similarity Between Input-Output Images\")\n",
    "plt.ylim(0.55, 1)\n",
    "plt.xticks([0, 1, 2, 3, 4], ['1', '2', '3', '4', '5'])\n",
    "plt.legend(loc='lower left')\n",
    "plt.show()"
   ]
  }
 ],
 "metadata": {
  "kernelspec": {
   "display_name": "pytorch",
   "language": "python",
   "name": "python3"
  },
  "language_info": {
   "codemirror_mode": {
    "name": "ipython",
    "version": 3
   },
   "file_extension": ".py",
   "mimetype": "text/x-python",
   "name": "python",
   "nbconvert_exporter": "python",
   "pygments_lexer": "ipython3",
   "version": "3.10.13"
  }
 },
 "nbformat": 4,
 "nbformat_minor": 2
}
